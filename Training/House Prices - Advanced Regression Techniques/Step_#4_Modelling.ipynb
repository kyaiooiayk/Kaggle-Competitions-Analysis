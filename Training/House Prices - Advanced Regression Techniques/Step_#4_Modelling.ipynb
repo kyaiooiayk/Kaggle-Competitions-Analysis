{
 "cells": [
  {
   "cell_type": "markdown",
   "metadata": {},
   "source": [
    "# Introduction\n",
    "<hr style=\"border:2px solid black\"> </hr>"
   ]
  },
  {
   "cell_type": "markdown",
   "metadata": {},
   "source": [
    "- **What?** Kaggle competition: House Prices - Advanced Regression Techniques. This particular notebook serves as a common repository to code snippets of my own or taken from other kagglers.\n",
    "\n",
    "- **Dataset description** Ask a home buyer to describe their dream house, and they probably won’t begin with the height of the basement ceiling or the proximity to an east-west railroad. But this playground competition’s dataset proves that much more influences price negotiations than the number of bedrooms or a white-picket fence. With 79 explanatory variables describing (almost) every aspect of residential homes in Ames, Iowa, this competition challenges you to predict the final price of each home."
   ]
  },
  {
   "cell_type": "markdown",
   "metadata": {},
   "source": [
    "# General info\n",
    "<hr style=\"border:2px solid black\"> </hr>"
   ]
  },
  {
   "cell_type": "markdown",
   "metadata": {},
   "source": [
    "- To promote code reusability and tidiness, I will try to bring inside a method most of the actions performed in this notebook.\n",
    "- If you do not like it, it would extremely easy to get rid of the method and use the content as a code snippet.\n",
    "- Please, consider this notebooks as a collections of idea taken (and made mine with some modifications) from several notebooks published by other kagglers who generously shared their idea. Here I am returning the favour for the benefit of the others."
   ]
  },
  {
   "cell_type": "markdown",
   "metadata": {},
   "source": [
    "# Import modules\n",
    "<hr style=\"border:2px solid black\"> </hr>"
   ]
  },
  {
   "cell_type": "code",
   "execution_count": null,
   "metadata": {},
   "outputs": [],
   "source": [
    "# Dara wrangling\n",
    "import pandas as pd\n",
    "import numpy as np\n",
    "from collections import Counter\n",
    "import copy\n",
    "from functools import reduce\n",
    "import pandas_profiling as pp\n",
    "from sklearn.decomposition import PCA\n",
    "from sklearn.preprocessing import StandardScaler\n",
    "\n",
    "# Features engineering\n",
    "from sklearn.preprocessing import LabelEncoder\n",
    "\n",
    "# Plotting\n",
    "import matplotlib.pyplot as plt\n",
    "from matplotlib import rcParams\n",
    "import seaborn as sns\n",
    "\n",
    "# Statistics\n",
    "from scipy.stats import norm\n",
    "from scipy import stats\n",
    "from scipy.stats import ttest_ind\n",
    "import statsmodels.api as sm\n",
    "from scipy.stats import spearmanr, kendalltau\n",
    "from scipy.special import boxcox1p\n",
    "from scipy.stats import boxcox_normmax\n",
    "\n",
    "# Modelling\n",
    "from sklearn import metrics\n",
    "from sklearn.model_selection import train_test_split\n",
    "from sklearn.model_selection import LeaveOneOut, ShuffleSplit, GroupKFold\n",
    "from sklearn.linear_model import LinearRegression, BayesianRidge\n",
    "from sklearn.model_selection import KFold, cross_val_score, cross_validate\n",
    "from sklearn import linear_model\n",
    "from sklearn.linear_model import ElasticNet\n",
    "from xgboost import XGBRegressor\n",
    "from sklearn.kernel_ridge import KernelRidge\n",
    "from sklearn.linear_model import Ridge, RidgeCV\n",
    "from catboost import Pool\n",
    "from sklearn.svm import SVR\n",
    "from catboost import CatBoostRegressor\n",
    "from lightgbm import LGBMRegressor\n",
    "from sklearn.naive_bayes import GaussianNB\n",
    "from sklearn.tree import DecisionTreeRegressor\n",
    "from mlxtend.regressor import StackingRegressor\n",
    "from sklearn.linear_model import LinearRegression, BayesianRidge\n",
    "from sklearn.ensemble import BaggingRegressor\n",
    "from sklearn.ensemble import GradientBoostingRegressor, RandomForestRegressor\n",
    "from sklearn.ensemble import AdaBoostRegressor, BaggingRegressor, ExtraTreesRegressor\n",
    "from sklearn.model_selection import GridSearchCV, RandomizedSearchCV\n",
    "from sklearn.metrics import mean_squared_error\n",
    "from sklearn.pipeline import make_pipeline\n",
    "from sklearn.preprocessing import RobustScaler\n",
    "from sklearn.linear_model import SGDRegressor\n",
    "\n",
    "# ANNS\n",
    "from tensorflow.keras.models import Sequential\n",
    "from tensorflow.keras.layers import Input, Dense, Activation, Dropout\n",
    "from tensorflow.keras.optimizers import Adam\n",
    "from keras.losses import mean_squared_error as mse_loss\n",
    "from keras.callbacks import EarlyStopping, ModelCheckpoint, ReduceLROnPlateau\n",
    "from keras import backend as K\n",
    "from keras.layers import LeakyReLU"
   ]
  },
  {
   "cell_type": "code",
   "execution_count": null,
   "metadata": {},
   "outputs": [],
   "source": [
    "# Other notebook settings\n",
    "pd.set_option('display.max_rows', None)\n",
    "pd.set_option('display.max_columns', None)\n",
    "pd.set_option('display.float_format', lambda x: '%.5f' % x)\n",
    "import warnings\n",
    "warnings.filterwarnings(\"ignore\")\n",
    "from IPython.display import display as dsp"
   ]
  },
  {
   "cell_type": "markdown",
   "metadata": {},
   "source": [
    "# Load datasets\n",
    "<hr style=\"border:2px solid black\"> </hr>"
   ]
  },
  {
   "cell_type": "code",
   "execution_count": null,
   "metadata": {},
   "outputs": [],
   "source": [
    "!ls"
   ]
  },
  {
   "cell_type": "code",
   "execution_count": null,
   "metadata": {
    "code_folding": [
     0
    ]
   },
   "outputs": [],
   "source": [
    "def load_data():   \n",
    "    \"\"\"Load data\n",
    "    \n",
    "    Load the train and test data as provided by Kaggle.\n",
    "    Keep in mind that the way Kaggle provide the data is\n",
    "    different than the usual idea we have of the trian-test\n",
    "    split. In particular, the target column is not present\n",
    "    in the test set.\n",
    "    \n",
    "    Parameters\n",
    "    ----------\n",
    "    None\n",
    "    \n",
    "    Returns\n",
    "    -------\n",
    "    train - pandas dataframe\n",
    "    test - pandas dataframe\n",
    "    \"\"\"\n",
    "    \n",
    "    print(\"\\nLoading data\")\n",
    "    # Read the train data\n",
    "    print(\"Read train set\")\n",
    "    train = pd.read_csv('./train_clean.csv')\n",
    "    # Read the test data\n",
    "    print(\"Read test set\")\n",
    "    test = pd.read_csv('./test_clean.csv')\n",
    "    \n",
    "    print(\"Train size\", train.shape)\n",
    "    print(\"Test size:\", test.shape)\n",
    "    \n",
    "    train_features = train.columns\n",
    "    test_features = test.columns       \n",
    "    print(\"Not share columns: \", set(train_features).difference(test_features))\n",
    "    print(\"Not share columns: \", set(test_features).difference(train_features))\n",
    "    \n",
    "    \n",
    "    return train, test"
   ]
  },
  {
   "cell_type": "code",
   "execution_count": null,
   "metadata": {},
   "outputs": [],
   "source": [
    "# Read data for the first time\n",
    "df_train, df_test = load_data()"
   ]
  },
  {
   "cell_type": "code",
   "execution_count": null,
   "metadata": {
    "scrolled": true
   },
   "outputs": [],
   "source": [
    "Id_test = df_test[\"ID\"]\n",
    "df_test = df_test.drop(columns=[\"ID\"])"
   ]
  },
  {
   "cell_type": "code",
   "execution_count": null,
   "metadata": {},
   "outputs": [],
   "source": [
    "X = df_train.drop(['SalePrice'], axis=1)\n",
    "y = df_train['SalePrice']"
   ]
  },
  {
   "cell_type": "markdown",
   "metadata": {},
   "source": [
    "# Sanity checks"
   ]
  },
  {
   "cell_type": "code",
   "execution_count": null,
   "metadata": {
    "cell_style": "center"
   },
   "outputs": [],
   "source": [
    "df_train.info"
   ]
  },
  {
   "cell_type": "code",
   "execution_count": null,
   "metadata": {
    "cell_style": "center"
   },
   "outputs": [],
   "source": [
    "df_test.info"
   ]
  },
  {
   "cell_type": "code",
   "execution_count": null,
   "metadata": {
    "cell_style": "split"
   },
   "outputs": [],
   "source": [
    "df_train.isnull().sum()"
   ]
  },
  {
   "cell_type": "code",
   "execution_count": null,
   "metadata": {
    "cell_style": "split"
   },
   "outputs": [],
   "source": [
    "df_test.isnull().sum()"
   ]
  },
  {
   "cell_type": "code",
   "execution_count": null,
   "metadata": {
    "cell_style": "split"
   },
   "outputs": [],
   "source": [
    "np.isnan(df_train).sum()"
   ]
  },
  {
   "cell_type": "code",
   "execution_count": null,
   "metadata": {
    "cell_style": "split"
   },
   "outputs": [],
   "source": [
    "np.isnan(df_test).sum()"
   ]
  },
  {
   "cell_type": "code",
   "execution_count": null,
   "metadata": {},
   "outputs": [],
   "source": [
    "df_train.describe()"
   ]
  },
  {
   "cell_type": "code",
   "execution_count": null,
   "metadata": {},
   "outputs": [],
   "source": [
    "df_train = df_train.astype(np.float64)\n",
    "df_test = df_test.astype(np.float64)"
   ]
  },
  {
   "cell_type": "markdown",
   "metadata": {},
   "source": [
    "# Spot-checking algorithm\n",
    "<hr style=\"border:2px solid black\"> </hr>"
   ]
  },
  {
   "cell_type": "markdown",
   "metadata": {},
   "source": [
    "- In this section we'll concentrate on **methods selection**. This is different than model selection beacuse this last concentrate on a single method but is taksed with finding the best model, hence the best instance of the method. It is a nomenclature used in this notebook only.\n",
    "- Split the train dataset in a ratio 7:3 for modeling.\n",
    "- For cross-validation scores we can feed the whole dataset as X. The splitting is done inside the kf and then by another function internally which take cares of train and test.\n",
    "- Please note that we compute the k-Fold once and so to be consistent when compare algorithms."
   ]
  },
  {
   "cell_type": "markdown",
   "metadata": {},
   "source": [
    "## How to estabish your method accuracy?"
   ]
  },
  {
   "cell_type": "markdown",
   "metadata": {},
   "source": [
    "<div class=\"alert alert-info\">\n",
    "<font color=black>\n",
    "\n",
    "- **k-Fold CV** is the gold standard for evaluating the performance of a machine learning algorithm on unseen data with k set to 3, 5, or 10. CV is an approach that you can use to estimate the performance of a ML algorithm with less variance than a single train-test set split. It works by splitting the dataset into k-parts. After running cross validation you end up with k different performance scores that you can summarize using a mean and a standard deviation.\n",
    "\n",
    "- **Train/test split** is good for speed when using a slow algorithm and produces performance estimates with lower bias when using large datasets. We can take our original dataset and split it into two parts. Train the algorithm on the first part, make predictions on the second part and evaluate the predictions against the expected results. CONS: A downside of this technique is that it can have a high variance. This means that differences in the training and test dataset can result in meaningful differences in the estimate of accuracy.\n",
    "\n",
    "- **leave-one-out**: You can configure cross validation so that the size of the fold is 1 (k is set to the number of observations in your dataset). This variation of cross validation is called leave-one-out cross validation. The result is a large number of performance measures that can be summarized in an effort to give a more reasonable estimate of the accuracy of your model on unseen data. CONS: A downside is that it can be a computationally more expensive procedure than k-fold cross validation. You can see in the standard deviation that the score has MORE variance than the k-fold cross validation results described above\n",
    "\n",
    "- **repeated random splits** Another variation on k-fold cross validation is to create a random split of the data like the train/test split described above, but repeat the process of splitting and evaluation of the algorithm multiple times, like cross validation. This has the speed of using a train/test split and the reduction in variance in the estimated performance of k-fold cross validation. CONS: A down side is that repetitions may include much of the same data in the train or the test split from run to run, introducing redundancy into the evaluatio\n",
    "\n",
    "- **GroupKFold** GroupKFold is a variation of k-fold which ensures that the same group is not represented in both testing and training sets. For example if the data is obtained from different subjects with several samples per-subject and if the model is flexible enough to learn from highly person specific features it could fail to generalize to new subjects. GroupKFold makes it possible to detect this kind of overfitting situations.\n",
    "\n",
    "- **The bottom line?** If in doubt, use 10-Fold CV.\n",
    "  \n",
    "</font>\n",
    "</div>"
   ]
  },
  {
   "cell_type": "markdown",
   "metadata": {},
   "source": [
    "<div class=\"alert alert-info\">\n",
    "<font color=black>\n",
    "\n",
    "| Methods                           | Type/variation of | Speed                        | Variance                   |\n",
    "| --------------------------------- | ----------------- | ---------------------------- | -------------------------- |\n",
    "| Train/test split                  | bare minimum      | Fastest                      | higher than k-fold         |\n",
    "| k-Fold                            | k-Fold            | Slower than train/test split | less than train/test split |\n",
    "| Leave-one-out                     | k-Fold            | Slower tha k-Fold            | higher than k-Fold         |\n",
    "| Repeated Random Test-Train Splits | Train/split       | Slower than train/test split | less than k-Fold           |\n",
    "| Group k-Fold                      | k-Fold            | ?                            | ?                          |\n",
    "\n",
    "\n",
    "</font>\n",
    "</div>"
   ]
  },
  {
   "cell_type": "code",
   "execution_count": null,
   "metadata": {},
   "outputs": [],
   "source": [
    "x_train, x_test, y_train, y_test = train_test_split(X, y, test_size=0.3)"
   ]
  },
  {
   "cell_type": "code",
   "execution_count": null,
   "metadata": {
    "code_folding": [
     0
    ]
   },
   "outputs": [],
   "source": [
    "def model_scores_on_train_test_splits(model, x_train, y_train, x_test, y_test, verbose=False, fit=True):\n",
    "\n",
    "    if fit == True:\n",
    "        # Fit the data only one train set\n",
    "        model.fit(x_train, y_train)\n",
    "\n",
    "    # Predict on both test and train. We'll use the test set to\n",
    "    # see the model generalisation and train to see how much is\n",
    "    # overfitting.\n",
    "    test_pred = model.predict(x_test)\n",
    "    train_pred = model.predict(x_train)\n",
    "\n",
    "    def _get_metrics(true, predicted):\n",
    "        mae = metrics.mean_absolute_error(true, predicted)\n",
    "        mse = metrics.mean_squared_error(true, predicted)\n",
    "        rmse = np.sqrt(metrics.mean_squared_error(true, predicted))\n",
    "        r2 = metrics.r2_score(true, predicted)\n",
    "        if verbose == True:\n",
    "            print('MAE:', mae)\n",
    "            print('MSE:', mse)\n",
    "            print('RMSE:', rmse)\n",
    "            print('R2', r2)\n",
    "            print(\"\")\n",
    "        return mae, mse, rmse, r2\n",
    "\n",
    "    table = pd.DataFrame()\n",
    "    table[\"metrics\"] = [\"MAE\", \"MSE\", \"RMSE\", \"R2\"]\n",
    "\n",
    "    mae, mse, rmse, r2 = _get_metrics(y_train, train_pred)\n",
    "    table[\"Train\"] = [mae, mse, rmse, r2]\n",
    "\n",
    "    mae, mse, rmse, r2 = _get_metrics(y_test, test_pred)\n",
    "    table[\"Test\"] = [mae, mse, rmse, r2]\n",
    "\n",
    "    return table"
   ]
  },
  {
   "cell_type": "code",
   "execution_count": null,
   "metadata": {
    "code_folding": []
   },
   "outputs": [],
   "source": [
    "def get_cv_scores(model, train_set, train_target, name, n_splits=10, state=42, test_size=0.25, type_=\"k-fold\", verbose=False):\n",
    "    \"\"\"Get the CV scores of the model.\n",
    "\n",
    "    To see the available keys\n",
    "    sklearn.metrics.SCORERS.keys()\n",
    "\n",
    "    The loocv does not have R2 because the function returns aNaN. \n",
    "    This could be fixed but I have not looked into it.\n",
    "\n",
    "    Parameters\n",
    "    ----------\n",
    "    model : object\n",
    "\n",
    "    train_set : pandas dataframe\n",
    "        Matrix contraining instances and features\n",
    "\n",
    "    train_target : pandas dataframe\n",
    "        target\n",
    "\n",
    "    name : string\n",
    "        name to be used in returns pandas dataframe\n",
    "\n",
    "    n_splits : int, default=10\n",
    "        No of splits\n",
    "\n",
    "    state : int, default=42\n",
    "        No for the random state pseudo number generator\n",
    "\n",
    "    test_size : float\n",
    "        Size of the test set between 0 and 1\n",
    "\n",
    "    type_ : string, default=\"k-fold\"\n",
    "        Type of cross-validation used\n",
    "\n",
    "    verbose : string, default=False\n",
    "        If True print on screen the results, otherwise it does \n",
    "        not print anything on console.\n",
    "\n",
    "    Returns\n",
    "    -------\n",
    "    table : pandas dataframe\n",
    "        Table containing the mean and std for each metrics.\n",
    "\n",
    "    split_strategy : iterator\n",
    "        Iterator used in the call, which can be used to access each fold or\n",
    "        training set splits.\n",
    "    \"\"\"\n",
    "\n",
    "    print(\"Type of CV selected\", type_)\n",
    "\n",
    "    # k-Fold\n",
    "    if type_ == \"k-fold\":\n",
    "        scoring = [\"neg_mean_absolute_error\", \"neg_mean_squared_error\",\n",
    "                   \"neg_root_mean_squared_error\", \"r2\"]\n",
    "        metrics_acronyms = [\"MAE\", \"MSE\", \"RMSE\", \"R2\"]\n",
    "        split_strategy = KFold(\n",
    "            n_splits=n_splits, random_state=state, shuffle=True)\n",
    "        result = cross_validate(model, train_set, train_target,\n",
    "                                scoring=scoring, cv=split_strategy, n_jobs=-1, return_train_score=True)\n",
    "    # Repeated train-test\n",
    "    elif type_ == \"repeated_tt\":\n",
    "        scoring = [\"neg_mean_absolute_error\", \"neg_mean_squared_error\",\n",
    "                   \"neg_root_mean_squared_error\", \"r2\"]\n",
    "        metrics_acronyms = [\"MAE\", \"MSE\", \"RMSE\", \"R2\"]\n",
    "        split_strategy = ShuffleSplit(\n",
    "            n_splits=n_splits, test_size=test_size, random_state=state)\n",
    "        result = cross_validate(model, train_set, train_target,\n",
    "                                scoring=scoring, cv=split_strategy, n_jobs=-1, return_train_score=True)\n",
    "\n",
    "    elif type_ == \"loocv\":\n",
    "        scoring = [\"neg_mean_absolute_error\", \"neg_mean_squared_error\",\n",
    "                   \"neg_root_mean_squared_error\"]\n",
    "        metrics_acronyms = [\"MAE\", \"MSE\", \"RMSE\"]\n",
    "        split_strategy = LeaveOneOut()\n",
    "        result = cross_validate(model, train_set, train_target,\n",
    "                                scoring=scoring, cv=split_strategy, n_jobs=-1, return_train_score=True)\n",
    "\n",
    "    mean, std = [], []\n",
    "    for i in scoring:\n",
    "        if verbose == True:\n",
    "            print(\"***********\")\n",
    "            print(\"Scoring: \", i)\n",
    "            print(\"Folds:\", [abs(i) for i in result[\"test_\"+i]])\n",
    "            print(\"Mean: %.6f\" % abs(result[\"test_\"+i].mean()))\n",
    "            print(\"Standard deviation: %.6f\" % abs(result[\"test_\"+i].std()))\n",
    "        mean.append(abs(result[\"test_\"+i].mean()))\n",
    "        std.append(abs(result[\"test_\"+i].std()))\n",
    "\n",
    "    table = pd.DataFrame()\n",
    "    table[\"metrics\"] = metrics_acronyms\n",
    "    table[\"mean_CV_\"+type_+\"_\"+name] = mean\n",
    "    table[\"std_CV_\"+type_+\"_\"+name] = std\n",
    "\n",
    "    return table, split_strategy"
   ]
  },
  {
   "cell_type": "code",
   "execution_count": null,
   "metadata": {
    "code_folding": [
     0
    ]
   },
   "outputs": [],
   "source": [
    "def visualise_results(model, x_train, x_test, y_train, y_test):\n",
    "    \"\"\"Visualise results.\n",
    "\n",
    "    Given a model fir the model on the train set and\n",
    "    then resport the result on the test set.\n",
    "    \n",
    "    Three plot and then visualise:\n",
    "    [1] regression plot\n",
    "    [2] histograme\n",
    "    [3] qq plot\n",
    "\n",
    "    \"\"\"\n",
    "\n",
    "    fig, axs = plt.subplots(1, 3, figsize=(16, 6))\n",
    "    rcParams['font.size'] = 20\n",
    "\n",
    "    axs[0].title.set_text('First regression plot')\n",
    "    dummy = model.fit(x_train, y_train)\n",
    "    y_pred = pd.Series(dummy.predict(x_test), index=x_test.index, name='Predictions')\n",
    "\n",
    "    sns.regplot(x=y_test, y=y_pred, color='r', truncate=False, line_kws={\n",
    "                \"color\": \"k\"}, scatter_kws={\"s\": 3}, ax=axs[0])\n",
    "    plt.tight_layout()\n",
    "\n",
    "    axs[2].title.set_text('Histograme')\n",
    "    sns.histplot([y_test, y_pred], ax=axs[1], color=['r', 'b'])\n",
    "\n",
    "    axs[2].title.set_text('Quantile')\n",
    "    sm.ProbPlot(y_test.values).qqplot(ax=axs[2], fmt='r', label='Test')\n",
    "    sm.ProbPlot(y_pred).qqplot(ax=axs[2], fmt='b', label='Predictions')\n",
    "    \n",
    "    plt.legend()\n",
    "    plt.show()"
   ]
  },
  {
   "cell_type": "code",
   "execution_count": null,
   "metadata": {
    "code_folding": [
     0
    ]
   },
   "outputs": [],
   "source": [
    "def compare_bar_cv_results(dfs):\n",
    "    \"\"\"    \n",
    "    Bar plot of all the rregression metrics.\n",
    "    \"\"\"\n",
    "    \n",
    "    dfs_ = reduce(lambda left, right: pd.merge(left, right, on='metrics'), dfs)\n",
    "    \n",
    "    # Selecting only the mean and not the standard deviation \n",
    "    a = [i for i in dfs_.columns if \"mean_\" in i]\n",
    "    a.append(\"metrics\")\n",
    "    a = a[::-1]   \n",
    "    \n",
    "    for which_metric in dfs_[\"metrics\"].values:\n",
    "    \n",
    "\n",
    "        where = np.where(dfs_[\"metrics\"].values == which_metric)[0][0]\n",
    "\n",
    "        b = pd.DataFrame(a[1:], columns = [\"Regressors\"])    \n",
    "        b[which_metric] = dfs_[a].iloc[where].values[1:]\n",
    "        if which_metric == \"R2\":\n",
    "            b.sort_values(by = [which_metric], inplace = True, ascending=True)\n",
    "        else:\n",
    "            b.sort_values(by = [which_metric], inplace = True, ascending=False)\n",
    "\n",
    "        plt.figure(figsize=(16, 5))\n",
    "        sns.barplot(b['Regressors'], b[which_metric])        \n",
    "        plt.ylabel(which_metric, fontsize=18)\n",
    "        plt.xticks(rotation=90, fontsize=18)\n",
    "        plt.show()    "
   ]
  },
  {
   "cell_type": "code",
   "execution_count": null,
   "metadata": {
    "code_folding": [
     0
    ]
   },
   "outputs": [],
   "source": [
    "def visual_comparison(models, df, target, model_names=[], log_scale=False, fit_model=True, scaler=None):\n",
    "    \"\"\"\n",
    "    We plot the results only on the test set\n",
    "    \"\"\"\n",
    "\n",
    "    if scaler == None:\n",
    "        # Split data into train and test sets\n",
    "        X_train2, X_test2, y_train2, y_test2 = train_test_split(\n",
    "            df, target, random_state=2, shuffle=True)\n",
    "    else:\n",
    "        print(\"scaling\")\n",
    "        # Split data into train and test sets\n",
    "        X_train2, X_test2, y_train2, y_test2 = train_test_split(\n",
    "            scaler.fit_transform(df), target, random_state=2, shuffle=True)\n",
    "    \"\"\"\n",
    "    ss = StandardScaler()\n",
    "    ss.fit_transform(X)\n",
    "    ss.inverse_transform()\n",
    "    \"\"\"\n",
    "\n",
    "    rcParams['figure.figsize'] = 17, 8\n",
    "    rcParams['font.size'] = 15\n",
    "    fig = plt.figure()\n",
    "\n",
    "    for i, model in enumerate(models):\n",
    "        if fit_model == True:\n",
    "            model.fit(X_train2, y_train2)\n",
    "        else:\n",
    "            print(\"Not fitting the model, assumed it was already fiited!\")        \n",
    "        \n",
    "        #if scaler == None:\n",
    "        prediction = model.predict(X_test2)\n",
    "        #else:\n",
    "        #    print(\"scaling back\")\n",
    "        #    prediction = scaler.inverse_transform(model.predict(X_test2))\n",
    "        \n",
    "        pred = pd.DataFrame()\n",
    "        pred[\"target\"] = y_test2\n",
    "        pred[\"prediction\"] = prediction\n",
    "        pred[\"index\"] = pred.index\n",
    "        pred.sort_values(by=['target'], inplace=True)\n",
    "        if not model_names:\n",
    "            plt.plot(\n",
    "                range(len(pred[\"index\"])), pred[\"prediction\"], '-', label=str(model.__class__))\n",
    "        else:\n",
    "            plt.plot(range(len(pred[\"index\"])),\n",
    "                     pred[\"prediction\"], '-', label=model_names[i])\n",
    "\n",
    "    plt.plot(range(len(pred[\"index\"])), pred[\"target\"],\n",
    "             '-k', lw=3, label=\"target\")\n",
    "\n",
    "    plt.xlabel('No of prediction orderd by size')\n",
    "    plt.ylabel('target')\n",
    "    plt.legend()\n",
    "    if log_scale == True:\n",
    "        plt.yscale('log')\n",
    "    plt.show()"
   ]
  },
  {
   "cell_type": "markdown",
   "metadata": {},
   "source": [
    "## Linear regression"
   ]
  },
  {
   "cell_type": "markdown",
   "metadata": {},
   "source": [
    "- Essentially this is linear regression with no regularisation."
   ]
  },
  {
   "cell_type": "code",
   "execution_count": null,
   "metadata": {
    "cell_style": "center"
   },
   "outputs": [],
   "source": [
    "lr = LinearRegression()\n",
    "\n",
    "model_scores_on_train_test_splits(lr,\n",
    "                                  x_train, y_train, x_test, y_test, verbose=False)"
   ]
  },
  {
   "cell_type": "code",
   "execution_count": null,
   "metadata": {
    "cell_style": "center"
   },
   "outputs": [],
   "source": [
    "cv_scores_lr, _ = get_cv_scores(\n",
    "    lr, X, y, name=\"lr\", n_splits=10, state=42, test_size=0.25, type_=\"k-fold\", verbose=False)\n",
    "cv_scores_lr"
   ]
  },
  {
   "cell_type": "code",
   "execution_count": null,
   "metadata": {
    "code_folding": [
     0
    ]
   },
   "outputs": [],
   "source": [
    "visualise_results(lr, x_train, x_test, y_train, y_test)"
   ]
  },
  {
   "cell_type": "markdown",
   "metadata": {},
   "source": [
    "- This model may be very sensitive to outliers and this is seems to be true for any linear model. \n",
    "- So we need to made it more robust on them. For that we use the sklearn's `Robustscaler()` method on pipeline.\n",
    "- We are then going to compare the two: scaled vs. not-scaled and see what the difference are.\n",
    "- One may argue that this was already taken care of but we are also doing an additional step here which is scaling so the imput are between 0 and 1."
   ]
  },
  {
   "cell_type": "markdown",
   "metadata": {},
   "source": [
    "- **A note on the scaler.** RobustScaler is a transformation technique that removes the median and scales the data according to the quantile range (defaults to IQR: Interquartile Range). The IQR is the range between the 1st quartile (25th quantile) and the 3rd quartile (75th quantile). It is also robust to outliers, which makes it ideal for data where there are too many outliers that will drastically reduce the number of training data. Previously i fitted the RobustScaler on both Train and Test set, and that is a mistake on my side. By fitting the scaler on both train and testset, we exposed ourselves to the problem of Data Leakage. Data Leakage is a problem when information from outside the training dataset is used to create the model. If we fit the scaler on both training and test data, our training data characteristics will contain the distribution of our testset. As such, we are unknowningly passing in information about our test data into the final training data for training, which will not give us the opportunity to truly test our model on data it has never seen before. Lesson Learnt: Fit the scaler just on training data, and then transforming it on both training and test data.\n",
    "- Credit to this [reference](https://www.kaggle.com/angqx95/data-science-workflow-top-2-with-tuning)."
   ]
  },
  {
   "cell_type": "code",
   "execution_count": null,
   "metadata": {},
   "outputs": [],
   "source": [
    "lr_scaled = make_pipeline(RobustScaler(), LinearRegression())\n",
    "model_scores_on_train_test_splits(lr_scaled,\n",
    "                                  x_train, y_train, x_test, y_test, verbose=False)"
   ]
  },
  {
   "cell_type": "code",
   "execution_count": null,
   "metadata": {},
   "outputs": [],
   "source": [
    "\"\"\"\n",
    "cv_scores_lr_scaled, _ = get_cv_scores(\n",
    "    lr_scaled, X, y, name=\"lr_scaled\", n_splits=10, state=42, test_size=0.25, type_=\"k-fold\", verbose=False)\n",
    "cv_scores_lr_scaled\n",
    "\"\"\""
   ]
  },
  {
   "cell_type": "code",
   "execution_count": null,
   "metadata": {},
   "outputs": [],
   "source": [
    "#visualise_results(lr_scaled, x_train, x_test, y_train, y_test)"
   ]
  },
  {
   "cell_type": "markdown",
   "metadata": {},
   "source": [
    "- Shall we visualise some preditions?"
   ]
  },
  {
   "cell_type": "code",
   "execution_count": null,
   "metadata": {
    "cell_style": "center"
   },
   "outputs": [],
   "source": [
    "y_train_pred = lr.predict(x_train)\n",
    "y_test_pred = lr.predict(x_test)\n",
    "\n",
    "rcParams['figure.figsize'] = 17, 8\n",
    "\n",
    "fig = plt.figure() \n",
    "ax = fig.add_subplot(121) \n",
    "\n",
    "ax.scatter(y_train_pred, y_train_pred - y_train,\n",
    "            c=\"blue\", marker=\"s\", label=\"Training data\")\n",
    "ax.scatter(y_test_pred, y_test_pred - y_test, c=\"lightgreen\",\n",
    "            marker=\"s\", label=\"Validation data\")\n",
    "\n",
    "plt.xlabel(\"Predicted values\", fontsize=25)\n",
    "plt.ylabel(\"Residuals\", fontsize=25)\n",
    "plt.legend(loc=\"upper left\", fontsize=25)\n",
    "plt.hlines(y=0, xmin=11.5, xmax=12.5, color=\"red\", lw = 3)\n",
    "\n",
    "ax = fig.add_subplot(122)\n",
    "plt.scatter(y_train_pred, y_train, c=\"blue\", marker=\"s\", label=\"Training data\")\n",
    "plt.scatter(y_test_pred, y_test, c=\"lightgreen\",\n",
    "            marker=\"s\", label=\"Validation data\")\n",
    "\n",
    "plt.xlabel(\"Predicted values\", fontsize=25)\n",
    "plt.ylabel(\"Real values\", fontsize=25)\n",
    "plt.legend(loc=\"upper left\", fontsize=25)\n",
    "plt.plot([11.5, 12.5], [11.5, 12.5], c=\"red\", lw = 3)\n",
    "\n",
    "plt.show()"
   ]
  },
  {
   "cell_type": "markdown",
   "metadata": {},
   "source": [
    "- Errors seem randomly distributed and randomly scattered around the centerline, so there is that at least. It means our model was able to capture most of the explanatory information."
   ]
  },
  {
   "cell_type": "code",
   "execution_count": null,
   "metadata": {},
   "outputs": [],
   "source": [
    "# Plot important coefficients\n",
    "coefs = pd.Series(lr.coef_, index = x_train.columns)\n",
    "print(\"Linear regression picked \" + str(sum(coefs != 0)) + \" features and eliminated the other \" +  \\\n",
    "      str(sum(coefs == 0)) + \" features\")\n",
    "imp_coefs = pd.concat([coefs.sort_values().head(10),\n",
    "                     coefs.sort_values().tail(10)])\n",
    "imp_coefs.plot(kind = \"barh\")\n",
    "plt.title(\"10 most important coefficients in the Linear Regression\")\n",
    "plt.show()"
   ]
  },
  {
   "cell_type": "markdown",
   "metadata": {},
   "source": [
    "## Bayesian Regression"
   ]
  },
  {
   "cell_type": "code",
   "execution_count": null,
   "metadata": {},
   "outputs": [],
   "source": [
    "br = BayesianRidge(compute_score=True)\n",
    "model_scores_on_train_test_splits(br,\n",
    "    x_train, y_train, x_test, y_test, verbose=False)"
   ]
  },
  {
   "cell_type": "code",
   "execution_count": null,
   "metadata": {},
   "outputs": [],
   "source": [
    "cv_scores_br, _ = get_cv_scores(\n",
    "    br, X, y, name=\"br\", n_splits=10, state=42, test_size=0.25, type_=\"k-fold\", verbose=False)\n",
    "cv_scores_br"
   ]
  },
  {
   "cell_type": "code",
   "execution_count": null,
   "metadata": {},
   "outputs": [],
   "source": [
    "visualise_results(br, x_train, x_test, y_train, y_test)"
   ]
  },
  {
   "cell_type": "markdown",
   "metadata": {},
   "source": [
    "## Lasso"
   ]
  },
  {
   "cell_type": "markdown",
   "metadata": {},
   "source": [
    "- This is a L1-type regularisation applied to linear regression.\n",
    "- As pointed out by this [reference](https://www.kaggle.com/erikbruin/house-prices-lasso-xgboost-and-a-detailed-eda) Lasso regressions performs best in the CV RMSE-score. Given the fact that there is a lot of multicolinearity among the variables, this was expected. Lasso does not select a substantial number of the available variables in its model, as it is supposed to do.\n",
    "- LASSO stands for Least Absolute Shrinkage and Selection Operator. It is an alternative regularization method, where we simply replace the square of the weights by the sum of the absolute value of the weights. In contrast to L2 regularization, L1 regularization yields sparse feature vectors : most feature weights will be zero. Sparsity can be useful in practice if we have a high dimensional dataset with many features that are irrelevant"
   ]
  },
  {
   "cell_type": "code",
   "execution_count": null,
   "metadata": {},
   "outputs": [],
   "source": [
    "lasso = linear_model.Lasso()\n",
    "model_scores_on_train_test_splits(lasso,\n",
    "    x_train, y_train, x_test, y_test, verbose=False)"
   ]
  },
  {
   "cell_type": "code",
   "execution_count": null,
   "metadata": {},
   "outputs": [],
   "source": [
    "cv_scores_lasso, _ = get_cv_scores(\n",
    "    lasso, X, y, name=\"lasso\", n_splits=10, state=42, test_size=0.25, type_=\"k-fold\", verbose=False)\n",
    "cv_scores_lasso"
   ]
  },
  {
   "cell_type": "code",
   "execution_count": null,
   "metadata": {},
   "outputs": [],
   "source": [
    "visualise_results(lasso, x_train, x_test, y_train, y_test)"
   ]
  },
  {
   "cell_type": "markdown",
   "metadata": {},
   "source": [
    "- How about scaling? In this it brought no benefit and we are not using it."
   ]
  },
  {
   "cell_type": "code",
   "execution_count": null,
   "metadata": {},
   "outputs": [],
   "source": [
    "lasso_scaled = make_pipeline(RobustScaler(), linear_model.Lasso(alpha=0.1, tol=1e-2))\n",
    "model_scores_on_train_test_splits(lasso_scaled,\n",
    "    x_train, y_train, x_test, y_test, verbose=False)"
   ]
  },
  {
   "cell_type": "code",
   "execution_count": null,
   "metadata": {},
   "outputs": [],
   "source": [
    "cv_scores_lasso_scaled, _ = get_cv_scores(\n",
    "    lasso_scaled, X, y, name=\"lasso_scaled\", n_splits=10, state=42, test_size=0.25, type_=\"k-fold\", verbose=False)\n",
    "cv_scores_lasso_scaled"
   ]
  },
  {
   "cell_type": "code",
   "execution_count": null,
   "metadata": {},
   "outputs": [],
   "source": [
    "visualise_results(lasso_scaled, x_train, x_test, y_train, y_test)"
   ]
  },
  {
   "cell_type": "markdown",
   "metadata": {},
   "source": [
    "- But how do we know if the model is overfitting? Taking inspiration from this [reference](https://www.kaggle.com/apapiu/regularized-linear-models), we'll use CV to establish how much is the model overfitting.\n",
    "- As you can see this model does not seem to benefit too much from regularisation. In fact, no L1 regularisation seems to be OK!"
   ]
  },
  {
   "cell_type": "code",
   "execution_count": null,
   "metadata": {},
   "outputs": [],
   "source": [
    "alphas = [0,  0.01, 0.05, 0.1, 0.3, 1, 3, 5, 10, 15, 30, 50]\n",
    "rmse_CV_test = []\n",
    "for alpha_temp in alphas:\n",
    "    cv_scores_lasso_, _ = get_cv_scores(\n",
    "        linear_model.Lasso(alpha=alpha_temp), X, y, name=\"lasso\", n_splits=10,\n",
    "        state=42, test_size=0.25, type_=\"k-fold\", verbose=False)\n",
    "    rmse_CV_test.append(cv_scores_lasso_[\"mean_CV_k-fold_lasso\"][2])"
   ]
  },
  {
   "cell_type": "code",
   "execution_count": null,
   "metadata": {},
   "outputs": [],
   "source": [
    "cv_ridge = pd.Series(rmse_CV_test, index = alphas)\n",
    "cv_ridge.plot(title = \"CV\")\n",
    "plt.xlabel(\"alpha\")\n",
    "plt.ylabel(\"rmse\")\n",
    "plt.show()"
   ]
  },
  {
   "cell_type": "code",
   "execution_count": null,
   "metadata": {},
   "outputs": [],
   "source": [
    "y_train_pred = lasso.predict(x_train)\n",
    "y_test_pred = lasso.predict(x_test)\n",
    "\n",
    "rcParams['figure.figsize'] = 17, 8\n",
    "\n",
    "fig = plt.figure() \n",
    "ax = fig.add_subplot(121) \n",
    "\n",
    "ax.scatter(y_train_pred, y_train_pred - y_train,\n",
    "            c=\"blue\", marker=\"s\", label=\"Training data\")\n",
    "ax.scatter(y_test_pred, y_test_pred - y_test, c=\"lightgreen\",\n",
    "            marker=\"s\", label=\"Validation data\")\n",
    "\n",
    "plt.xlabel(\"Predicted values\", fontsize=25)\n",
    "plt.ylabel(\"Residuals\", fontsize=25)\n",
    "plt.legend(loc=\"upper left\", fontsize=25)\n",
    "plt.hlines(y=0, xmin=10.5, xmax=13.5, color=\"red\", lw = 3)\n",
    "\n",
    "ax = fig.add_subplot(122)\n",
    "plt.scatter(y_train_pred, y_train, c=\"blue\", marker=\"s\", label=\"Training data\")\n",
    "plt.scatter(y_test_pred, y_test, c=\"lightgreen\",\n",
    "            marker=\"s\", label=\"Validation data\")\n",
    "\n",
    "plt.xlabel(\"Predicted values\", fontsize=25)\n",
    "plt.ylabel(\"Real values\", fontsize=25)\n",
    "plt.legend(loc=\"upper left\", fontsize=25)\n",
    "plt.plot([10.5, 13.5], [10.5, 13.5], c=\"red\", lw = 3)\n",
    "\n",
    "plt.show()"
   ]
  },
  {
   "cell_type": "code",
   "execution_count": null,
   "metadata": {},
   "outputs": [],
   "source": [
    "# Plot important coefficients\n",
    "coefs = pd.Series(lasso.coef_, index = x_train.columns)\n",
    "print(\"Lasso picked \" + str(sum(coefs != 0)) + \" features and eliminated the other \" +  \\\n",
    "      str(sum(coefs == 0)) + \" features\")\n",
    "imp_coefs = pd.concat([coefs.sort_values().head(10),\n",
    "                     coefs.sort_values().tail(10)])\n",
    "imp_coefs.plot(kind = \"barh\")\n",
    "plt.title(\"10 most important coefficients in the Lasso Regression\")\n",
    "plt.show()"
   ]
  },
  {
   "cell_type": "markdown",
   "metadata": {},
   "source": [
    "- The most interesting thing is that Lasso used only one third of the available features."
   ]
  },
  {
   "cell_type": "markdown",
   "metadata": {},
   "source": [
    "## Ridge"
   ]
  },
  {
   "cell_type": "markdown",
   "metadata": {},
   "source": [
    "- This is a L2 regularisation of linear regression.\n",
    "- An **L2** penalized model is where we simply add the squared sum of the weights to our cost function.\n",
    "- From the Python Machine Learning book by Sebastian Raschka : Regularization is a very useful method to handle collinearity, filter out noise from data, and eventually prevent overfitting. The concept behind regularization is to introduce additional information (bias) to penalize extreme parameter weights."
   ]
  },
  {
   "cell_type": "code",
   "execution_count": null,
   "metadata": {},
   "outputs": [],
   "source": [
    "ridge = linear_model.Ridge()\n",
    "model_scores_on_train_test_splits(ridge,\n",
    "    x_train, y_train, x_test, y_test, verbose=False)"
   ]
  },
  {
   "cell_type": "code",
   "execution_count": null,
   "metadata": {},
   "outputs": [],
   "source": [
    "cv_scores_ridge, _ = get_cv_scores(\n",
    "    ridge, X, y, name=\"ridge\", n_splits=10, state=42, test_size=0.25, type_=\"k-fold\", verbose=False)\n",
    "cv_scores_ridge"
   ]
  },
  {
   "cell_type": "code",
   "execution_count": null,
   "metadata": {},
   "outputs": [],
   "source": [
    "visualise_results(ridge, x_train, x_test, y_train, y_test)"
   ]
  },
  {
   "cell_type": "markdown",
   "metadata": {},
   "source": [
    "- **How about scaling?**"
   ]
  },
  {
   "cell_type": "code",
   "execution_count": null,
   "metadata": {},
   "outputs": [],
   "source": [
    "ridge_scaled = make_pipeline(RobustScaler(), linear_model.Ridge())\n",
    "model_scores_on_train_test_splits(ridge_scaled,\n",
    "    x_train, y_train, x_test, y_test, verbose=False)"
   ]
  },
  {
   "cell_type": "code",
   "execution_count": null,
   "metadata": {},
   "outputs": [],
   "source": [
    "cv_scores_ridge_scaled, _ = get_cv_scores(\n",
    "    ridge_scaled, X, y, name=\"ridge_scaled\", n_splits=10, state=42, test_size=0.25, type_=\"k-fold\", verbose=False)\n",
    "cv_scores_ridge_scaled"
   ]
  },
  {
   "cell_type": "code",
   "execution_count": null,
   "metadata": {},
   "outputs": [],
   "source": [
    "visualise_results(ridge_scaled, x_train, x_test, y_train, y_test)"
   ]
  },
  {
   "cell_type": "markdown",
   "metadata": {},
   "source": [
    "- Let's visualise the predictions"
   ]
  },
  {
   "cell_type": "code",
   "execution_count": null,
   "metadata": {},
   "outputs": [],
   "source": [
    "y_train_pred = ridge.predict(x_train)\n",
    "y_test_pred = ridge.predict(x_test)\n",
    "\n",
    "rcParams['figure.figsize'] = 17, 8\n",
    "\n",
    "fig = plt.figure() \n",
    "ax = fig.add_subplot(121) \n",
    "\n",
    "ax.scatter(y_train_pred, y_train_pred - y_train,\n",
    "            c=\"blue\", marker=\"s\", label=\"Training data\")\n",
    "ax.scatter(y_test_pred, y_test_pred - y_test, c=\"lightgreen\",\n",
    "            marker=\"s\", label=\"Validation data\")\n",
    "\n",
    "plt.xlabel(\"Predicted values\", fontsize=25)\n",
    "plt.ylabel(\"Residuals\", fontsize=25)\n",
    "plt.legend(loc=\"upper left\", fontsize=25)\n",
    "plt.hlines(y=0, xmin=10.5, xmax=13.5, color=\"red\", lw = 3)\n",
    "\n",
    "ax = fig.add_subplot(122)\n",
    "plt.scatter(y_train_pred, y_train, c=\"blue\", marker=\"s\", label=\"Training data\")\n",
    "plt.scatter(y_test_pred, y_test, c=\"lightgreen\",\n",
    "            marker=\"s\", label=\"Validation data\")\n",
    "\n",
    "plt.xlabel(\"Predicted values\", fontsize=25)\n",
    "plt.ylabel(\"Real values\", fontsize=25)\n",
    "plt.legend(loc=\"upper left\", fontsize=25)\n",
    "plt.plot([10.5, 13.5], [10.5, 13.5], c=\"red\", lw = 3)\n",
    "\n",
    "plt.show()"
   ]
  },
  {
   "cell_type": "markdown",
   "metadata": {},
   "source": [
    "- The very small difference between training and test results indicate that we eliminated most of the overfitting. Visually, the graphs seem to confirm that idea.\n",
    "- This is because the model is able to learn something from the train data and generaise the result on the test ones."
   ]
  },
  {
   "cell_type": "code",
   "execution_count": null,
   "metadata": {},
   "outputs": [],
   "source": [
    "# Plot important coefficients\n",
    "coefs = pd.Series(ridge.coef_, index = x_train.columns)\n",
    "print(\"Ridge picked \" + str(sum(coefs != 0)) + \" features and eliminated the other \" +  \\\n",
    "      str(sum(coefs == 0)) + \" features\")\n",
    "imp_coefs = pd.concat([coefs.sort_values().head(10),\n",
    "                     coefs.sort_values().tail(10)])\n",
    "imp_coefs.plot(kind = \"barh\")\n",
    "plt.title(\"10 most important coefficients in the Ridge Regression\")\n",
    "plt.show()"
   ]
  },
  {
   "cell_type": "markdown",
   "metadata": {},
   "source": [
    "## Kernel Rdige"
   ]
  },
  {
   "cell_type": "code",
   "execution_count": null,
   "metadata": {},
   "outputs": [],
   "source": [
    "kernel_ridge = KernelRidge(alpha=0.1)\n",
    "model_scores_on_train_test_splits(kernel_ridge,\n",
    "    x_train, y_train, x_test, y_test, verbose=False)"
   ]
  },
  {
   "cell_type": "code",
   "execution_count": null,
   "metadata": {},
   "outputs": [],
   "source": [
    "cv_scores_kernel_ridge, _ = get_cv_scores(\n",
    "    kernel_ridge, X, y, name=\"kernel_ridge\", n_splits=10, state=42, test_size=0.25, type_=\"k-fold\", verbose=False)\n",
    "cv_scores_kernel_ridge"
   ]
  },
  {
   "cell_type": "code",
   "execution_count": null,
   "metadata": {},
   "outputs": [],
   "source": [
    "visualise_results(kernel_ridge, x_train, x_test, y_train, y_test)"
   ]
  },
  {
   "cell_type": "markdown",
   "metadata": {},
   "source": [
    "## Polynomial regression"
   ]
  },
  {
   "cell_type": "markdown",
   "metadata": {},
   "source": [
    "- One common pattern within machine learning is to use linear models trained on nonlinear functions of the data. This approach maintains the generally fast performance of linear methods, while allowing them to fit a much wider range of data.\n",
    "- We see that the resulting polynomial regression is in the same class of linear models we’d considered above (i.e. the model is linear in w) and can be solved by the same techniques. By considering linear fits within a higher-dimensional space built with these basis functions, the model has the flexibility to fit a much broader range of data.\n",
    "- Credit to [reference](https://www.kaggle.com/faressayah/linear-regression-house-price-prediction#%E2%9C%94%EF%B8%8F-Polynomial-Regression)"
   ]
  },
  {
   "cell_type": "code",
   "execution_count": null,
   "metadata": {},
   "outputs": [],
   "source": [
    "from sklearn.preprocessing import PolynomialFeatures\n",
    "poly_reg = PolynomialFeatures(degree=2)\n",
    "\n",
    "x_train_2d = poly_reg.fit_transform(x_train)\n",
    "x_test_2d = poly_reg.transform(x_test)\n",
    "\n",
    "lin_reg_poly = LinearRegression(normalize=True)"
   ]
  },
  {
   "cell_type": "code",
   "execution_count": null,
   "metadata": {},
   "outputs": [],
   "source": [
    "model_scores_on_train_test_splits(lin_reg_poly,\n",
    "    x_train_2d, y_train, x_test_2d, y_test, verbose=False)"
   ]
  },
  {
   "cell_type": "markdown",
   "metadata": {},
   "source": [
    "- What is really interesting is that this method is capable to **completely overfit the trainig set**.\n",
    "- Maybe, if this is properly harnessed it can be used favourably?"
   ]
  },
  {
   "cell_type": "code",
   "execution_count": null,
   "metadata": {
    "scrolled": true
   },
   "outputs": [],
   "source": [
    "X_2d = poly_reg.fit_transform(X)\n",
    "cv_scores_kernel_poly_reg, _ = get_cv_scores(\n",
    "    lin_reg_poly, X_2d, y, name=\"poly_reg\", n_splits=10, state=42, test_size=0.25, type_=\"k-fold\", verbose=False)\n",
    "cv_scores_kernel_poly_reg"
   ]
  },
  {
   "cell_type": "code",
   "execution_count": null,
   "metadata": {
    "scrolled": true
   },
   "outputs": [],
   "source": [
    "#visualise_results(poly_reg, x_train_2d, x_test_2d, y_train, y_test)"
   ]
  },
  {
   "cell_type": "markdown",
   "metadata": {},
   "source": [
    "## ElasticNet"
   ]
  },
  {
   "cell_type": "markdown",
   "metadata": {},
   "source": [
    "- ElasticNet is a compromise between Ridge and Lasso regression. It has a L1 penalty to generate sparsity and a L2 penalty to overcome some of the limitations of Lasso, such as the number of variables (Lasso can't select more features than it has observations, but it's not the case here anyway)."
   ]
  },
  {
   "cell_type": "code",
   "execution_count": null,
   "metadata": {},
   "outputs": [],
   "source": [
    "enet = ElasticNet()\n",
    "model_scores_on_train_test_splits(enet,\n",
    "    x_train, y_train, x_test, y_test, verbose=False)"
   ]
  },
  {
   "cell_type": "code",
   "execution_count": null,
   "metadata": {},
   "outputs": [],
   "source": [
    "cv_scores_en, _ = get_cv_scores(\n",
    "    enet, X, y, name=\"en\", n_splits=10, state=42, test_size=0.25, type_=\"k-fold\", verbose=False)\n",
    "cv_scores_en"
   ]
  },
  {
   "cell_type": "code",
   "execution_count": null,
   "metadata": {},
   "outputs": [],
   "source": [
    "y_train_pred = enet.predict(x_train)\n",
    "y_test_pred = enet.predict(x_test)\n",
    "\n",
    "rcParams['figure.figsize'] = 17, 8\n",
    "\n",
    "fig = plt.figure() \n",
    "ax = fig.add_subplot(121) \n",
    "\n",
    "ax.scatter(y_train_pred, y_train_pred - y_train,\n",
    "            c=\"blue\", marker=\"s\", label=\"Training data\")\n",
    "ax.scatter(y_test_pred, y_test_pred - y_test, c=\"lightgreen\",\n",
    "            marker=\"s\", label=\"Validation data\")\n",
    "\n",
    "plt.xlabel(\"Predicted values\", fontsize=25)\n",
    "plt.ylabel(\"Residuals\", fontsize=25)\n",
    "plt.legend(loc=\"upper left\", fontsize=25)\n",
    "plt.hlines(y=0, xmin=10.5, xmax=13.5, color=\"red\", lw = 3)\n",
    "\n",
    "ax = fig.add_subplot(122)\n",
    "plt.scatter(y_train_pred, y_train, c=\"blue\", marker=\"s\", label=\"Training data\")\n",
    "plt.scatter(y_test_pred, y_test, c=\"lightgreen\",\n",
    "            marker=\"s\", label=\"Validation data\")\n",
    "\n",
    "plt.xlabel(\"Predicted values\", fontsize=25)\n",
    "plt.ylabel(\"Real values\", fontsize=25)\n",
    "plt.legend(loc=\"upper left\", fontsize=25)\n",
    "plt.plot([10.5, 13.5], [10.5, 13.5], c=\"red\", lw = 3)\n",
    "\n",
    "plt.show()"
   ]
  },
  {
   "cell_type": "code",
   "execution_count": null,
   "metadata": {},
   "outputs": [],
   "source": [
    "# Plot important coefficients\n",
    "coefs = pd.Series(enet.coef_, index = x_train.columns)\n",
    "print(\"Ridge picked \" + str(sum(coefs != 0)) + \" features and eliminated the other \" +  \\\n",
    "      str(sum(coefs == 0)) + \" features\")\n",
    "imp_coefs = pd.concat([coefs.sort_values().head(10),\n",
    "                     coefs.sort_values().tail(10)])\n",
    "imp_coefs.plot(kind = \"barh\")\n",
    "plt.title(\"10 most important coefficients in the Elasticnet Regression\")\n",
    "plt.show()"
   ]
  },
  {
   "cell_type": "code",
   "execution_count": null,
   "metadata": {},
   "outputs": [],
   "source": [
    "visualise_results(enet, x_train, x_test, y_train, y_test)"
   ]
  },
  {
   "cell_type": "markdown",
   "metadata": {},
   "source": [
    "## Stochastic Gradient Descent"
   ]
  },
  {
   "cell_type": "markdown",
   "metadata": {},
   "source": [
    "- Gradient Descent is a very generic optimization algorithm capable of finding optimal solutions to a wide range of problems. \n",
    "- The general idea of Gradient Sescent is to tweak parameters iteratively in order to minimize a cost function. Gradient Descent measures the local gradient of the error function with regards to the parameters vector, and it goes in the direction of descending gradient. \n",
    "- Once the gradient is zero, you have reached a minimum.\n",
    "- Credit to [reference](https://www.kaggle.com/faressayah/linear-regression-house-price-prediction#%E2%9C%94%EF%B8%8F-Polynomial-Regression)"
   ]
  },
  {
   "cell_type": "code",
   "execution_count": null,
   "metadata": {},
   "outputs": [],
   "source": [
    "sgd_reg = SGDRegressor(n_iter_no_change=250, penalty=None, eta0=0.0001, max_iter=100000)\n",
    "#sgd_reg = SGDRegressor()"
   ]
  },
  {
   "cell_type": "code",
   "execution_count": null,
   "metadata": {},
   "outputs": [],
   "source": [
    "model_scores_on_train_test_splits(sgd_reg,\n",
    "    x_train, y_train, x_test, y_test, verbose=False)"
   ]
  },
  {
   "cell_type": "code",
   "execution_count": null,
   "metadata": {
    "scrolled": true
   },
   "outputs": [],
   "source": [
    "\"\"\"\n",
    "cv_scores_svr_scaled, _ = get_cv_scores(\n",
    "    sgd_reg, X, y, name=\"sgd_reg\", n_splits=10, state=42, test_size=0.25, type_=\"k-fold\", verbose=False)\n",
    "cv_scores_svr_scaled\n",
    "\"\"\""
   ]
  },
  {
   "cell_type": "markdown",
   "metadata": {},
   "source": [
    "- This method **did not work** well, so we are not going to plot any additinal information here."
   ]
  },
  {
   "cell_type": "markdown",
   "metadata": {},
   "source": [
    "## SVR"
   ]
  },
  {
   "cell_type": "markdown",
   "metadata": {},
   "source": [
    "- Support Vector Machine can also be used as a regression method, maintaining all the main features that characterize the algorithm (maximal margin). The Support Vector Regression (SVR) uses the same principles as the SVM for classification, with only a few minor differences. \n",
    "- First of all, because output is a real number it becomes very difficult to predict the information at hand, which has infinite possibilities. In the case of regression, a margin of tolerance (epsilon) is set in approximation to the SVM which would have already requested from the problem. But besides this fact, there is also a more complicated reason, the algorithm is more complicated therefore to be taken in consideration. \n",
    "- However, the main idea is always the same: to minimize error, individualizing the hyperplane which maximizes the margin, keeping in mind that part of the error is tolerated.\n",
    "- Credit to [reference](https://www.kaggle.com/faressayah/linear-regression-house-price-prediction#%E2%9C%94%EF%B8%8F-Polynomial-Regression)"
   ]
  },
  {
   "cell_type": "code",
   "execution_count": null,
   "metadata": {},
   "outputs": [],
   "source": [
    "# Support Vector Regressor\n",
    "svr_scaled = make_pipeline(RobustScaler(), SVR())"
   ]
  },
  {
   "cell_type": "code",
   "execution_count": null,
   "metadata": {},
   "outputs": [],
   "source": [
    "model_scores_on_train_test_splits(svr_scaled,\n",
    "    x_train, y_train, x_test, y_test, verbose=False)"
   ]
  },
  {
   "cell_type": "code",
   "execution_count": null,
   "metadata": {},
   "outputs": [],
   "source": [
    "cv_scores_svr_scaled, _ = get_cv_scores(\n",
    "    svr_scaled, X, y, name=\"svr_scaled\", n_splits=10, state=42, test_size=0.25, type_=\"k-fold\", verbose=False)\n",
    "cv_scores_svr_scaled"
   ]
  },
  {
   "cell_type": "code",
   "execution_count": null,
   "metadata": {},
   "outputs": [],
   "source": [
    "visualise_results(svr_scaled, x_train, x_test, y_train, y_test)"
   ]
  },
  {
   "cell_type": "markdown",
   "metadata": {},
   "source": [
    "## Decision tree"
   ]
  },
  {
   "cell_type": "markdown",
   "metadata": {},
   "source": [
    "- The decision tree is a simple machine learning model for getting started with regression tasks.\n",
    "- Background A decision tree is a flow-chart-like structure, where each internal (non-leaf) node denotes a test on an attribute, each branch represents the outcome of a test, and each leaf (or terminal) node holds a class label. The topmost node in a tree is the root node. (see here for more details)."
   ]
  },
  {
   "cell_type": "code",
   "execution_count": null,
   "metadata": {
    "scrolled": true
   },
   "outputs": [],
   "source": [
    "dtree = DecisionTreeRegressor()\n",
    "model_scores_on_train_test_splits(dtree,\n",
    "    x_train, y_train, x_test, y_test, verbose=False)"
   ]
  },
  {
   "cell_type": "markdown",
   "metadata": {},
   "source": [
    "- What is really interesting is that this method is capable to completely overfit the trainig set. We got the same result under `Polynomial regression`\n",
    "- Maybe, if this is properly harnessed it can be used favourably?"
   ]
  },
  {
   "cell_type": "code",
   "execution_count": null,
   "metadata": {},
   "outputs": [],
   "source": [
    "cv_scores_dt, _ = get_cv_scores(\n",
    "    dtree, X, y, name=\"dt\", n_splits=10, state=42, test_size=0.25, type_=\"k-fold\", verbose=False)\n",
    "cv_scores_dt"
   ]
  },
  {
   "cell_type": "code",
   "execution_count": null,
   "metadata": {},
   "outputs": [],
   "source": [
    "visualise_results(dtree, x_train, x_test, y_train, y_test)"
   ]
  },
  {
   "cell_type": "markdown",
   "metadata": {},
   "source": [
    "## Extra tree"
   ]
  },
  {
   "cell_type": "code",
   "execution_count": null,
   "metadata": {
    "scrolled": true
   },
   "outputs": [],
   "source": [
    "extra_tree = ExtraTreesRegressor()\n",
    "model_scores_on_train_test_splits(extra_tree,\n",
    "    x_train, y_train, x_test, y_test, verbose=False)"
   ]
  },
  {
   "cell_type": "code",
   "execution_count": null,
   "metadata": {},
   "outputs": [],
   "source": [
    "cv_scores_et, _ = get_cv_scores(\n",
    "    extra_tree, X, y, name=\"extra_t\", n_splits=10, state=42, test_size=0.25, type_=\"k-fold\", verbose=False)\n",
    "cv_scores_et"
   ]
  },
  {
   "cell_type": "code",
   "execution_count": null,
   "metadata": {},
   "outputs": [],
   "source": [
    "visualise_results(extra_tree, x_train, x_test, y_train, y_test)"
   ]
  },
  {
   "cell_type": "markdown",
   "metadata": {},
   "source": [
    "## Bagging Regressor"
   ]
  },
  {
   "cell_type": "code",
   "execution_count": null,
   "metadata": {},
   "outputs": [],
   "source": [
    "bgr = BaggingRegressor()\n",
    "model_scores_on_train_test_splits(bgr,\n",
    "    x_train, y_train, x_test, y_test, verbose=False)"
   ]
  },
  {
   "cell_type": "code",
   "execution_count": null,
   "metadata": {},
   "outputs": [],
   "source": [
    "cv_scores_bgr, _ = get_cv_scores(\n",
    "    bgr, X, y, name=\"bgr\", n_splits=10, state=42, test_size=0.25, type_=\"k-fold\", verbose=False)\n",
    "cv_scores_bgr"
   ]
  },
  {
   "cell_type": "code",
   "execution_count": null,
   "metadata": {},
   "outputs": [],
   "source": [
    "visualise_results(bgr, x_train, x_test, y_train, y_test)"
   ]
  },
  {
   "cell_type": "markdown",
   "metadata": {},
   "source": [
    "## Gradient Boosting"
   ]
  },
  {
   "cell_type": "code",
   "execution_count": null,
   "metadata": {},
   "outputs": [],
   "source": [
    "gbm = GradientBoostingRegressor()\n",
    "model_scores_on_train_test_splits(gbm,\n",
    "    x_train, y_train, x_test, y_test, verbose=False)"
   ]
  },
  {
   "cell_type": "code",
   "execution_count": null,
   "metadata": {},
   "outputs": [],
   "source": [
    "cv_scores_gbm, _ = get_cv_scores(\n",
    "    gbm, X, y, name=\"gbm\", n_splits=10, state=42, test_size=0.25, type_=\"k-fold\", verbose=False)\n",
    "cv_scores_gbm"
   ]
  },
  {
   "cell_type": "code",
   "execution_count": null,
   "metadata": {},
   "outputs": [],
   "source": [
    "visualise_results(gbm, x_train, x_test, y_train, y_test)"
   ]
  },
  {
   "cell_type": "markdown",
   "metadata": {},
   "source": [
    "## Random Forest"
   ]
  },
  {
   "cell_type": "markdown",
   "metadata": {},
   "source": [
    "- A Random Forest is an ensemble technique capable of performing both regression and classification tasks with the use of multiple decision trees and a technique called Bootstrap Aggregation, commonly known as bagging. \n",
    "- What is bagging you may ask? Bagging, in the Random Forest method, involves training each decision tree on a different data sample where sampling is done with replacement.\n",
    "- Credit to [reference](https://www.kaggle.com/faressayah/linear-regression-house-price-prediction#%E2%9C%94%EF%B8%8F-Polynomial-Regression)"
   ]
  },
  {
   "attachments": {
    "image.png": {
     "image/png": "[encoded data removed]"
    }
   },
   "cell_type": "markdown",
   "metadata": {},
   "source": [
    "![image.png](attachment:image.png)"
   ]
  },
  {
   "cell_type": "code",
   "execution_count": null,
   "metadata": {},
   "outputs": [],
   "source": [
    "rf = RandomForestRegressor()"
   ]
  },
  {
   "cell_type": "code",
   "execution_count": null,
   "metadata": {},
   "outputs": [],
   "source": [
    "model_scores_on_train_test_splits(rf,\n",
    "    x_train, y_train, x_test, y_test, verbose=False)"
   ]
  },
  {
   "cell_type": "code",
   "execution_count": null,
   "metadata": {},
   "outputs": [],
   "source": [
    "cv_scores_rf, _ = get_cv_scores(rf, X, y, name=\"rf\", n_splits=10,\n",
    "                             state=42, test_size=0.25, type_=\"k-fold\",  verbose=False)\n",
    "cv_scores_rf"
   ]
  },
  {
   "cell_type": "code",
   "execution_count": null,
   "metadata": {},
   "outputs": [],
   "source": [
    "visualise_results(rf, x_train, x_test, y_train, y_test)"
   ]
  },
  {
   "cell_type": "markdown",
   "metadata": {},
   "source": [
    "## AdaBoost"
   ]
  },
  {
   "cell_type": "code",
   "execution_count": null,
   "metadata": {},
   "outputs": [],
   "source": [
    "ada = AdaBoostRegressor()\n",
    "model_scores_on_train_test_splits(ada,\n",
    "    x_train, y_train, x_test, y_test, verbose=False)"
   ]
  },
  {
   "cell_type": "code",
   "execution_count": null,
   "metadata": {},
   "outputs": [],
   "source": [
    "cv_scores_ada, _ = get_cv_scores(\n",
    "    ada, X, y, name=\"ada\", n_splits=10, state=42, test_size=0.25, type_=\"k-fold\", verbose=False)\n",
    "cv_scores_ada"
   ]
  },
  {
   "cell_type": "code",
   "execution_count": null,
   "metadata": {},
   "outputs": [],
   "source": [
    "visualise_results(ada, x_train, x_test, y_train, y_test)"
   ]
  },
  {
   "cell_type": "markdown",
   "metadata": {},
   "source": [
    "## Bagging"
   ]
  },
  {
   "cell_type": "code",
   "execution_count": null,
   "metadata": {},
   "outputs": [],
   "source": [
    "br = BaggingRegressor()\n",
    "model_scores_on_train_test_splits(br,\n",
    "    x_train, y_train, x_test, y_test, verbose=False)"
   ]
  },
  {
   "cell_type": "code",
   "execution_count": null,
   "metadata": {},
   "outputs": [],
   "source": [
    "cv_scores_br, _ = get_cv_scores(\n",
    "    br, X, y, name=\"br\", n_splits=10, state=42, test_size=0.25, type_=\"k-fold\", verbose=False)\n",
    "cv_scores_br"
   ]
  },
  {
   "cell_type": "code",
   "execution_count": null,
   "metadata": {},
   "outputs": [],
   "source": [
    "visualise_results(br, x_train, x_test, y_train, y_test)"
   ]
  },
  {
   "cell_type": "markdown",
   "metadata": {},
   "source": [
    "## XGBoost"
   ]
  },
  {
   "cell_type": "markdown",
   "metadata": {},
   "source": [
    "- Extreme Gradient Boost (XGB) is a boosting algorithm that uses the gradient boosting framework; where gradient descent algorithm is employed to minimize the errors in the sequential model. \n",
    "- It improves on the gradient boosting framework with faster execution speed and improved performance.\n",
    "- Credit to [reference](https://www.kaggle.com/angqx95/data-science-workflow-top-2-with-tuning)"
   ]
  },
  {
   "cell_type": "code",
   "execution_count": null,
   "metadata": {},
   "outputs": [],
   "source": [
    "xgb = XGBRegressor(n_jobs=1)\n",
    "model_scores_on_train_test_splits(xgb,\n",
    "    x_train, y_train, x_test, y_test, verbose=False)"
   ]
  },
  {
   "cell_type": "code",
   "execution_count": null,
   "metadata": {},
   "outputs": [],
   "source": [
    "cv_scores_xgb, _ = get_cv_scores(\n",
    "    xgb, X, y, name=\"xgb\", n_splits=10, state=42, test_size=0.25, type_=\"k-fold\", verbose=False)\n",
    "cv_scores_xgb"
   ]
  },
  {
   "cell_type": "code",
   "execution_count": null,
   "metadata": {},
   "outputs": [],
   "source": [
    "visualise_results(xgb, x_train, x_test, y_train, y_test)"
   ]
  },
  {
   "cell_type": "markdown",
   "metadata": {},
   "source": [
    "## CatBoost"
   ]
  },
  {
   "cell_type": "markdown",
   "metadata": {},
   "source": [
    "- Catboost is another alternative gradient boosting framework developed by Yandex. The word \"Catboost\" is derived from two words; \"Category\" and \"Boosting\". This means that Catboost itself can deal with categorical features which usually has to be converted to numerical encodings in order to feed into traditional gradient boost frameworks and machine learning models.\n",
    "- The 2 critical features in Catboost algorithm is the use of ordered boosting and innovative algorithm for processing categorical features, which fight the prediction shift caused by a special kind of target leakage present in all existing implementations of gradient boosting algorithms.\n",
    "- Credit to [reference](https://www.kaggle.com/angqx95/data-science-workflow-top-2-with-tuning)"
   ]
  },
  {
   "cell_type": "code",
   "execution_count": null,
   "metadata": {},
   "outputs": [],
   "source": [
    "cat = CatBoostRegressor(verbose = False)\n",
    "model_scores_on_train_test_splits(cat,\n",
    "    x_train, y_train, x_test, y_test, verbose=False)"
   ]
  },
  {
   "cell_type": "code",
   "execution_count": null,
   "metadata": {},
   "outputs": [],
   "source": [
    "cv_scores_cat, _ = get_cv_scores(cat, X, y, name=\"cat\", n_splits=10,\n",
    "                              state=42, test_size=0.25, type_=\"k-fold\", verbose=False)\n",
    "cv_scores_cat"
   ]
  },
  {
   "cell_type": "code",
   "execution_count": null,
   "metadata": {},
   "outputs": [],
   "source": [
    "visualise_results(cat, x_train, x_test, y_train, y_test)"
   ]
  },
  {
   "cell_type": "markdown",
   "metadata": {},
   "source": [
    "## LightGBM"
   ]
  },
  {
   "cell_type": "markdown",
   "metadata": {},
   "source": [
    "- LightBGM is another gradient boosting framework developed by Microsoft that is based on decision tree algorithm, designed to be efficient and distributed. Some of the advantages of implementing LightBGM compared to other boosting frameworks include:\n",
    "\n",
    "    - Faster training speed and higher efficiency (use histogram based algorithm i.e it buckets continuous feature values into discrete bins which fasten the training procedure)\n",
    "    - Lower memory usage (Replaces continuous values to discrete bins which result in lower memory usage)\n",
    "    - Better accuracy\n",
    "    - Support of parallel and GPU learning\n",
    "    - Capable of handling large-scale data (capable of performing equally good with large datasets with a significant reduction in training time as compared to XGBOOST)\n",
    "\n",
    "- LightGBM splits the tree leaf wise with the best fit whereas other boosting algorithms split the tree depth wise or level wise rather than leaf-wise. This leaf-wise algorithm reduces more loss than the level-wise algorithm, hence resulting in much better accuracy which can rarely be achieved by any of the existing boosting algorithms.\n",
    "- Credit to [reference](https://www.kaggle.com/angqx95/data-science-workflow-top-2-with-tuning)"
   ]
  },
  {
   "attachments": {
    "image.png": {
     "image/png": "[encoded data removed]"
    }
   },
   "cell_type": "markdown",
   "metadata": {},
   "source": [
    "![image.png](attachment:image.png)"
   ]
  },
  {
   "attachments": {
    "image.png": {
     "image/png": "[encoded data removed]"
    }
   },
   "cell_type": "markdown",
   "metadata": {},
   "source": [
    "![image.png](attachment:image.png)"
   ]
  },
  {
   "cell_type": "code",
   "execution_count": null,
   "metadata": {},
   "outputs": [],
   "source": [
    "l_gbm = LGBMRegressor(objective='regression', verbose=0)\n",
    "model_scores_on_train_test_splits(l_gbm,\n",
    "    x_train, y_train, x_test, y_test, verbose=0)"
   ]
  },
  {
   "cell_type": "code",
   "execution_count": null,
   "metadata": {},
   "outputs": [],
   "source": [
    "cv_scores_lgbm, _ = get_cv_scores(\n",
    "    l_gbm, X, y, name=\"l_gbm\", n_splits=10, state=42, test_size=0.25, type_=\"k-fold\", verbose=False)\n",
    "cv_scores_lgbm"
   ]
  },
  {
   "cell_type": "code",
   "execution_count": null,
   "metadata": {},
   "outputs": [],
   "source": [
    "visualise_results(l_gbm, x_train, x_test, y_train, y_test)"
   ]
  },
  {
   "cell_type": "markdown",
   "metadata": {},
   "source": [
    "- At this point we have tested a series of methods a lwith their default options.\n",
    "- We'll compare them and the decide which one we'll use for the stacking method."
   ]
  },
  {
   "cell_type": "code",
   "execution_count": null,
   "metadata": {
    "code_folding": [
     0
    ]
   },
   "outputs": [],
   "source": [
    "def compare_cv_results(dfs, what = \"mean\"):    \n",
    "    \"\"\"    \n",
    "    It highlights the best value in each column\n",
    "    \n",
    "    Parameters\n",
    "    ----------\n",
    "    what : string, default=\"mean\"\n",
    "        Whether we'd like to filter the result by mean or\n",
    "        standard deviation\n",
    "        \n",
    "    Returns\n",
    "    -------\n",
    "    dfs : pandas dataframe\n",
    "        A highlighted pandas dataframe\n",
    "    \"\"\"\n",
    "    \n",
    "    dfs_ = reduce(lambda left, right: pd.merge(left, right, on='metrics'), dfs)\n",
    "\n",
    "    b = []\n",
    "    def highlight(x):    \n",
    "        for v in x:\n",
    "            if v == \"R2\":\n",
    "                if what == \"mean\":\n",
    "                    return ['background: yellow' if v == max(x[1:]) else '' for v in x]\n",
    "                else:\n",
    "                    return ['background: yellow' if v == min(x[1:]) else '' for v in x]\n",
    "            else:                \n",
    "                #return ['' for v in x]\n",
    "                return ['background: yellow' if v == min(x[1:]) else '' for v in x]\n",
    "\n",
    "\n",
    "    def bold(x):\n",
    "        for v in x:\n",
    "            if v == \"R2\":\n",
    "                if what == \"mean\":\n",
    "                    return ['font-weight: bold' if v == max(x[1:]) else '' for v in x]\n",
    "                else:\n",
    "                    return ['font-weight: bold' if v == min(x[1:]) else '' for v in x]\n",
    "            else:\n",
    "                return ['font-weight: bold' if v == min(x[1:]) else '' for v in x]\n",
    "\n",
    "    \n",
    "    # Selecting only the mean and not the standard deviation \n",
    "    \n",
    "    a = [i for i in dfs_.columns if what + \"_\" in i]\n",
    "    a.append(\"metrics\")\n",
    "    a = a[::-1]\n",
    "    #dfs_[a]#.T\n",
    "    #print(dfs_.T.columns)\n",
    "    #dfs_.T.sort_values(by = [int(3)], inplace = True)    \n",
    "        \n",
    "    return dfs_[a].T.style.apply(highlight).apply(bold)"
   ]
  },
  {
   "cell_type": "code",
   "execution_count": null,
   "metadata": {
    "code_folding": [
     0
    ]
   },
   "outputs": [],
   "source": [
    "dfs = [\n",
    "       cv_scores_lr,\n",
    "       cv_scores_br,\n",
    "       cv_scores_lasso,\n",
    "       cv_scores_lasso_scaled,\n",
    "       cv_scores_ridge,\n",
    "       cv_scores_ridge_scaled,\n",
    "       cv_scores_kernel_ridge,\n",
    "       cv_scores_kernel_poly_reg,\n",
    "       cv_scores_et,\n",
    "       cv_scores_bgr,\n",
    "       cv_scores_gbm,\n",
    "       cv_scores_rf,\n",
    "       cv_scores_ada,\n",
    "       cv_scores_br,\n",
    "       cv_scores_xgb,\n",
    "       cv_scores_cat,\n",
    "       cv_scores_lgbm\n",
    "       ]"
   ]
  },
  {
   "cell_type": "code",
   "execution_count": null,
   "metadata": {
    "cell_style": "split",
    "scrolled": false
   },
   "outputs": [],
   "source": [
    "compare_cv_results(dfs, what = \"mean\")"
   ]
  },
  {
   "cell_type": "code",
   "execution_count": null,
   "metadata": {
    "cell_style": "split"
   },
   "outputs": [],
   "source": [
    "compare_cv_results(dfs, what = \"std\")"
   ]
  },
  {
   "cell_type": "markdown",
   "metadata": {},
   "source": [
    "## Stacking"
   ]
  },
  {
   "cell_type": "markdown",
   "metadata": {},
   "source": [
    "- The key here is to make the (linear) models robust to outliers. \n",
    "\n",
    "- The steps for this technique are shown below:\n",
    "\n",
    "    - Create a set of algorithms ready for stacking\n",
    "    - Split the original training data into a training and validation sample \n",
    "    - Train the algorithms on the training sample\n",
    "    - For each algorithm, apply the trained models to the validation dataset and create a set of predictions, 1 column for each model, as a new table. Call this the new training dataset.\n",
    "    - Also apply the trained algorithm to the test dataset and create a final set of predictions, 1 column for each model, as a new table. Call this new test dataset.\n",
    "    - For the new training dataset, we have labeled outputs, in the form of Y_test. Now we must train another model on these two feature sets: new training dataset and Y_test.\n",
    "    - Use this newly trained model to predict values for new test dataset\n",
    "\n",
    "- Credits to this [reference](https://www.kaggle.com/agodwinp/stacking-house-prices-walkthrough-to-top-5)"
   ]
  },
  {
   "attachments": {
    "image.png": {
     "image/png": "[encoded data removed]"
    }
   },
   "cell_type": "markdown",
   "metadata": {},
   "source": [
    "![image.png](attachment:image.png)"
   ]
  },
  {
   "cell_type": "code",
   "execution_count": null,
   "metadata": {},
   "outputs": [],
   "source": [
    "stack_gen = StackingRegressor(regressors=(XGBRegressor(n_jobs=1), \n",
    "                                          CatBoostRegressor(verbose=False),\n",
    "                                          LGBMRegressor(objective='regression', verbose=0)),\n",
    "                              meta_regressor=linear_model.Ridge(),\n",
    "                              use_features_in_secondary=True)"
   ]
  },
  {
   "cell_type": "code",
   "execution_count": null,
   "metadata": {},
   "outputs": [],
   "source": [
    "model_scores_on_train_test_splits(stack_gen,\n",
    "    x_train, y_train, x_test, y_test, verbose=False)"
   ]
  },
  {
   "cell_type": "code",
   "execution_count": null,
   "metadata": {},
   "outputs": [],
   "source": [
    "cv_scores_stack, _ = get_cv_scores(\n",
    "    stack_gen, X, y, name=\"stack\", n_splits=10, state=42, test_size=0.25, type_=\"k-fold\", verbose=False)\n",
    "cv_scores_stack"
   ]
  },
  {
   "cell_type": "code",
   "execution_count": null,
   "metadata": {},
   "outputs": [],
   "source": [
    "dfs = [\n",
    "    cv_scores_lr,\n",
    "    cv_scores_br,\n",
    "    cv_scores_lasso,\n",
    "    cv_scores_lasso_scaled,\n",
    "    cv_scores_ridge,\n",
    "    cv_scores_ridge_scaled,\n",
    "    cv_scores_kernel_ridge,\n",
    "    cv_scores_kernel_poly_reg,\n",
    "    cv_scores_et,\n",
    "    cv_scores_bgr,\n",
    "    cv_scores_gbm,\n",
    "    cv_scores_rf,\n",
    "    cv_scores_ada,\n",
    "    cv_scores_br,\n",
    "    cv_scores_xgb,\n",
    "    cv_scores_cat,\n",
    "    cv_scores_lgbm,\n",
    "    cv_scores_stack\n",
    "]"
   ]
  },
  {
   "cell_type": "code",
   "execution_count": null,
   "metadata": {
    "cell_style": "split",
    "scrolled": false
   },
   "outputs": [],
   "source": [
    "compare_cv_results(dfs, what = \"mean\")"
   ]
  },
  {
   "cell_type": "code",
   "execution_count": null,
   "metadata": {
    "cell_style": "split"
   },
   "outputs": [],
   "source": [
    "compare_cv_results(dfs, what = \"std\")"
   ]
  },
  {
   "cell_type": "markdown",
   "metadata": {},
   "source": [
    "- In this case stacking **did not** improve the CV results.\n",
    "- We could try other combination between regressor and meta regressor. This seems to be  matter of finding the best combination via some trials and errors."
   ]
  },
  {
   "cell_type": "markdown",
   "metadata": {},
   "source": [
    "# Extreme settings"
   ]
  },
  {
   "cell_type": "markdown",
   "metadata": {},
   "source": [
    "- These are settings found by other kagglers. They are here flagged as extreme as I've assumed they have gone some sort of deep tuning. Of course, this assumption can possibly be plain wrong.\n",
    "- I am using they all have gone some sort of optimisation and they are here reported for two reasons:\n",
    "    - They serve as a base for comparison, meaning, can I find they same sort of setting also wth hyper=parameters tuning routune?\n",
    "    - They serve as a quick indication of how much potential a model has.\n",
    "- Further, my datacleaning and feature engineering, are very different therefore there is no solid ground as why we should perform such analysis. For me was just a check to probe the model potential. I admit, that potential here will be discover by luck rather than regorous analysis."
   ]
  },
  {
   "cell_type": "markdown",
   "metadata": {},
   "source": [
    "## Lasso -> extreme"
   ]
  },
  {
   "cell_type": "markdown",
   "metadata": {},
   "source": [
    "- This was the taken from [reference](https://www.kaggle.com/roee286/some-lessons-3rd-place-in-leaderboard)"
   ]
  },
  {
   "cell_type": "code",
   "execution_count": null,
   "metadata": {},
   "outputs": [],
   "source": [
    "lasso_extreme = linear_model.Lasso(max_iter=1e6, alpha=5e-4)\n",
    "model_scores_on_train_test_splits(lasso_extreme,\n",
    "    x_train, y_train, x_test, y_test, verbose=False)"
   ]
  },
  {
   "cell_type": "code",
   "execution_count": null,
   "metadata": {},
   "outputs": [],
   "source": [
    "cv_scores_lasso_ex, _ = get_cv_scores(\n",
    "    lasso_extreme, X, y, name=\"lasso_ext\", n_splits=10, state=42, test_size=0.25,\n",
    "    type_=\"k-fold\", verbose=False)\n",
    "cv_scores_lasso_ex"
   ]
  },
  {
   "cell_type": "markdown",
   "metadata": {},
   "source": [
    "- Let's now compare this setting against the baseline."
   ]
  },
  {
   "cell_type": "code",
   "execution_count": null,
   "metadata": {},
   "outputs": [],
   "source": [
    "compare_cv_results([cv_scores_lasso, cv_scores_lasso_ex], what = \"mean\")"
   ]
  },
  {
   "cell_type": "markdown",
   "metadata": {},
   "source": [
    "## Extra tree -> extreme"
   ]
  },
  {
   "cell_type": "code",
   "execution_count": null,
   "metadata": {
    "scrolled": true
   },
   "outputs": [],
   "source": [
    "# Using all features available\n",
    "extra_tree_extreme = ExtraTreesRegressor(\n",
    "    n_estimators=3000, max_features=x_train.shape[1])\n",
    "model_scores_on_train_test_splits(extra_tree_extreme,\n",
    "                                  x_train, y_train, x_test, y_test, verbose=False)"
   ]
  },
  {
   "cell_type": "code",
   "execution_count": null,
   "metadata": {},
   "outputs": [],
   "source": [
    "cv_scores_et_ext, _ = get_cv_scores(\n",
    "    extra_tree, X, y, name=\"extra_t_ext\", n_splits=10, state=42, test_size=0.25,\n",
    "    type_=\"k-fold\", verbose=False)\n",
    "cv_scores_et_ext"
   ]
  },
  {
   "cell_type": "code",
   "execution_count": null,
   "metadata": {},
   "outputs": [],
   "source": [
    "compare_cv_results([cv_scores_et, cv_scores_et_ext], what = \"mean\")"
   ]
  },
  {
   "cell_type": "markdown",
   "metadata": {},
   "source": [
    "## Bagging regressor -> extreme"
   ]
  },
  {
   "cell_type": "code",
   "execution_count": null,
   "metadata": {
    "scrolled": true
   },
   "outputs": [],
   "source": [
    "br_extreme = BaggingRegressor(n_estimators=3000, max_features=x_train.shape[1])\n",
    "model_scores_on_train_test_splits(br_extreme,\n",
    "                                  x_train, y_train, x_test, y_test, verbose=False)"
   ]
  },
  {
   "cell_type": "code",
   "execution_count": null,
   "metadata": {},
   "outputs": [],
   "source": [
    "cv_scores_br_ex, _ = get_cv_scores(\n",
    "    br, X, y, name=\"br_ext\", n_splits=10, state=42, test_size=0.25, type_=\"k-fold\", verbose=False)\n",
    "cv_scores_br_ex"
   ]
  },
  {
   "cell_type": "code",
   "execution_count": null,
   "metadata": {},
   "outputs": [],
   "source": [
    "compare_cv_results([cv_scores_br, cv_scores_br_ex], what = \"mean\")"
   ]
  },
  {
   "cell_type": "markdown",
   "metadata": {},
   "source": [
    "## XGBoost -> extreme setting"
   ]
  },
  {
   "cell_type": "markdown",
   "metadata": {},
   "source": [
    "- This settings were copied from this [reference](https://www.kaggle.com/humananalog/xgboost-lasso).\n",
    "- There were used to get an idea of how much I should have expanded my hyper-parameters tuning."
   ]
  },
  {
   "cell_type": "code",
   "execution_count": null,
   "metadata": {},
   "outputs": [],
   "source": [
    "xgb_extreme = XGBRegressor(\n",
    "    colsample_bytree=0.2,\n",
    "    gamma=0.0,\n",
    "    learning_rate=0.01,\n",
    "    max_depth=4,\n",
    "    min_child_weight=1.5,\n",
    "    n_estimators=7200,\n",
    "    reg_alpha=0.9,\n",
    "    reg_lambda=0.6,\n",
    "    subsample=0.2,\n",
    "    seed=42,    \n",
    "    n_jobs=1)"
   ]
  },
  {
   "cell_type": "code",
   "execution_count": null,
   "metadata": {},
   "outputs": [],
   "source": [
    "model_scores_on_train_test_splits(xgb_extreme,\n",
    "    x_train, y_train, x_test, y_test, verbose=False)"
   ]
  },
  {
   "cell_type": "code",
   "execution_count": null,
   "metadata": {},
   "outputs": [],
   "source": [
    "cv_scores_xgb_ex, _ = get_cv_scores(\n",
    "    xgb_extreme, X, y, name=\"xgb_ext\", n_splits=10, state=42, test_size=0.25, type_=\"k-fold\", verbose=False)\n",
    "cv_scores_xgb_ex"
   ]
  },
  {
   "cell_type": "code",
   "execution_count": null,
   "metadata": {},
   "outputs": [],
   "source": [
    "compare_cv_results([cv_scores_xgb, cv_scores_xgb_ex], what = \"mean\")"
   ]
  },
  {
   "cell_type": "markdown",
   "metadata": {},
   "source": [
    "## LightGBM -> extreme"
   ]
  },
  {
   "cell_type": "code",
   "execution_count": null,
   "metadata": {},
   "outputs": [],
   "source": [
    "l_gbm_extreme = LGBMRegressor(objective='regression', \n",
    "                       num_leaves=6,\n",
    "                       learning_rate=0.01, \n",
    "                       n_estimators=7000,\n",
    "                       max_bin=200, \n",
    "                       bagging_fraction=0.8,\n",
    "                       bagging_freq=4, \n",
    "                       bagging_seed=8,\n",
    "                       feature_fraction=0.2,\n",
    "                       feature_fraction_seed=8,\n",
    "                       min_sum_hessian_in_leaf = 11,\n",
    "                       verbose=-1,\n",
    "                       random_state=42)"
   ]
  },
  {
   "cell_type": "code",
   "execution_count": null,
   "metadata": {},
   "outputs": [],
   "source": [
    "model_scores_on_train_test_splits(l_gbm_extreme,\n",
    "    x_train, y_train, x_test, y_test, verbose=False)"
   ]
  },
  {
   "cell_type": "code",
   "execution_count": null,
   "metadata": {},
   "outputs": [],
   "source": [
    "cv_scores_l_gbm_ex, _ = get_cv_scores(\n",
    "    l_gbm_extreme, X, y, name=\"l_gbm_ext\", n_splits=10, state=42, test_size=0.25, type_=\"k-fold\", verbose=False)\n",
    "cv_scores_l_gbm_ex"
   ]
  },
  {
   "cell_type": "code",
   "execution_count": null,
   "metadata": {},
   "outputs": [],
   "source": [
    "compare_cv_results([cv_scores_lgbm, cv_scores_l_gbm_ex], what = \"mean\")"
   ]
  },
  {
   "cell_type": "markdown",
   "metadata": {},
   "source": [
    "## Ridge -> extreme"
   ]
  },
  {
   "cell_type": "markdown",
   "metadata": {},
   "source": [
    "- I guess what `RidgeCV` does is to select the best value of alphas."
   ]
  },
  {
   "cell_type": "code",
   "execution_count": null,
   "metadata": {},
   "outputs": [],
   "source": [
    "ridge_alphas = [1e-15, 1e-10, 1e-8, 9e-4, 7e-4, 5e-4, 3e-4, 1e-4,\n",
    "                1e-3, 5e-2, 1e-2, 0.1, 0.3, 1, 3, 5, 10, 15, 18, 20, 30, 50, 75, 100]\n",
    "kf = KFold(n_splits=10, random_state=42, shuffle=True)\n",
    "ridge_extreme = make_pipeline(\n",
    "    RobustScaler(), RidgeCV(alphas=ridge_alphas, cv=kf))"
   ]
  },
  {
   "cell_type": "code",
   "execution_count": null,
   "metadata": {
    "scrolled": true
   },
   "outputs": [],
   "source": [
    "ridge_extreme.get_params"
   ]
  },
  {
   "cell_type": "code",
   "execution_count": null,
   "metadata": {},
   "outputs": [],
   "source": [
    "model_scores_on_train_test_splits(ridge_extreme,\n",
    "    x_train, y_train, x_test, y_test, verbose=False)"
   ]
  },
  {
   "cell_type": "markdown",
   "metadata": {},
   "source": [
    "- There should not be much difference between the cell above and below because we have used CV already."
   ]
  },
  {
   "cell_type": "code",
   "execution_count": null,
   "metadata": {},
   "outputs": [],
   "source": [
    "cv_scores_ridge_ex, _ = get_cv_scores(\n",
    "    ridge_extreme, X, y, name=\"ridge_ext\", n_splits=10, state=42, test_size=0.25,\n",
    "    type_=\"k-fold\", verbose=False)\n",
    "cv_scores_ridge_ex"
   ]
  },
  {
   "cell_type": "code",
   "execution_count": null,
   "metadata": {},
   "outputs": [],
   "source": [
    "compare_cv_results([cv_scores_ridge, cv_scores_ridge_ex], what = \"mean\")"
   ]
  },
  {
   "cell_type": "markdown",
   "metadata": {},
   "source": [
    "## Gradient Boosting -> extreme"
   ]
  },
  {
   "cell_type": "code",
   "execution_count": null,
   "metadata": {},
   "outputs": [],
   "source": [
    "gbm_extreme = GradientBoostingRegressor(n_estimators=6000,\n",
    "                                learning_rate=0.01,\n",
    "                                max_depth=4,\n",
    "                                max_features='sqrt',\n",
    "                                min_samples_leaf=15,\n",
    "                                min_samples_split=10,\n",
    "                                loss='huber',\n",
    "                                random_state=42)  "
   ]
  },
  {
   "cell_type": "code",
   "execution_count": null,
   "metadata": {},
   "outputs": [],
   "source": [
    "model_scores_on_train_test_splits(gbm_extreme,\n",
    "    x_train, y_train, x_test, y_test, verbose=False)"
   ]
  },
  {
   "cell_type": "code",
   "execution_count": null,
   "metadata": {},
   "outputs": [],
   "source": [
    "cv_scores_gbm_ex, _ = get_cv_scores(\n",
    "    gbm_extreme, X, y, name=\"gbm_ext\", n_splits=10, state=42, test_size=0.25, type_=\"k-fold\", verbose=False)\n",
    "cv_scores_gbm_ex"
   ]
  },
  {
   "cell_type": "code",
   "execution_count": null,
   "metadata": {},
   "outputs": [],
   "source": [
    "compare_cv_results([cv_scores_gbm, cv_scores_gbm_ex], what = \"mean\")"
   ]
  },
  {
   "cell_type": "markdown",
   "metadata": {},
   "source": [
    "## Random Forest -> extreme"
   ]
  },
  {
   "cell_type": "code",
   "execution_count": null,
   "metadata": {},
   "outputs": [],
   "source": [
    "rf_extreme = RandomForestRegressor(n_estimators=1200,\n",
    "                          max_depth=15,\n",
    "                          min_samples_split=5,\n",
    "                          min_samples_leaf=5,\n",
    "                          max_features=None,\n",
    "                          oob_score=True,\n",
    "                          random_state=42)"
   ]
  },
  {
   "cell_type": "code",
   "execution_count": null,
   "metadata": {},
   "outputs": [],
   "source": [
    "model_scores_on_train_test_splits(rf_extreme,\n",
    "    x_train, y_train, x_test, y_test, verbose=False)"
   ]
  },
  {
   "cell_type": "code",
   "execution_count": null,
   "metadata": {},
   "outputs": [],
   "source": [
    "cv_scores_rf_ex, _ = get_cv_scores(\n",
    "    rf_extreme, X, y, name=\"rf_ext\", n_splits=10, state=42, test_size=0.25, type_=\"k-fold\", verbose=False)\n",
    "cv_scores_rf_ex"
   ]
  },
  {
   "cell_type": "code",
   "execution_count": null,
   "metadata": {},
   "outputs": [],
   "source": [
    "compare_cv_results([cv_scores_rf, cv_scores_rf_ex], what = \"mean\")"
   ]
  },
  {
   "cell_type": "markdown",
   "metadata": {},
   "source": [
    "# CatBoost -> Extreme"
   ]
  },
  {
   "cell_type": "markdown",
   "metadata": {},
   "source": [
    "- Credits to this [reference](https://www.kaggle.com/marto24/beginners-prediction-top3/notebook)"
   ]
  },
  {
   "cell_type": "code",
   "execution_count": null,
   "metadata": {},
   "outputs": [],
   "source": [
    "params_extreme = {'iterations': 6000,\n",
    "          'learning_rate': 0.005,\n",
    "          'depth': 4,\n",
    "          'l2_leaf_reg': 1,\n",
    "          'eval_metric':'RMSE',\n",
    "          'early_stopping_rounds': 200,\n",
    "          'verbose': False,\n",
    "          'random_seed': 42}"
   ]
  },
  {
   "cell_type": "code",
   "execution_count": null,
   "metadata": {},
   "outputs": [],
   "source": [
    "cat_extreme = CatBoostRegressor(**params_extreme)\n",
    "model_scores_on_train_test_splits(cat_extreme,\n",
    "    x_train, y_train, x_test, y_test, verbose=False)"
   ]
  },
  {
   "cell_type": "code",
   "execution_count": null,
   "metadata": {},
   "outputs": [],
   "source": [
    "cv_scores_cat_ex, _ = get_cv_scores(cat_extreme, X, y, name=\"cat_ext\", n_splits=10,\n",
    "                              state=42, test_size=0.25, type_=\"k-fold\", verbose=False)\n",
    "cv_scores_cat_ex"
   ]
  },
  {
   "cell_type": "code",
   "execution_count": null,
   "metadata": {},
   "outputs": [],
   "source": [
    "compare_cv_results([cv_scores_cat, cv_scores_cat_ex], what = \"mean\")"
   ]
  },
  {
   "cell_type": "markdown",
   "metadata": {},
   "source": [
    "## SVR -> extreme"
   ]
  },
  {
   "cell_type": "code",
   "execution_count": null,
   "metadata": {},
   "outputs": [],
   "source": [
    "# Support Vector Regressor\n",
    "svr_extreme = make_pipeline(RobustScaler(), SVR(C= 20, epsilon= 0.008, gamma=0.0003))"
   ]
  },
  {
   "cell_type": "code",
   "execution_count": null,
   "metadata": {},
   "outputs": [],
   "source": [
    "model_scores_on_train_test_splits(svr_extreme,\n",
    "    x_train, y_train, x_test, y_test, verbose=False)"
   ]
  },
  {
   "cell_type": "code",
   "execution_count": null,
   "metadata": {},
   "outputs": [],
   "source": [
    "cv_scores_svr_ex, _ = get_cv_scores(\n",
    "    svr_extreme, X, y, name=\"svr_ext\", n_splits=10, state=42, test_size=0.25, type_=\"k-fold\", verbose=False)\n",
    "cv_scores_svr_ex"
   ]
  },
  {
   "cell_type": "code",
   "execution_count": null,
   "metadata": {},
   "outputs": [],
   "source": [
    "compare_cv_results([cv_scores_svr_scaled, cv_scores_svr_ex], what = \"mean\")"
   ]
  },
  {
   "cell_type": "markdown",
   "metadata": {},
   "source": [
    "## Stacked Regressor -> extreme"
   ]
  },
  {
   "cell_type": "code",
   "execution_count": null,
   "metadata": {},
   "outputs": [],
   "source": [
    "stack_gen_extreme = StackingRegressor(regressors=(xgb_extreme, l_gbm_extreme, cat_extreme),\n",
    "                                      meta_regressor=ridge_extreme,\n",
    "                                      use_features_in_secondary=True)"
   ]
  },
  {
   "cell_type": "code",
   "execution_count": null,
   "metadata": {},
   "outputs": [],
   "source": [
    "model_scores_on_train_test_splits(stack_gen_extreme,\n",
    "    x_train, y_train, x_test, y_test, verbose=False)"
   ]
  },
  {
   "cell_type": "code",
   "execution_count": null,
   "metadata": {},
   "outputs": [],
   "source": [
    "cv_scores_stack_ex, _ = get_cv_scores(\n",
    "    stack_gen_extreme, X, y, name=\"stack_ext\", n_splits=10, state=42, test_size=0.25, type_=\"k-fold\", verbose=False)\n",
    "cv_scores_stack_ex"
   ]
  },
  {
   "cell_type": "code",
   "execution_count": null,
   "metadata": {},
   "outputs": [],
   "source": [
    "compare_cv_results([cv_scores_stack, cv_scores_stack_ex], what = \"mean\")"
   ]
  },
  {
   "cell_type": "markdown",
   "metadata": {},
   "source": [
    "## Comparing extreme models"
   ]
  },
  {
   "cell_type": "markdown",
   "metadata": {},
   "source": [
    "- You now have two alternative to choose the model.\n",
    "    - Use the score coming from the train and split method.\n",
    "    - Use the score coming from the CV.\n",
    "- As a general rule you'd like to have the most robust prediction and this is done by looking at your CV score. This is even more important if your dataet is not huge."
   ]
  },
  {
   "cell_type": "code",
   "execution_count": null,
   "metadata": {},
   "outputs": [],
   "source": [
    "dfs = [\n",
    "    cv_scores_lasso_ex,\n",
    "    cv_scores_et_ext,\n",
    "    cv_scores_br_ex,\n",
    "    cv_scores_ridge_ex,\n",
    "    cv_scores_xgb_ex,\n",
    "    cv_scores_cat_ex,\n",
    "    cv_scores_l_gbm_ex,\n",
    "    cv_scores_gbm_ex,\n",
    "    cv_scores_rf_ex,\n",
    "    cv_scores_svr_ex,\n",
    "    cv_scores_stack_ex\n",
    "]"
   ]
  },
  {
   "cell_type": "markdown",
   "metadata": {},
   "source": [
    "- From the table below, we'd like to exclude the less performant model:\n",
    "    - extra tree\n",
    "    - bagging regressor\n",
    "    - support vector\n",
    "- Keep in mind that were results obtained using tuned parameters taken from others kagglers. As such they come with all sort of problems."
   ]
  },
  {
   "cell_type": "code",
   "execution_count": null,
   "metadata": {},
   "outputs": [],
   "source": [
    "# Get the best std\n",
    "compare_cv_results(dfs, what = \"mean\")"
   ]
  },
  {
   "cell_type": "code",
   "execution_count": null,
   "metadata": {
    "scrolled": true
   },
   "outputs": [],
   "source": [
    "compare_bar_cv_results(dfs)"
   ]
  },
  {
   "cell_type": "code",
   "execution_count": null,
   "metadata": {},
   "outputs": [],
   "source": [
    "visual_comparison([lasso_extreme, ridge_extreme], X, y, log_scale=False)"
   ]
  },
  {
   "cell_type": "code",
   "execution_count": null,
   "metadata": {},
   "outputs": [],
   "source": [
    "visual_comparison([ridge_extreme, xgb_extreme, cat_extreme,\n",
    "                  l_gbm_extreme, stack_gen_extreme], X, y, log_scale=False)"
   ]
  },
  {
   "cell_type": "markdown",
   "metadata": {},
   "source": [
    "## ANN"
   ]
  },
  {
   "cell_type": "code",
   "execution_count": null,
   "metadata": {},
   "outputs": [],
   "source": [
    "# This the imput accepted by Keras\n",
    "x_train_K = np.array(x_train)\n",
    "x_test_K = np.array(x_test)\n",
    "y_train_K = np.array(y_train)\n",
    "y_test_K = np.array(y_test)"
   ]
  },
  {
   "cell_type": "code",
   "execution_count": null,
   "metadata": {},
   "outputs": [],
   "source": [
    "x_train_K = StandardScaler().fit_transform(x_train_K)\n",
    "x_test_K = StandardScaler().fit_transform(x_test_K)"
   ]
  },
  {
   "cell_type": "code",
   "execution_count": null,
   "metadata": {},
   "outputs": [],
   "source": [
    "\"\"\"\n",
    "model = Sequential()\n",
    "model.add(Dense(256, input_dim=x_train_K.shape[1]))\n",
    "model.add(LeakyReLU(alpha=.1))\n",
    "model.add(Dropout(.1))\n",
    "model.add(Dense(192, activation='relu'))\n",
    "model.add(Dropout(.2))\n",
    "model.add(Dense(128, activation='relu'))\n",
    "model.add(Dropout(.1))\n",
    "model.add(Dense(64, activation='relu'))\n",
    "model.add(Dropout(.2))\n",
    "model.add(Dense(32, activation='relu'))\n",
    "model.add(Dropout(.1))\n",
    "model.add(Dense(16, activation='relu'))\n",
    "model.add(Dense(1))\n",
    "#\"\"\""
   ]
  },
  {
   "cell_type": "code",
   "execution_count": null,
   "metadata": {},
   "outputs": [],
   "source": [
    "#\"\"\"\n",
    "model = Sequential()\n",
    "\n",
    "model.add(Dense(x_train_K.shape[1], activation='relu'))\n",
    "\n",
    "model.add(Dense(1024, activation='relu'))\n",
    "model.add(Dropout(0.2))\n",
    "\n",
    "model.add(Dense(512, activation='relu'))\n",
    "model.add(Dropout(0.2))\n",
    "\n",
    "model.add(Dense(256, activation='relu'))\n",
    "model.add(Dropout(0.2))\n",
    "\n",
    "model.add(Dense(128, activation='relu'))\n",
    "model.add(Dropout(0.2))\n",
    "\n",
    "model.add(Dense(64, activation='relu'))\n",
    "model.add(Dropout(0.1))\n",
    "\n",
    "model.add(Dense(128, activation='relu'))\n",
    "model.add(Dropout(0.1))\n",
    "\n",
    "model.add(Dense(256, activation='relu'))\n",
    "model.add(Dropout(0.1))\n",
    "\n",
    "model.add(Dense(512, activation='relu'))\n",
    "model.add(Dropout(0.1))\n",
    "\n",
    "model.add(Dense(1024, activation='relu'))\n",
    "model.add(Dropout(0.1))\n",
    "\n",
    "model.add(Dense(1))\n",
    "\n",
    "model_ = copy.deepcopy(model)\n",
    "model_CV = copy.deepcopy(model)\n",
    "#\"\"\""
   ]
  },
  {
   "cell_type": "code",
   "execution_count": null,
   "metadata": {},
   "outputs": [],
   "source": [
    "def root_mean_squared_error(y_true, y_pred):\n",
    "    return K.sqrt(K.mean(K.square(y_pred - y_true), axis=0))"
   ]
  },
  {
   "cell_type": "code",
   "execution_count": null,
   "metadata": {},
   "outputs": [],
   "source": [
    "#model.compile(optimizer=Adam(0.00001), loss='mse', metrics=[root_mean_squared_error])\n",
    "model_.compile(optimizer=Adam(0.0001), loss='mse', metrics=[root_mean_squared_error])"
   ]
  },
  {
   "cell_type": "code",
   "execution_count": null,
   "metadata": {
    "scrolled": true
   },
   "outputs": [],
   "source": [
    "r = model_.fit(x_train_K, y_train_K,\n",
    "              validation_data=(x_test_K, y_test_K),\n",
    "              batch_size=1,\n",
    "              epochs=100,\n",
    "              callbacks=[EarlyStopping(patience=50, verbose=1)])"
   ]
  },
  {
   "cell_type": "code",
   "execution_count": null,
   "metadata": {
    "scrolled": false
   },
   "outputs": [],
   "source": [
    "pd.DataFrame(r.history).plot.line(y=['loss', 'val_loss'])"
   ]
  },
  {
   "cell_type": "code",
   "execution_count": null,
   "metadata": {},
   "outputs": [],
   "source": [
    "# we do not want to fit model again!\n",
    "model_scores_on_train_test_splits(model_,\n",
    "                                  x_train_K, y_train_K, x_test_K, y_test_K, verbose=False, fit=False)"
   ]
  },
  {
   "cell_type": "markdown",
   "metadata": {},
   "source": [
    "- To CV the results for this ANNs, I'd suggest using only two splits because of the time taken to fit the whole model is much longer than the others models seen before.\n",
    "- This is obviously should not be used as an excuse for not properly validating the model, so if you the time increase the n_split to at leat 5."
   ]
  },
  {
   "cell_type": "code",
   "execution_count": null,
   "metadata": {
    "code_folding": [
     0,
     89
    ]
   },
   "outputs": [],
   "source": [
    "def get_cv_scores_custom(models, train_set, train_target, n_splits=10,\n",
    "                         state=42, test_size=0.25, name=\"dummy\", type_=\"k-fold\", verbose=False):\n",
    "    \"\"\"Get the CV scores of a blending model.\n",
    "\n",
    "    The blending is done via weights. These impose the level of importance\n",
    "    each model has on the prediction of the final solution.\n",
    "\n",
    "    Parameters\n",
    "    ----------\n",
    "    models : list of model object\n",
    "        It is assumed the model paramaters have already been defined\n",
    "        and the fitting is th only thing done inside this method.        \n",
    "\n",
    "    train_set : pandas dataframe\n",
    "        Matrix contraining instances and features\n",
    "\n",
    "    train_target : pandas dataframe\n",
    "        target\n",
    "\n",
    "    name : string\n",
    "        name to be used in returns pandas dataframe\n",
    "\n",
    "    n_splits : int, default=10\n",
    "        No of splits\n",
    "\n",
    "    state : int, default=42\n",
    "        No for the random state pseudo number generator\n",
    "\n",
    "    test_size : float\n",
    "        Size of the test set between 0 and 1\n",
    "\n",
    "    type_ : string, default=\"k-fold\"\n",
    "        Type of cross-validation used\n",
    "\n",
    "    verbose : string, default=False\n",
    "        If True print on screen the results, otherwise it does \n",
    "        not print anything on console.\n",
    "\n",
    "    Returns\n",
    "    -------\n",
    "    table : pandas dataframe\n",
    "        Table containing the mean and std for each metrics.\n",
    "\n",
    "    \"\"\"\n",
    "\n",
    "    def _get_model_scores_on_test_splits(models, x_train, y_train, x_test, y_test, verbose=False):\n",
    "\n",
    "        # Predict on both test and train. We'll use the test set to\n",
    "        # see the model generalisation and train to see how much is\n",
    "        # overfitting.\n",
    "        model.compile(optimizer=Adam(0.0001), loss='mse', metrics=[root_mean_squared_error])\n",
    "        model.fit(x_train, y_train,\n",
    "                  validation_data=(x_test, y_test),\n",
    "                  batch_size=1,\n",
    "                  epochs=100,\n",
    "                  callbacks=[EarlyStopping(patience=50, verbose=1)],\n",
    "                  verbose=False)\n",
    "\n",
    "        test_pred = model.predict(x_test)\n",
    "        train_pred = model.predict(x_train)\n",
    "\n",
    "        def _get_metrics(true, predicted):\n",
    "            mae = metrics.mean_absolute_error(true, predicted)\n",
    "            mse = metrics.mean_squared_error(true, predicted)\n",
    "            rmse = np.sqrt(metrics.mean_squared_error(true, predicted))\n",
    "            r2 = metrics.r2_score(true, predicted)\n",
    "            if verbose == True:\n",
    "                print('MAE:', mae)\n",
    "                print('MSE:', mse)\n",
    "                print('RMSE:', rmse)\n",
    "                print('R2', r2)\n",
    "                print(\"\")\n",
    "            return mae, mse, rmse, r2\n",
    "\n",
    "        mae, mse, rmse, r2 = _get_metrics(y_train, train_pred)\n",
    "        train_results = [mae, mse, rmse, r2]\n",
    "\n",
    "        mae, mse, rmse, r2 = _get_metrics(y_test, test_pred)\n",
    "        test_results = [mae, mse, rmse, r2]\n",
    "\n",
    "        results = {}\n",
    "        results[\"train\"] = train_results\n",
    "        results[\"test\"] = train_results\n",
    "        return results\n",
    "\n",
    "    print(\"Type of CV selected\", type_)\n",
    "\n",
    "    # k-Fold\n",
    "    if type_ == \"k-fold\":\n",
    "        scoring = [\"neg_mean_absolute_error\", \"neg_mean_squared_error\",\n",
    "                   \"neg_root_mean_squared_error\", \"r2\"]\n",
    "        metrics_acronyms = [\"MAE\", \"MSE\", \"RMSE\", \"R2\"]\n",
    "        split_strategy = KFold(\n",
    "            n_splits=n_splits, random_state=state, shuffle=True)\n",
    "\n",
    "        # Enumerate splits\n",
    "        result = []\n",
    "        counter = 0\n",
    "        for index_train, index_test in split_strategy.split(train_set):\n",
    "            counter += 1\n",
    "            #print(\"Evaluation\", counter)\n",
    "            #x_train = train_set.iloc[index_train]\n",
    "            x_train = train_set[index_train]\n",
    "            #x_test = train_set.iloc[index_test]\n",
    "            x_test = train_set[index_test]\n",
    "\n",
    "            #y_train = train_target.iloc[index_train]\n",
    "            y_train = train_target[index_train]\n",
    "            #y_test = train_target.iloc[index_test]\n",
    "            y_test = train_target[index_test]\n",
    "\n",
    "            dummy = _get_model_scores_on_test_splits(\n",
    "                models, x_train, y_train, x_test, y_test, verbose=False)\n",
    "            result.append(dummy)\n",
    "\n",
    "        mae_test, mae_train = [], []\n",
    "        mse_test, mse_train = [], []\n",
    "        rmse_test, rmse_train = [], []\n",
    "        r2_test, r2_train = [], []\n",
    "\n",
    "        for SET in result:\n",
    "            mae_test.append(SET[\"test\"][0])\n",
    "            mae_train.append(SET[\"train\"][0])\n",
    "\n",
    "            mse_test.append(SET[\"test\"][1])\n",
    "            mse_train.append(SET[\"train\"][1])\n",
    "\n",
    "            rmse_test.append(SET[\"test\"][2])\n",
    "            rmse_train.append(SET[\"train\"][2])\n",
    "\n",
    "            r2_test.append(SET[\"test\"][3])\n",
    "            r2_train.append(SET[\"train\"][3])\n",
    "\n",
    "        #table = pd.DataFrame()\n",
    "        #table[\"metrics\"] = [\"MAE\", \"MSE\", \"RMSE\", \"R2\"]\n",
    "\n",
    "        # table[\"Train\"] = [np.array(mae_train).mean(), np.array(\n",
    "        #    mse_train).mean(), np.array(rmse_train).mean(), np.array(r2_train).mean()]\n",
    "\n",
    "        # table[\"Test\"] = [np.array(mae_test).mean(), np.array(\n",
    "        #    mse_test).mean(), np.array(rmse_test).mean(), np.array(r2_test).mean()]\n",
    "\n",
    "    # Repeated train-test\n",
    "    else:\n",
    "        print(\"not implementened\")\n",
    "\n",
    "    # We're going to report only the CV test score.\n",
    "    mean, std = [], []\n",
    "    for i in range(len(metrics_acronyms)):\n",
    "        folds = [abs(SET[\"test\"][i]) for SET in result]\n",
    "        mean_temp = np.array([abs(SET[\"test\"][i]) for SET in result]).mean()\n",
    "        std_temp = np.array([abs(SET[\"test\"][i]) for SET in result]).std()\n",
    "\n",
    "        mean.append(mean_temp)\n",
    "        std.append(std_temp)\n",
    "\n",
    "    table = pd.DataFrame()\n",
    "    table[\"metrics\"] = metrics_acronyms\n",
    "    table[\"mean_CV_\"+type_+\"_\"+name] = mean\n",
    "    table[\"std_CV_\"+type_+\"_\"+name] = std\n",
    "\n",
    "    return table, split_strategy"
   ]
  },
  {
   "cell_type": "code",
   "execution_count": null,
   "metadata": {
    "scrolled": true
   },
   "outputs": [],
   "source": [
    "cv_scores_ann, _ = get_cv_scores_custom(model_CV, x_train_K, y_train_K, n_splits=2)"
   ]
  },
  {
   "cell_type": "code",
   "execution_count": null,
   "metadata": {},
   "outputs": [],
   "source": [
    "cv_scores_ann"
   ]
  },
  {
   "cell_type": "markdown",
   "metadata": {},
   "source": [
    "- ANNs is not fairing very well and probably my choiche of architecture is not great.\n",
    "- I could have spent more time changing the model, but I am dtopping this due to time constraint."
   ]
  },
  {
   "cell_type": "markdown",
   "metadata": {},
   "source": [
    "# Features stacking"
   ]
  },
  {
   "cell_type": "markdown",
   "metadata": {},
   "source": [
    "- At this point we have spot checked a series of model. All of them are probably neither tuned nor properly fitted (meaning, they are likley to overfit).\n",
    "- With this in mind we can still see how a a single model would behave if it a feature is to be added one by one.\n",
    "- The way the feature are added follow the correlaction matrix study before. This is by no-means a comprehensive study and serve just as an example on how the model behaves.\n"
   ]
  },
  {
   "cell_type": "code",
   "execution_count": null,
   "metadata": {},
   "outputs": [],
   "source": [
    "print(\"Find most important features relative to target\")\n",
    "corr = df_train.corr()\n",
    "corr.sort_values([\"SalePrice\"], ascending = False, inplace = True)\n",
    "print(corr.SalePrice.index)"
   ]
  },
  {
   "cell_type": "code",
   "execution_count": null,
   "metadata": {},
   "outputs": [],
   "source": [
    "features_order_by_importance = corr.SalePrice.index"
   ]
  },
  {
   "cell_type": "code",
   "execution_count": null,
   "metadata": {},
   "outputs": [],
   "source": [
    "df_stacking = pd.concat([df_train, df_test], axis=0)"
   ]
  },
  {
   "cell_type": "code",
   "execution_count": null,
   "metadata": {},
   "outputs": [],
   "source": [
    "train = df_train\n",
    "test = df_test"
   ]
  },
  {
   "cell_type": "code",
   "execution_count": null,
   "metadata": {
    "code_folding": [
     0
    ]
   },
   "outputs": [],
   "source": [
    "def incremental_feature_modelling(df, features, score_name, model, validation_type):\n",
    "    \"\"\"Incremental feature modelling\n",
    "\n",
    "    This methods add one feature one-by-one starting from \n",
    "    the most important to the least important. The user can\n",
    "    follows one metric at the time.\n",
    "\n",
    "    Parameters\n",
    "    ----------\n",
    "    df : pandas dataframe\n",
    "        It is the union of both train and test sets.\n",
    "\n",
    "    features : pandas dataframe\n",
    "        It is order by the most important to the least important.\n",
    "        features.\n",
    "    score : string\n",
    "        Name of the scoring variable you want to follow.\n",
    "\n",
    "    model : object\n",
    "        Name of the model to be used. Must have a fit method\n",
    "\n",
    "    validation_type : string\n",
    "        Type of validation when reporting the CV result. An\n",
    "        example is k-fold\n",
    "\n",
    "    Returns\n",
    "    -------\n",
    "    dfs : pandas dataframe\n",
    "        Dataframe containing the results. \n",
    "    \"\"\"\n",
    "\n",
    "    dfs = pd.DataFrame()\n",
    "    score = []\n",
    "    no = []\n",
    "    std = []\n",
    "    feature_added = []\n",
    "    selected_features = [\"SalePrice\"]\n",
    "    for i in features:\n",
    "        if i != \"SalePrice\":\n",
    "            selected_features.append(i)\n",
    "            # print(len(features))\n",
    "            # print(selected_features)\n",
    "            dff = df[selected_features]\n",
    "            dff = pd.get_dummies(dff)\n",
    "\n",
    "            df_train = dff.iloc[:train.shape[0], :]\n",
    "            df_test = dff.iloc[train.shape[0]:, :]\n",
    "            print(train.shape, df_train.shape)\n",
    "            print(test.shape, df_test.shape)\n",
    "\n",
    "            # Getting the feature and the target\n",
    "            X = df_train.drop(['SalePrice'], axis=1)\n",
    "            y = df_train['SalePrice']\n",
    "            df_test = df_test.drop(['SalePrice'], axis=1)\n",
    "\n",
    "            print(\"Adding feature\", i, \" No of features: \",\n",
    "                  len(selected_features)-1, \" encoded No: \", dff.shape[1])\n",
    "\n",
    "            # Modelling\n",
    "            cv_scores_xgb, _ = get_cv_scores(\n",
    "                model, X, y, name=\"dummy\", n_splits=10, state=42, test_size=0.25,\n",
    "                type_=validation_type, verbose=False)\n",
    "            dsp(cv_scores_xgb)\n",
    "\n",
    "            where = np.where(\n",
    "                cv_scores_xgb[\"metrics\"].values == score_name)[0][0]\n",
    "            score.append(cv_scores_xgb.iloc[where][\"mean_CV_k-fold_dummy\"])\n",
    "            std.append(cv_scores_xgb.iloc[where][\"std_CV_k-fold_dummy\"])\n",
    "\n",
    "            no.append(len(selected_features)-1)\n",
    "            feature_added.append(i)\n",
    "            print(\"_____________________________________\")\n",
    "            print(\"*************************************\")\n",
    "            print(\"-------------------------------------\")\n",
    "    dfs[\"no\"] = no\n",
    "    dfs[\"CV_mean_\"+score_name] = score\n",
    "    dfs[\"CV_std_\"+score_name] = std\n",
    "    dfs[\"feature_added\"] = feature_added\n",
    "\n",
    "    return dfs"
   ]
  },
  {
   "cell_type": "code",
   "execution_count": null,
   "metadata": {},
   "outputs": [],
   "source": [
    "results_features_stacking = incremental_feature_modelling(\n",
    "    df_stacking, features_order_by_importance, \"RMSE\", xgb, \"k-fold\")"
   ]
  },
  {
   "cell_type": "code",
   "execution_count": null,
   "metadata": {
    "scrolled": true
   },
   "outputs": [],
   "source": [
    "results_features_stacking"
   ]
  },
  {
   "cell_type": "markdown",
   "metadata": {},
   "source": [
    "- As we can see sometimes we should stop adding features!"
   ]
  },
  {
   "cell_type": "code",
   "execution_count": null,
   "metadata": {
    "cell_style": "center",
    "scrolled": false
   },
   "outputs": [],
   "source": [
    "plt.figure(figsize=(16, 24))\n",
    "sns.barplot(x=results_features_stacking['CV_mean_RMSE'],\n",
    "            y=results_features_stacking[\"feature_added\"])\n",
    "#plt.xticks(rotation=90, fontsize=18)\n",
    "\n",
    "# Plot the score reach by the last value\n",
    "plt.axvline(x=results_features_stacking['CV_mean_RMSE'].iloc[\n",
    "    -1], color='k', linestyle='--', lw=3, label='Reference line')\n",
    "plt.show()"
   ]
  },
  {
   "cell_type": "markdown",
   "metadata": {},
   "source": [
    "- How does this graph if I reshuffle the order?"
   ]
  },
  {
   "cell_type": "code",
   "execution_count": null,
   "metadata": {},
   "outputs": [],
   "source": [
    "features_order_by_importance"
   ]
  },
  {
   "cell_type": "markdown",
   "metadata": {},
   "source": [
    "- How can we reshuffle this in an idiomatic way in pandas?\n",
    "- The frac keyword argument specifies the fraction of rows to return in the random sample, so frac=1 means return all rows (in random order)."
   ]
  },
  {
   "cell_type": "code",
   "execution_count": null,
   "metadata": {},
   "outputs": [],
   "source": [
    "features_order_by_importance_re = pd.DataFrame(features_order_by_importance)\n",
    "features_order_by_importance_re = features_order_by_importance_re.sample(frac=1)\n",
    "features_order_by_importance_re = features_order_by_importance_re.values"
   ]
  },
  {
   "cell_type": "code",
   "execution_count": null,
   "metadata": {
    "scrolled": true
   },
   "outputs": [],
   "source": [
    "features_order_by_importance_re = [i[0] for i in features_order_by_importance_re]\n",
    "features_order_by_importance_re"
   ]
  },
  {
   "cell_type": "code",
   "execution_count": null,
   "metadata": {},
   "outputs": [],
   "source": [
    "results_features_stacking_re = incremental_feature_modelling(\n",
    "    df_stacking, features_order_by_importance_re, \"RMSE\", xgb, \"k-fold\")"
   ]
  },
  {
   "cell_type": "code",
   "execution_count": null,
   "metadata": {},
   "outputs": [],
   "source": [
    "plt.figure(figsize=(16, 24))\n",
    "sns.barplot(x=results_features_stacking_re['CV_mean_RMSE'],\n",
    "            y=results_features_stacking_re[\"feature_added\"])\n",
    "#plt.xticks(rotation=90, fontsize=18)\n",
    "\n",
    "# Plot the score reach by the last value\n",
    "plt.axvline(x=results_features_stacking_re['CV_mean_RMSE'].iloc[\n",
    "    -1], color='k', linestyle='--', lw=3, label='Reference line')\n",
    "plt.show()"
   ]
  },
  {
   "cell_type": "markdown",
   "metadata": {},
   "source": [
    "- The final result will obvisuly not changed, however what may change is the relative delta improvement in performance when each feature is added."
   ]
  },
  {
   "cell_type": "markdown",
   "metadata": {},
   "source": [
    "# Hyperparamter tuning"
   ]
  },
  {
   "cell_type": "markdown",
   "metadata": {},
   "source": [
    "- In **Grid Search**, we set up a grid of hyperparameters and train/test our model on each of the possible combinations. \n",
    "- In **Random Search**, we create a grid of hyperparameters and train/test our model on just some random combination of these hyperparameters."
   ]
  },
  {
   "attachments": {
    "image.png": {
     "image/png": "[encoded data removed]"
    }
   },
   "cell_type": "markdown",
   "metadata": {},
   "source": [
    "![image.png](attachment:image.png)"
   ]
  },
  {
   "cell_type": "code",
   "execution_count": null,
   "metadata": {
    "code_folding": [
     0
    ]
   },
   "outputs": [],
   "source": [
    "def grid_search(model, params, kf, df, target, score, n_iter=10, random=False):\n",
    "    \"\"\"hyperparamters search\n",
    "    \n",
    "    Perform hyperparamter tuning on a given CV sets\n",
    "    \n",
    "    Parameters\n",
    "    ----------\n",
    "    model - object\n",
    "    params - dictionary\n",
    "    kf - iterator\n",
    "    df - pandas daraframe\n",
    "    target - pandas dataframe\n",
    "    score - string\n",
    "    n_iter : int, default=10\n",
    "        Number of test performed by the random search.\n",
    "        If random=Flase this is ignored.\n",
    "    random : Bool, default=False\n",
    "    \n",
    "    Returns\n",
    "    -------\n",
    "    grid.best_params_ - dictionary\n",
    "        Dictionary of the best parameters\n",
    "    \"\"\"\n",
    "\n",
    "    # Create folds -> take of sample subdivision to get average\n",
    "    #kfold = StratifiedKFold(n_splits=5, shuffle=True, random_state=2)\n",
    "\n",
    "    # Chose the values to be searched in each folder selected above\n",
    "    if random:\n",
    "        grid = RandomizedSearchCV(\n",
    "            model, params, n_iter=10, n_jobs=-1, random_state=2, scoring=score, cv=kf)\n",
    "    else:\n",
    "        # Instantiate GridSearchCV as grid_reg\n",
    "        grid = GridSearchCV(model, params, cv=kf, n_jobs=-1, scoring=score)\n",
    "\n",
    "    # Fit grid_reg on X_train and y_train\n",
    "    grid.fit(df, target)\n",
    "\n",
    "    # summarize results\n",
    "    print(\"Best score: %f using %s\" % (grid.best_score_, grid.best_params_))\n",
    "    means = grid.cv_results_['mean_test_score']\n",
    "    stds = grid.cv_results_['std_test_score']\n",
    "    params = grid.cv_results_['params']\n",
    "    for mean, stdev, param in zip(means, stds, params):\n",
    "        print(\"Mean= %f std =%f with: %r\" % (mean, stdev, param))\n",
    "        \n",
    "    return grid.best_params_"
   ]
  },
  {
   "cell_type": "code",
   "execution_count": null,
   "metadata": {},
   "outputs": [],
   "source": [
    "# Used for all the tuning\n",
    "split_strategy = KFold(n_splits=10, random_state=42, shuffle=True)"
   ]
  },
  {
   "cell_type": "markdown",
   "metadata": {},
   "source": [
    "## XGBoost"
   ]
  },
  {
   "cell_type": "markdown",
   "metadata": {},
   "source": [
    "- You will see how in this case, the small design space I've chosen is not able to bit the score obtained by the _extreme case.\n",
    "- This is totally expected and one solution could to expand the search design space in `params` dictionary.\n",
    "- Another solution, could be to use a truly \"global algorithm\" such as GA."
   ]
  },
  {
   "cell_type": "code",
   "execution_count": null,
   "metadata": {},
   "outputs": [],
   "source": [
    "params = {'learning_rate': [0.01, 0.1, 0.15, 0.3, 0.5],\n",
    "          'n_estimators': [100, 500, 1000, 2000, 3000],\n",
    "          'max_depth': [3, 6, 9],\n",
    "          'min_child_weight': [1, 5, 10, 20],\n",
    "          'reg_alpha': [0.001, 0.01, 0.1],\n",
    "          'reg_lambda': [0.001, 0.01, 0.1],\n",
    "          'subsample': [0.75, 1.0]\n",
    "          }\n",
    "\n",
    "best_param = grid_search(XGBRegressor(n_jobs=1), params, split_strategy, X, y,\n",
    "                         \"neg_root_mean_squared_error\", n_iter=100, random=True)"
   ]
  },
  {
   "cell_type": "code",
   "execution_count": null,
   "metadata": {},
   "outputs": [],
   "source": [
    "print(best_param)"
   ]
  },
  {
   "cell_type": "code",
   "execution_count": null,
   "metadata": {},
   "outputs": [],
   "source": [
    "# You have to add this otherwise it will crash\n",
    "best_param[\"n_jobs\"] = 1\n",
    "xgb_tuned = XGBRegressor(**best_param)\n",
    "xgb_tuned.get_params"
   ]
  },
  {
   "cell_type": "code",
   "execution_count": null,
   "metadata": {},
   "outputs": [],
   "source": [
    "model_scores_on_train_test_splits(xgb_tuned,\n",
    "    x_train, y_train, x_test, y_test, verbose=False)"
   ]
  },
  {
   "cell_type": "code",
   "execution_count": null,
   "metadata": {},
   "outputs": [],
   "source": [
    "cv_scores_xgb_tuned, _ = get_cv_scores(\n",
    "    xgb_tuned, X, y, name=\"xgb_tuned\", n_splits=10, state=42, test_size=0.25, type_=\"k-fold\", verbose=False)\n",
    "cv_scores_xgb_tuned"
   ]
  },
  {
   "cell_type": "code",
   "execution_count": null,
   "metadata": {},
   "outputs": [],
   "source": [
    "cv_scores_xgb_tuned"
   ]
  },
  {
   "cell_type": "code",
   "execution_count": null,
   "metadata": {
    "scrolled": true
   },
   "outputs": [],
   "source": [
    "compare_cv_results([cv_scores_xgb, cv_scores_xgb_ex, cv_scores_xgb_tuned], what = \"mean\")"
   ]
  },
  {
   "cell_type": "code",
   "execution_count": null,
   "metadata": {
    "scrolled": true
   },
   "outputs": [],
   "source": [
    "# Get the best std\n",
    "compare_cv_results([cv_scores_xgb, cv_scores_xgb_ex, cv_scores_xgb_tuned], what = \"std\")"
   ]
  },
  {
   "cell_type": "code",
   "execution_count": null,
   "metadata": {},
   "outputs": [],
   "source": [
    "visual_comparison([xgb, xgb_extreme, xgb_tuned], X, y,\n",
    "                  model_names=[\"xgb_base\", \"xbg_ext\", \"xgb_tuned\"])"
   ]
  },
  {
   "cell_type": "markdown",
   "metadata": {},
   "source": [
    "## CatBoost"
   ]
  },
  {
   "cell_type": "markdown",
   "metadata": {},
   "source": [
    "- You will see how in this case, the small design space I've chosen is not even able to improve the baseline score, a sign that I have really constrained the \n",
    "- This is totally expected and one solution could to expand the search design space in `params` dictionary.\n",
    "- Another solution, could be to use a truly \"global algorithm\" such as GA."
   ]
  },
  {
   "cell_type": "code",
   "execution_count": null,
   "metadata": {},
   "outputs": [],
   "source": [
    "try_this_instead = {\n",
    "    'n_estimators' : [100, 300, 500, 1000, 2000, 3000],\n",
    "    'learning_rate' : [0.0001, 0.001, 0.01, 0.1],\n",
    "    'l2_leaf_reg' : [0.001, 0.01, 0.1],\n",
    "    'random_strength' : [0.25, 0.5 ,1],\n",
    "    'max_depth' : [3, 6, 9],\n",
    "    'min_child_samples' : [2, 5, 10, 15, 20],\n",
    "    'rsm' : [0.5, 0.7, 0.9],\n",
    "    \n",
    "}"
   ]
  },
  {
   "cell_type": "code",
   "execution_count": null,
   "metadata": {},
   "outputs": [],
   "source": [
    "params = {'subsample': [0.75, 1.0],\n",
    "          'learning_rate': [0.15, 0.2, 0.3],\n",
    "          'max_depth': [2, 3, 4, 5],\n",
    "          'n_estimators': [100, 500, 1000]\n",
    "          }\n",
    "\n",
    "best_param_cat = grid_search(CatBoostRegressor(verbose=False), params, split_strategy, X, y,\n",
    "                         \"neg_root_mean_squared_error\", random=True)"
   ]
  },
  {
   "cell_type": "code",
   "execution_count": null,
   "metadata": {},
   "outputs": [],
   "source": [
    "print(best_param_cat)"
   ]
  },
  {
   "cell_type": "code",
   "execution_count": null,
   "metadata": {},
   "outputs": [],
   "source": [
    "best_param_cat[\"verbose\"] = False"
   ]
  },
  {
   "cell_type": "code",
   "execution_count": null,
   "metadata": {},
   "outputs": [],
   "source": [
    "cat_tuned = CatBoostRegressor(**best_param_cat)"
   ]
  },
  {
   "cell_type": "code",
   "execution_count": null,
   "metadata": {},
   "outputs": [],
   "source": [
    "cat_tuned.get_params()"
   ]
  },
  {
   "cell_type": "code",
   "execution_count": null,
   "metadata": {},
   "outputs": [],
   "source": [
    "model_scores_on_train_test_splits(cat_tuned,\n",
    "    x_train, y_train, x_test, y_test, verbose=False)"
   ]
  },
  {
   "cell_type": "code",
   "execution_count": null,
   "metadata": {},
   "outputs": [],
   "source": [
    "cv_scores_cat_tuned, _ = get_cv_scores(\n",
    "    cat_tuned, X, y, name=\"cat_tuned\", n_splits=10, state=42, test_size=0.25, type_=\"k-fold\", verbose=False)\n",
    "cv_scores_cat_tuned"
   ]
  },
  {
   "cell_type": "code",
   "execution_count": null,
   "metadata": {},
   "outputs": [],
   "source": [
    "compare_cv_results([cv_scores_cat, cv_scores_cat_ex, cv_scores_cat_tuned])"
   ]
  },
  {
   "cell_type": "code",
   "execution_count": null,
   "metadata": {},
   "outputs": [],
   "source": [
    "# Get the best std\n",
    "compare_cv_results([cv_scores_cat, cv_scores_cat_ex,\n",
    "                   cv_scores_cat_tuned], what=\"std\")"
   ]
  },
  {
   "cell_type": "code",
   "execution_count": null,
   "metadata": {},
   "outputs": [],
   "source": [
    "visual_comparison([cat, cat_extreme, cat_tuned], X, y, model_names=[\n",
    "                  \"cat_base\", \"cat_ext\", \"cat_tuned\"], log_scale=False)"
   ]
  },
  {
   "cell_type": "markdown",
   "metadata": {},
   "source": [
    "## LightGBM"
   ]
  },
  {
   "cell_type": "markdown",
   "metadata": {},
   "source": [
    "- You will see how in this case, the small design space I've chosen is not able to improve the extreme score, a sign that I have really constrained the design space too much.\n",
    "- This is totally expected and one solution could to expand the search design space in `params` dictionary.\n",
    "- Another solution, could be to use a truly \"global algorithm\" such as GA."
   ]
  },
  {
   "cell_type": "code",
   "execution_count": null,
   "metadata": {},
   "outputs": [],
   "source": [
    "new_list_try_this_ONE = {\n",
    "    'max_depth' : [2, 5, 8, 10],\n",
    "    'learning_rate' : [0.001, 0.01, 0.1, 0.2],\n",
    "    'n_estimators' : [100, 300, 500, 1000, 2000, 3000],\n",
    "    'lambda_l1' : [0.0001, 0.001, 0.01],\n",
    "    'lambda_l2' : [0, 0.0001, 0.001, 0.01],\n",
    "    'feature_fraction' : [0.4, 0.6, 0.8],\n",
    "    'min_child_samples' : [5, 10, 20, 25]\n",
    "}"
   ]
  },
  {
   "cell_type": "code",
   "execution_count": null,
   "metadata": {
    "scrolled": true
   },
   "outputs": [],
   "source": [
    "params = {'subsample': [0.75, 1.0],\n",
    "          'learning_rate': [0.15, 0.2, 0.3],\n",
    "          'max_depth': [2, 3, 4, 5],\n",
    "          'n_estimators': [100, 500, 1000]\n",
    "          }\n",
    "\n",
    "best_param_lgbm = grid_search(LGBMRegressor(objective='regression', verbose=0), params, split_strategy, X, y,\n",
    "                         \"neg_root_mean_squared_error\", random=True)"
   ]
  },
  {
   "cell_type": "code",
   "execution_count": null,
   "metadata": {},
   "outputs": [],
   "source": [
    "print(best_param_lgbm)"
   ]
  },
  {
   "cell_type": "code",
   "execution_count": null,
   "metadata": {},
   "outputs": [],
   "source": [
    "best_param_lgbm[\"verbose\"] = 0"
   ]
  },
  {
   "cell_type": "code",
   "execution_count": null,
   "metadata": {},
   "outputs": [],
   "source": [
    "lgbm_tuned = LGBMRegressor(objective='regression', **best_param_lgbm)"
   ]
  },
  {
   "cell_type": "code",
   "execution_count": null,
   "metadata": {},
   "outputs": [],
   "source": [
    "lgbm_tuned.get_params()"
   ]
  },
  {
   "cell_type": "code",
   "execution_count": null,
   "metadata": {
    "scrolled": true
   },
   "outputs": [],
   "source": [
    "model_scores_on_train_test_splits(lgbm_tuned,\n",
    "    x_train, y_train, x_test, y_test, verbose=False)"
   ]
  },
  {
   "cell_type": "code",
   "execution_count": null,
   "metadata": {},
   "outputs": [],
   "source": [
    "cv_scores_lgbm_tuned, _ = get_cv_scores(\n",
    "    lgbm_tuned, X, y, name=\"lgbm_tuned\", n_splits=10, state=42, test_size=0.25, type_=\"k-fold\", verbose=False)\n",
    "cv_scores_lgbm_tuned"
   ]
  },
  {
   "cell_type": "code",
   "execution_count": null,
   "metadata": {},
   "outputs": [],
   "source": [
    "compare_cv_results([cv_scores_lgbm, cv_scores_l_gbm_ex, cv_scores_lgbm_tuned])"
   ]
  },
  {
   "cell_type": "code",
   "execution_count": null,
   "metadata": {},
   "outputs": [],
   "source": [
    "compare_cv_results([cv_scores_lgbm, cv_scores_l_gbm_ex,\n",
    "                   cv_scores_lgbm_tuned], what=\"std\")"
   ]
  },
  {
   "cell_type": "code",
   "execution_count": null,
   "metadata": {},
   "outputs": [],
   "source": [
    "visual_comparison([l_gbm, l_gbm_extreme, lgbm_tuned], X, y, model_names=[\n",
    "                  \"lgbm_base\", \"lgbm_ex\", \"lgbm_tuned\"], log_scale=False)"
   ]
  },
  {
   "cell_type": "markdown",
   "metadata": {},
   "source": [
    "## Ridge"
   ]
  },
  {
   "cell_type": "markdown",
   "metadata": {},
   "source": [
    "- We can see how the tuned model performs slighlty better than the extreme model."
   ]
  },
  {
   "cell_type": "code",
   "execution_count": null,
   "metadata": {},
   "outputs": [],
   "source": [
    "params = {'alpha': [0.01,0.1,0.25,0.5,1.0,2.5,5.0,6.0]\n",
    "          }\n",
    "\n",
    "best_param_ridge = grid_search(linear_model.Ridge(), params, split_strategy, X, y,\n",
    "                         \"neg_root_mean_squared_error\", random=False)"
   ]
  },
  {
   "cell_type": "code",
   "execution_count": null,
   "metadata": {},
   "outputs": [],
   "source": [
    "ridge_tuned = linear_model.Ridge(**best_param_ridge)"
   ]
  },
  {
   "cell_type": "code",
   "execution_count": null,
   "metadata": {},
   "outputs": [],
   "source": [
    "cv_scores_ridge_tuned, _ = get_cv_scores(\n",
    "    ridge_tuned, X, y, name=\"ridge_tuned\", n_splits=10, state=42, test_size=0.25, type_=\"k-fold\", verbose=False)\n",
    "cv_scores_ridge_tuned"
   ]
  },
  {
   "cell_type": "code",
   "execution_count": null,
   "metadata": {},
   "outputs": [],
   "source": [
    "compare_cv_results([cv_scores_ridge, cv_scores_ridge_ex, cv_scores_ridge_tuned])"
   ]
  },
  {
   "cell_type": "code",
   "execution_count": null,
   "metadata": {},
   "outputs": [],
   "source": [
    "# Get the best std\n",
    "compare_cv_results([cv_scores_ridge, cv_scores_ridge_ex,\n",
    "                   cv_scores_ridge_tuned], what=\"std\")"
   ]
  },
  {
   "cell_type": "code",
   "execution_count": null,
   "metadata": {},
   "outputs": [],
   "source": [
    "visual_comparison([ridge, ridge_extreme, ridge_tuned], X, y, model_names=[\n",
    "                  \"ridge_base\", \"ridge_ex\", \"ridge_tuned\"], log_scale=False)"
   ]
  },
  {
   "cell_type": "markdown",
   "metadata": {},
   "source": [
    "## Stocked tuned"
   ]
  },
  {
   "cell_type": "markdown",
   "metadata": {},
   "source": [
    "- In this case it seems that stacking the baseline model works better than both tuned and extreme!"
   ]
  },
  {
   "cell_type": "code",
   "execution_count": null,
   "metadata": {},
   "outputs": [],
   "source": [
    "stack_gen_tuned = StackingRegressor(regressors=(xgb_tuned, cat_tuned, lgbm_tuned, ridge_tuned),\n",
    "                                    meta_regressor=ridge_tuned,\n",
    "                                    use_features_in_secondary=True)"
   ]
  },
  {
   "cell_type": "code",
   "execution_count": null,
   "metadata": {},
   "outputs": [],
   "source": [
    "cv_scores_stack_tuned, _ = get_cv_scores(\n",
    "    stack_gen_tuned, X, y, name=\"stack_tuned\", n_splits=10, state=42, test_size=0.25, type_=\"k-fold\", verbose=False)\n",
    "cv_scores_stack_tuned"
   ]
  },
  {
   "cell_type": "code",
   "execution_count": null,
   "metadata": {
    "scrolled": true
   },
   "outputs": [],
   "source": [
    "compare_cv_results([cv_scores_stack, cv_scores_stack_ex,\n",
    "                   cv_scores_stack_tuned])"
   ]
  },
  {
   "cell_type": "code",
   "execution_count": null,
   "metadata": {
    "scrolled": false
   },
   "outputs": [],
   "source": [
    "visual_comparison([stack_gen, stack_gen_extreme, stack_gen_tuned], X, y, model_names=[\n",
    "                  \"stack_base\", \"stack_ex\", \"stack_tuned\"], log_scale=False)"
   ]
  },
  {
   "cell_type": "markdown",
   "metadata": {},
   "source": [
    "## Comparing tuned the models"
   ]
  },
  {
   "cell_type": "code",
   "execution_count": null,
   "metadata": {},
   "outputs": [],
   "source": [
    "compare_cv_results([cv_scores_xgb_tuned, cv_scores_cat_tuned, cv_scores_ridge_tuned, cv_scores_lgbm_tuned,\n",
    "                   cv_scores_stack_tuned])"
   ]
  },
  {
   "cell_type": "code",
   "execution_count": null,
   "metadata": {},
   "outputs": [],
   "source": [
    "compare_cv_results([cv_scores_xgb_tuned, cv_scores_cat_tuned, cv_scores_ridge_tuned, cv_scores_lgbm_tuned,\n",
    "                   cv_scores_stack_tuned], what=\"std\")"
   ]
  },
  {
   "cell_type": "code",
   "execution_count": null,
   "metadata": {
    "scrolled": true
   },
   "outputs": [],
   "source": [
    "visual_comparison([xgb_tuned, cat_tuned, ridge_tuned, lgbm_tuned, stack_gen_tuned], X, y, model_names=[\n",
    "                  \"xgb_tuned\", \"cat_tuned\", \"ridge_tuned\", \"lgbm_tuned\", \"stack_tuned\"], log_scale=False)"
   ]
  },
  {
   "cell_type": "markdown",
   "metadata": {},
   "source": [
    "## Automated hyperparameters"
   ]
  },
  {
   "cell_type": "markdown",
   "metadata": {},
   "source": [
    "- Below is a link to another notebook shared by one kaggler using automatic hyperparameter tuning\n",
    "- https://www.kaggle.com/pavansanagapati/automated-hyperparameter-tuning"
   ]
  },
  {
   "cell_type": "markdown",
   "metadata": {},
   "source": [
    "# Averaging the tuned model"
   ]
  },
  {
   "cell_type": "markdown",
   "metadata": {},
   "source": [
    "- Simplest Stacking approach : Averaging base models. We'll build a new class that has a fit and preduct method so as to levergae the extensability provided by scikit-learn. Essentially this is a pure averaging of the models\n",
    "- Please note how the class is built and how we are going to make use of the inheritance.\n",
    "- Credit for the code to interface with scikitlearn to [link](https://www.kaggle.com/serigne/stacked-regressions-top-4-on-leaderboard#Modelling)"
   ]
  },
  {
   "cell_type": "code",
   "execution_count": null,
   "metadata": {
    "code_folding": []
   },
   "outputs": [],
   "source": [
    "from sklearn.base import BaseEstimator, TransformerMixin, RegressorMixin, clone\n",
    "class AveragingModels(BaseEstimator, RegressorMixin, TransformerMixin):\n",
    "    def __init__(self, models):\n",
    "        self.models = models\n",
    "\n",
    "    # we define clones of the original models to fit the data in\n",
    "    def fit(self, X, y):\n",
    "        self.models_ = [clone(x) for x in self.models]\n",
    "\n",
    "        # Train cloned base models\n",
    "        for model in self.models_:\n",
    "            model.fit(X, y)\n",
    "\n",
    "        return self\n",
    "\n",
    "    # Now we do the predictions for cloned models and average them\n",
    "    def predict(self, X):\n",
    "        predictions = np.column_stack([\n",
    "            model.predict(X) for model in self.models_\n",
    "        ])\n",
    "        return np.mean(predictions, axis=1)"
   ]
  },
  {
   "cell_type": "code",
   "execution_count": null,
   "metadata": {},
   "outputs": [],
   "source": [
    "# average = AveragingModels(models = (xgb_tuned, cat_tuned, lgbm_tuned, stack_gen_tuned))\n",
    "average = AveragingModels(models=(\n",
    "    lasso_extreme,\n",
    "    ridge_extreme,\n",
    "    xgb_extreme,\n",
    "    cat_extreme,\n",
    "    l_gbm_extreme,\n",
    "    gbm_extreme,\n",
    "    rf_extreme\n",
    "))"
   ]
  },
  {
   "cell_type": "code",
   "execution_count": null,
   "metadata": {
    "scrolled": true
   },
   "outputs": [],
   "source": [
    "cv_scores_average, _ = get_cv_scores(\n",
    "    average, X, y, name=\"average\", n_splits=10, state=42, test_size=0.25, type_=\"k-fold\", verbose=True)\n",
    "cv_scores_average"
   ]
  },
  {
   "cell_type": "markdown",
   "metadata": {},
   "source": [
    "- We'll now compare the best between the tune and extreme models **against** the mean model.\n",
    "- The average model was obtained, as the name suggested, by simply averaging the predictions of all the models."
   ]
  },
  {
   "cell_type": "code",
   "execution_count": null,
   "metadata": {},
   "outputs": [],
   "source": [
    "compare_cv_results([cv_scores_cat_ex, cv_scores_average])"
   ]
  },
  {
   "cell_type": "code",
   "execution_count": null,
   "metadata": {},
   "outputs": [],
   "source": [
    "visual_comparison([cat_extreme, average], X, y, model_names=[\n",
    "                  \"cat_tuned\", \"avergae\"], log_scale=False)"
   ]
  },
  {
   "cell_type": "markdown",
   "metadata": {},
   "source": [
    "# Blending the tuned mdel"
   ]
  },
  {
   "cell_type": "markdown",
   "metadata": {},
   "source": [
    "- This a very simple weighted model.\n",
    "- Blending is a technique that give different weightage to different algorithms that will affect their influence of the predictions. \n",
    "- Such techniques can help to improve performance since it uses a variety of models as predictors.\n",
    "- The table below wiil help us chose the weights. The rational is the following, the better the CV score the higher the weight. For this task just look at **RMSE** score as this is what Kaggle uses to score you on the leaderboard."
   ]
  },
  {
   "cell_type": "code",
   "execution_count": null,
   "metadata": {},
   "outputs": [],
   "source": [
    "compare_cv_results([    \n",
    "    cv_scores_xgb_ex,\n",
    "    cv_scores_cat_ex,\n",
    "    cv_scores_l_gbm_ex,\n",
    "    cv_scores_gbm_ex,    \n",
    "    cv_scores_stack_ex,\n",
    "    cv_scores_average\n",
    "]\n",
    ", what = \"mean\")"
   ]
  },
  {
   "cell_type": "code",
   "execution_count": null,
   "metadata": {},
   "outputs": [],
   "source": [
    "\"\"\"\n",
    "def blend_models_predict(X):\n",
    "    return ((0.1 * elastic_model_full_data.predict(X)) + \\\n",
    "            (0.05 * lasso_model_full_data.predict(X)) + \\\n",
    "            (0.1 * ridge_model_full_data.predict(X)) + \\\n",
    "            (0.1 * svr_model_full_data.predict(X)) + \\\n",
    "            (0.1 * gbr_model_full_data.predict(X)) + \\\n",
    "            (0.15 * xgb_model_full_data.predict(X)) + \\\n",
    "            (0.1 * lgb_model_full_data.predict(X)) + \\\n",
    "            (0.3 * stack_gen_model.predict(np.array(X))))\n",
    "            \n",
    "def blend_models_predict(X):\n",
    "    return ((0.025* elasticnet_final.predict(X)) + \\\n",
    "            (0.025 * lasso_final.predict(X)) + \\\n",
    "            (0.025 * ridge_final.predict(X)) + \\\n",
    "            (0.025* svr_final.predict(X)) + \\\n",
    "            (0.62 * gbr_final.predict(X)) + \\\n",
    "            (0.03 * xgb_final.predict(X)) + \\\n",
    "            (0.03 * lgbm_final.predict(X)) + \\\n",
    "            (0.22 * stack_reg_final.predict(np.array(X)))) \n",
    "\"\"\""
   ]
  },
  {
   "cell_type": "code",
   "execution_count": null,
   "metadata": {
    "code_folding": [
     2,
     3
    ]
   },
   "outputs": [],
   "source": [
    "from sklearn.base import BaseEstimator, TransformerMixin, RegressorMixin, clone\n",
    "\n",
    "class BlendingModels(BaseEstimator, RegressorMixin, TransformerMixin):\n",
    "    def __init__(self, models, weights):\n",
    "        self.models = models\n",
    "        self.weights = weights\n",
    "\n",
    "    # we define clones of the original models to fit the data in\n",
    "    def fit(self, X, y):\n",
    "        self.models_ = [clone(x) for x in self.models]\n",
    "\n",
    "        # Train cloned base models\n",
    "        for model in self.models_:\n",
    "            model.fit(X, y)\n",
    "        return self\n",
    "\n",
    "    # Now we do the predictions for cloned models and average them\n",
    "    def predict(self, X):\n",
    "        #\"\"\"\n",
    "        predictions = np.column_stack([\n",
    "            model.predict(X) for model in self.models_\n",
    "        ])\n",
    "        #return np.mean(predictions, axis=1)        \n",
    "        #return np.average(predictions, axis=1, weights = self.weights)\n",
    "        return np.average(predictions, axis=1, weights = self.weights)"
   ]
  },
  {
   "cell_type": "code",
   "execution_count": null,
   "metadata": {},
   "outputs": [],
   "source": [
    "compare_cv_results([    \n",
    "    cv_scores_xgb_ex,\n",
    "    cv_scores_cat_ex,    \n",
    "    cv_scores_gbm_ex,        \n",
    "    cv_scores_average\n",
    "]\n",
    ", what = \"mean\")"
   ]
  },
  {
   "cell_type": "code",
   "execution_count": null,
   "metadata": {},
   "outputs": [],
   "source": [
    "blend = BlendingModels(\n",
    "    models=(\n",
    "            average,\n",
    "            xgb_extreme, \n",
    "            cat_extreme,            \n",
    "            gbm_extreme,            \n",
    "           ),\n",
    "weights = [0.5, 0.3, 0.1, 0.1])"
   ]
  },
  {
   "cell_type": "code",
   "execution_count": null,
   "metadata": {},
   "outputs": [],
   "source": [
    "cv_scores_blend, _ = get_cv_scores(\n",
    "    blend, X, y, name=\"blend\", n_splits=10, state=42, test_size=0.25, type_=\"k-fold\", verbose=False)\n",
    "cv_scores_blend"
   ]
  },
  {
   "cell_type": "code",
   "execution_count": null,
   "metadata": {},
   "outputs": [],
   "source": [
    "compare_cv_results([\n",
    "    cv_scores_average,\n",
    "    cv_scores_blend\n",
    "]\n",
    ", what = \"mean\")"
   ]
  },
  {
   "cell_type": "code",
   "execution_count": null,
   "metadata": {},
   "outputs": [],
   "source": [
    "visual_comparison([average, blend], X, y, model_names=[\n",
    "                  \"avergae\", \"blend\"], log_scale=False)"
   ]
  },
  {
   "cell_type": "markdown",
   "metadata": {},
   "source": [
    "# Stacking custom model"
   ]
  },
  {
   "cell_type": "markdown",
   "metadata": {},
   "source": [
    "- see this link https://www.kaggle.com/pavansanagapati/ensemble-learning-techniques-tutorial"
   ]
  },
  {
   "cell_type": "markdown",
   "metadata": {},
   "source": [
    "# Final models comparison"
   ]
  },
  {
   "cell_type": "code",
   "execution_count": null,
   "metadata": {},
   "outputs": [],
   "source": [
    "compare_cv_results([cv_scores_xgb_tuned, cv_scores_cat_tuned, cv_scores_ridge_tuned, \n",
    "                    cv_scores_lgbm_tuned, cv_scores_blend, cv_scores_average],\n",
    "                   \"RMSE\", what=\"mean\")"
   ]
  },
  {
   "cell_type": "code",
   "execution_count": null,
   "metadata": {},
   "outputs": [],
   "source": [
    "compare_cv_results([cv_scores_xgb_tuned, cv_scores_cat_tuned, cv_scores_ridge_tuned, \n",
    "                    cv_scores_lgbm_tuned, cv_scores_blend, cv_scores_average], \n",
    "                   \"RMSE\" , what = \"std\")"
   ]
  },
  {
   "cell_type": "code",
   "execution_count": null,
   "metadata": {},
   "outputs": [],
   "source": [
    "stop"
   ]
  },
  {
   "cell_type": "markdown",
   "metadata": {},
   "source": [
    "# Feature importance Interactive Plot with SHAP"
   ]
  },
  {
   "cell_type": "markdown",
   "metadata": {},
   "source": [
    "- Credits to [reference](https://www.kaggle.com/marto24/beginners-prediction-top3/notebook)"
   ]
  },
  {
   "cell_type": "code",
   "execution_count": null,
   "metadata": {},
   "outputs": [],
   "source": [
    "train_pool = Pool(X_train)\n",
    "val_pool = Pool(X_val)\n",
    "\n",
    "explainer = shap.TreeExplainer(cat_model) # insert your model\n",
    "shap_values = explainer.shap_values(train_pool) # insert your train Pool object\n",
    "\n",
    "shap.initjs()\n",
    "shap.force_plot(explainer.expected_value, shap_values[:200,:], X_train.iloc[:200,:])\n",
    "\n",
    "# The plot represents just a slice of the Training data (200 observations)"
   ]
  },
  {
   "cell_type": "code",
   "execution_count": null,
   "metadata": {},
   "outputs": [],
   "source": [
    "shap.summary_plot(shap_values, X_train)"
   ]
  },
  {
   "cell_type": "markdown",
   "metadata": {},
   "source": [
    "- The above diagram represents each observation (x-axis) for the feature presented (y-axis). The x location of each dot on the x-axis reflects the impact of that feature on the model's predictions, while the color of the dot represents the value of that feature for that exact observation. Dots that pile up on the line show density. \n",
    "- Here we can see how features such as 'BsmtFinType1_GLQ' or 'BsmtQual_Ex', differently from 'GrLivArea' and 'OverallQual', do not contribute significantly in producing the final predictions."
   ]
  },
  {
   "cell_type": "markdown",
   "metadata": {},
   "source": [
    "# Kaggle submission"
   ]
  },
  {
   "cell_type": "markdown",
   "metadata": {},
   "source": [
    "- To submit your solution\n",
    "\n",
    "`kaggle competitions submit house-prices-advanced-regression-techniques -f your_submission_file.csv -m \"your_model_name\"`\n",
    "- To check all your submission:\n",
    "\n",
    "`kaggle competitions submissions house-prices-advanced-regression-techniques`"
   ]
  },
  {
   "cell_type": "code",
   "execution_count": null,
   "metadata": {
    "scrolled": true
   },
   "outputs": [],
   "source": [
    "# Now we can fit the model on the entire set\n",
    "blend_fitted = blend.fit(X, y)"
   ]
  },
  {
   "cell_type": "code",
   "execution_count": null,
   "metadata": {
    "scrolled": true
   },
   "outputs": [],
   "source": [
    "#predicted_prices = blended_predictions(df_test)\n",
    "#predicted_prices = cat_tuned.predict(df_test)\n",
    "predicted_prices = blend_fitted.predict(df_test)\n",
    "print(predicted_prices)"
   ]
  },
  {
   "cell_type": "code",
   "execution_count": null,
   "metadata": {},
   "outputs": [],
   "source": [
    "predicted_prices_not_scaled = np.exp(predicted_prices) - 1\n",
    "print(predicted_prices_not_scaled)"
   ]
  },
  {
   "cell_type": "code",
   "execution_count": null,
   "metadata": {},
   "outputs": [],
   "source": [
    "Id_test.shape"
   ]
  },
  {
   "cell_type": "code",
   "execution_count": null,
   "metadata": {},
   "outputs": [],
   "source": [
    "df_test.shape"
   ]
  },
  {
   "cell_type": "code",
   "execution_count": null,
   "metadata": {
    "scrolled": true
   },
   "outputs": [],
   "source": [
    "my_submission = pd.DataFrame({'Id': Id_test, 'SalePrice': predicted_prices_not_scaled})\n",
    "my_submission.to_csv('submission_No_45.csv', index=False)"
   ]
  },
  {
   "cell_type": "markdown",
   "metadata": {},
   "source": [
    "- This submission achieve a public score of `0.13267`"
   ]
  },
  {
   "cell_type": "markdown",
   "metadata": {},
   "source": [
    "## Tricks"
   ]
  },
  {
   "cell_type": "markdown",
   "metadata": {},
   "source": [
    "- What is shown is a trick used by some kagglers to try to manually trick the results.\n",
    "- Lets say we have our model and this model does fairly well everywhere but not at the extrema, meaning the lower and higher side of the price range. This can be seen on the righ-most subplot of the figure below.\n",
    "- By taking into consideration tihe quantile, we can manually tweak the predictions.\n",
    "- This particulare [reference](https://www.kaggle.com/lavanyashukla01/how-i-made-top-0-3-on-a-kaggle-competition) and this [one](https://www.kaggle.com/agehsbarg/top-10-0-10943-stacking-mice-and-brutal-force) suggests that since\n",
    "**Regression often works bad for edge cases**, it may be worth using the quantile to force the result back on a more mean trend."
   ]
  },
  {
   "cell_type": "code",
   "execution_count": null,
   "metadata": {
    "scrolled": true
   },
   "outputs": [],
   "source": [
    "visualise_results(blend, x_train, x_test, y_train, y_test)"
   ]
  },
  {
   "cell_type": "markdown",
   "metadata": {},
   "source": [
    "- It was obvious from that:\n",
    "    - for small value predictions we are overestimating sales\n",
    "    - for big value prediction we are underestimating. \n",
    "\n",
    "- Other have used 3 quantiles instead as in [here](https://www.kaggle.com/diegojohnson/7-lines-of-code-to-reach-6th-place)"
   ]
  },
  {
   "cell_type": "code",
   "execution_count": null,
   "metadata": {},
   "outputs": [],
   "source": [
    "fig, axs = plt.subplots(1, 2, figsize=(16, 6))\n",
    "rcParams['font.size'] = 20\n",
    "\n",
    "\n",
    "y_pred = pd.Series(blend_fitted.predict(x_test),\n",
    "                   index=x_test.index, name='Predictions')\n",
    "\n",
    "# Just easier to work not in log scale\n",
    "y_pred = np.exp(y_pred) - 1\n",
    "y_test_ = np.exp(y_test) - 1\n",
    "\n",
    "q1_value = 0.0045\n",
    "q2_value = 0.99\n",
    "print(\"lower quantile\", y_pred.quantile(q1_value))\n",
    "print(\"upper quantile\", y_pred.quantile(q2_value))\n",
    "print(type(y_pred))\n",
    "\n",
    "q1 = y_pred.quantile(q1_value)\n",
    "q2 = y_pred.quantile(q2_value)\n",
    "\n",
    "\n",
    "y_pred_mod = y_pred.apply(lambda x: x if x > q1 else x*0.9)\n",
    "y_pred_mod = y_pred_mod.apply(lambda x: x if x < q2 else x*1.1)\n",
    "\n",
    "axs[0].title.set_text('Quantile: Original')\n",
    "sm.ProbPlot(y_test_.values).qqplot(ax=axs[0], fmt='r', label='Test')\n",
    "sm.ProbPlot(y_pred).qqplot(ax=axs[0], fmt='b', label='Predictions')\n",
    "\n",
    "axs[1].title.set_text('Quantile: Corrected')\n",
    "sm.ProbPlot(y_test_.values).qqplot(ax=axs[1], fmt='r', label='Test')\n",
    "sm.ProbPlot(y_pred_mod).qqplot(ax=axs[1], fmt='b', label='Predictions_mod')\n",
    "\n",
    "plt.axhline(y=q1, color='r', linestyle='-', lw=4, label='lower')\n",
    "plt.axhline(y=q2, color='r', linestyle='-', lw=4, label='upper')\n",
    "\n",
    "plt.legend(fontsize=15)\n",
    "plt.tight_layout()\n",
    "plt.show()"
   ]
  },
  {
   "cell_type": "code",
   "execution_count": null,
   "metadata": {},
   "outputs": [],
   "source": [
    "my_submission['SalePrice'] = my_submission['SalePrice'].apply(lambda x: x if x > q1 else x*0.9)\n",
    "my_submission['SalePrice'] = my_submission['SalePrice'].apply(lambda x: x if x < q2 else x*1.1)"
   ]
  },
  {
   "cell_type": "code",
   "execution_count": null,
   "metadata": {},
   "outputs": [],
   "source": [
    "my_submission['SalePrice'].shape"
   ]
  },
  {
   "cell_type": "code",
   "execution_count": null,
   "metadata": {},
   "outputs": [],
   "source": [
    "my_submission.to_csv('submission_No_46.csv', index=False)"
   ]
  },
  {
   "cell_type": "markdown",
   "metadata": {},
   "source": [
    "- This did not improve the prediction at all. The public score was changed from `0.13267` to `0.13925`.\n",
    "- This is not to say this is always the case but it could be that my test set contains more extreme values that the one in the `df_test` used to score my submission in the private board."
   ]
  },
  {
   "cell_type": "markdown",
   "metadata": {},
   "source": [
    "# Major lessons learnt"
   ]
  },
  {
   "cell_type": "markdown",
   "metadata": {},
   "source": [
    "- There situation where deciding how to use a feature **logged as a number** as a numerical or categorical one is not so straightforward owening to the fact that both choices work well and the differences are very small.\n",
    "- Being at least aware of the difference between train and test data is important, especially when we are asking outself if the CV results are representative for predicting the model performance on the test set."
   ]
  },
  {
   "cell_type": "code",
   "execution_count": null,
   "metadata": {},
   "outputs": [],
   "source": []
  }
 ],
 "metadata": {
  "hide_input": false,
  "kernelspec": {
   "display_name": "trainingAI",
   "language": "python",
   "name": "trainingai"
  },
  "language_info": {
   "codemirror_mode": {
    "name": "ipython",
    "version": 3
   },
   "file_extension": ".py",
   "mimetype": "text/x-python",
   "name": "python",
   "nbconvert_exporter": "python",
   "pygments_lexer": "ipython3",
   "version": "3.10.0"
  },
  "toc": {
   "base_numbering": 1,
   "nav_menu": {},
   "number_sections": true,
   "sideBar": true,
   "skip_h1_title": false,
   "title_cell": "Table of Contents",
   "title_sidebar": "Contents",
   "toc_cell": false,
   "toc_position": {},
   "toc_section_display": true,
   "toc_window_display": false
  },
  "varInspector": {
   "cols": {
    "lenName": 16,
    "lenType": 16,
    "lenVar": 40
   },
   "kernels_config": {
    "python": {
     "delete_cmd_postfix": "",
     "delete_cmd_prefix": "del ",
     "library": "var_list.py",
     "varRefreshCmd": "print(var_dic_list())"
    },
    "r": {
     "delete_cmd_postfix": ") ",
     "delete_cmd_prefix": "rm(",
     "library": "var_list.r",
     "varRefreshCmd": "cat(var_dic_list()) "
    }
   },
   "types_to_exclude": [
    "module",
    "function",
    "builtin_function_or_method",
    "instance",
    "_Feature"
   ],
   "window_display": false
  }
 },
 "nbformat": 4,
 "nbformat_minor": 2
}
