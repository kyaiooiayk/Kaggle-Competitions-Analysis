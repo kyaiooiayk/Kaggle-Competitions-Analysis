{
 "cells": [
  {
   "cell_type": "markdown",
   "metadata": {
    "heading_collapsed": true
   },
   "source": [
    "# Introduction\n",
    "<hr style=\"border:2px solid black\"> </hr>"
   ]
  },
  {
   "cell_type": "markdown",
   "metadata": {
    "hidden": true
   },
   "source": [
    "- **What?** Kaggle competition: House Prices - Advanced Regression Techniques. This particular notebook serves as a common repository to code snippets of my own or taken from other kagglers.\n",
    "\n",
    "- **Dataset description** Ask a home buyer to describe their dream house, and they probably won’t begin with the height of the basement ceiling or the proximity to an east-west railroad. But this playground competition’s dataset proves that much more influences price negotiations than the number of bedrooms or a white-picket fence. With 79 explanatory variables describing (almost) every aspect of residential homes in Ames, Iowa, this competition challenges you to predict the final price of each home."
   ]
  },
  {
   "cell_type": "markdown",
   "metadata": {
    "heading_collapsed": true
   },
   "source": [
    "# General info\n",
    "<hr style=\"border:2px solid black\"> </hr>"
   ]
  },
  {
   "cell_type": "markdown",
   "metadata": {
    "hidden": true
   },
   "source": [
    "- To promote code reusability and tidiness, I will try to bring inside a method most of the actions performed in this notebook.\n",
    "- If you do not like it, it would extremely easy to get rid of the method and use the content as a code snippet.\n",
    "- Please, consider this notebooks as a collections of idea taken (and made mine with some modifications) from several notebooks published by other kagglers who generously shared their idea. Here I am returning the favour for the benefit of the others."
   ]
  },
  {
   "cell_type": "markdown",
   "metadata": {
    "hidden": true
   },
   "source": [
    "- This notebook is part 1 of a 4-series analysis:\n",
    "    - Step_#1_Train_test_comparison.ipynb\n",
    "    - Step_#2_EDA.ipynb\n",
    "    - **Step_#3_Data_preparation.ipynb**\n",
    "    - Step_#4_Modelling.ipynb"
   ]
  },
  {
   "cell_type": "markdown",
   "metadata": {
    "heading_collapsed": true
   },
   "source": [
    "# Import modules\n",
    "<hr style=\"border:2px solid black\"> </hr>"
   ]
  },
  {
   "cell_type": "code",
   "execution_count": null,
   "metadata": {
    "ExecuteTime": {
     "end_time": "2022-01-23T09:45:00.597527Z",
     "start_time": "2022-01-23T09:44:57.688371Z"
    },
    "hidden": true
   },
   "outputs": [],
   "source": [
    "# Dara wrangling\n",
    "import pandas as pd\n",
    "import numpy as np\n",
    "from collections import Counter\n",
    "import copy\n",
    "from functools import reduce\n",
    "import pandas_profiling as pp\n",
    "from sklearn.decomposition import PCA\n",
    "\n",
    "# Features engineering\n",
    "from sklearn.preprocessing import LabelEncoder, OrdinalEncoder\n",
    "from sklearn.preprocessing import OneHotEncoder\n",
    "\n",
    "# Plotting\n",
    "import matplotlib.pyplot as plt\n",
    "from matplotlib import rcParams\n",
    "import seaborn as sns\n",
    "%matplotlib inline\n",
    "\n",
    "# Statistics\n",
    "from scipy.stats import norm\n",
    "from scipy import stats\n",
    "from scipy.stats import ttest_ind\n",
    "import statsmodels.api as sm\n",
    "from scipy.stats import spearmanr, kendalltau\n",
    "from scipy.special import boxcox1p\n",
    "from scipy.stats import boxcox_normmax\n",
    "\n",
    "# Modelling\n",
    "from sklearn import metrics\n",
    "from sklearn.model_selection import train_test_split\n",
    "from sklearn.model_selection import LeaveOneOut, ShuffleSplit, GroupKFold\n",
    "from sklearn.linear_model import LinearRegression, BayesianRidge\n",
    "from sklearn.model_selection import KFold, cross_val_score, cross_validate\n",
    "from sklearn import linear_model\n",
    "from sklearn.linear_model import ElasticNet\n",
    "\n",
    "from sklearn.kernel_ridge import KernelRidge\n",
    "from sklearn.linear_model import Ridge, RidgeCV\n",
    "from catboost import Pool\n",
    "from sklearn.svm import SVR\n",
    "from catboost import CatBoostRegressor\n",
    "\n",
    "from sklearn.naive_bayes import GaussianNB\n",
    "from sklearn.tree import DecisionTreeRegressor\n",
    "from mlxtend.regressor import StackingRegressor\n",
    "from sklearn.linear_model import LinearRegression, BayesianRidge\n",
    "from sklearn.ensemble import BaggingRegressor\n",
    "from sklearn.ensemble import GradientBoostingRegressor, RandomForestRegressor\n",
    "from sklearn.ensemble import AdaBoostRegressor, BaggingRegressor, ExtraTreesRegressor\n",
    "from sklearn.model_selection import GridSearchCV, RandomizedSearchCV\n",
    "from sklearn.metrics import mean_squared_error\n",
    "from sklearn.pipeline import make_pipeline\n",
    "from sklearn.preprocessing import RobustScaler\n",
    "from sklearn.linear_model import SGDRegressor"
   ]
  },
  {
   "cell_type": "code",
   "execution_count": null,
   "metadata": {
    "ExecuteTime": {
     "end_time": "2022-01-23T09:45:00.711467Z",
     "start_time": "2022-01-23T09:45:00.706900Z"
    },
    "hidden": true
   },
   "outputs": [],
   "source": [
    "# Other notebook settings\n",
    "pd.set_option('display.max_rows', None)\n",
    "pd.set_option('display.float_format', lambda x: '%.5f' % x)\n",
    "import warnings\n",
    "warnings.filterwarnings(\"ignore\")\n",
    "from IPython.display import display as dsp"
   ]
  },
  {
   "cell_type": "markdown",
   "metadata": {
    "heading_collapsed": true
   },
   "source": [
    "# Load datasets\n",
    "<hr style=\"border:2px solid black\"> </hr>"
   ]
  },
  {
   "cell_type": "markdown",
   "metadata": {
    "hidden": true
   },
   "source": [
    "- To know what this step does read the comments inside the `load_data` method.\n",
    "- This is nothing new than what we have seen in `Step_#1_Train_test_comparison.ipynb`. I've just reported the whole section to have a semi self-contained notebook."
   ]
  },
  {
   "cell_type": "code",
   "execution_count": null,
   "metadata": {
    "ExecuteTime": {
     "end_time": "2022-01-23T09:44:53.564338Z",
     "start_time": "2022-01-23T09:44:53.559864Z"
    },
    "code_folding": [
     0
    ],
    "hidden": true
   },
   "outputs": [],
   "source": [
    "def load_data():\n",
    "    \"\"\"Load data\n",
    "\n",
    "    Load the train and test data as provided by Kaggle.\n",
    "    Keep in mind that the way Kaggle provide the data is\n",
    "    different than the usual idea we have of the trian-test\n",
    "    split. In particular, the target column is not present\n",
    "    in the test set.\n",
    "\n",
    "    Parameters\n",
    "    ----------\n",
    "    None\n",
    "\n",
    "    Returns\n",
    "    -------\n",
    "    train - pandas dataframe\n",
    "    test - pandas dataframe\n",
    "    \"\"\"\n",
    "\n",
    "    print(\"\\nLoading data\")\n",
    "    # Read the train data\n",
    "    print(\"Read train set\")\n",
    "    train = pd.read_csv('./DATASETS/train.csv')\n",
    "\n",
    "    # Read the test data\n",
    "    print(\"Read test set\")\n",
    "    test = pd.read_csv('./DATASETS/test.csv')\n",
    "\n",
    "    print(\"Train size\", train.shape)\n",
    "    print(\"Test size:\", test.shape)\n",
    "\n",
    "    train_features = train.columns\n",
    "    test_features = test.columns\n",
    "    print(\"Not share columns: \", set(train_features).difference(test_features))\n",
    "    print(\"Not share columns: \", set(test_features).difference(train_features))\n",
    "\n",
    "    return train, test"
   ]
  },
  {
   "cell_type": "code",
   "execution_count": null,
   "metadata": {
    "ExecuteTime": {
     "end_time": "2022-01-23T09:45:02.856474Z",
     "start_time": "2022-01-23T09:45:02.804039Z"
    },
    "hidden": true
   },
   "outputs": [],
   "source": [
    "# Read data for the first time\n",
    "train, test = load_data()"
   ]
  },
  {
   "cell_type": "markdown",
   "metadata": {
    "heading_collapsed": true
   },
   "source": [
    "# Minor changes\n",
    "<hr style=\"border:2px solid black\"> </hr>"
   ]
  },
  {
   "cell_type": "markdown",
   "metadata": {
    "hidden": true
   },
   "source": [
    "- Just a collection of actions generally forgotten. It is better to do here so we'll keep the notebook clean for later steps.\n",
    "- More info is provided under the `minor_changes` doc string."
   ]
  },
  {
   "cell_type": "code",
   "execution_count": null,
   "metadata": {
    "ExecuteTime": {
     "end_time": "2022-01-23T09:46:20.320094Z",
     "start_time": "2022-01-23T09:46:20.315682Z"
    },
    "code_folding": [
     0
    ],
    "hidden": true
   },
   "outputs": [],
   "source": [
    "def minor_changes(train, test, target_name):\n",
    "    \"\"\"Minor changes.\n",
    "    \n",
    "    Method contains minor changes to the dataset.\n",
    "    These are generally forgotten actions hence the\n",
    "    name of the method.\n",
    "    \n",
    "    At the moment we have:\n",
    "    - Get train and test IDs, the former used for Kaggle\n",
    "    competition submission file\n",
    "    - Remove the column Id as it is not needed. This is an \n",
    "    artifact used by Kaggle to keep track of the submitted\n",
    "    predictions.\n",
    "    \n",
    "    Parameters\n",
    "    ----------\n",
    "    train : pandas datafrme\n",
    "    test : pandas dataframe\n",
    "    target_name : string\n",
    "    \n",
    "    Returns\n",
    "    -------\n",
    "    train : pandas datafrme\n",
    "    test : pandas dataframe\n",
    "    df_target : pandas dataframe\n",
    "        Dataframe containing only the target    \n",
    "    \"\"\"\n",
    "    \n",
    "    print(\"Train size BEFORE:\", train.shape)\n",
    "    print(\"Test size BEFORE:\", test.shape)\n",
    "    \n",
    "    Id_train = train.Id.values\n",
    "    Id_test = test.Id.values\n",
    "\n",
    "    if test['Id'].count() != 0.0:\n",
    "        print(\"Removing column Id from test set\")\n",
    "        test=test.drop(['Id'], axis=1)\n",
    "    else:\n",
    "        print(\"No column ID present\")\n",
    "\n",
    "    if train['Id'].count() != 0.0:\n",
    "        print(\"Removing column Id from train set\")\n",
    "        train=train.drop(['Id'], axis=1)\n",
    "    else:\n",
    "        print(\"No column ID present\")        \n",
    "\n",
    "    print(\"Train size AFTER:\", train.shape)\n",
    "    print(\"Test size AFTER:\", test.shape)\n",
    "    df_target = train[target_name]\n",
    "    \n",
    "    return train, test, Id_train, Id_test, df_target"
   ]
  },
  {
   "cell_type": "code",
   "execution_count": null,
   "metadata": {
    "ExecuteTime": {
     "end_time": "2022-01-23T09:46:23.319456Z",
     "start_time": "2022-01-23T09:46:23.311196Z"
    },
    "hidden": true
   },
   "outputs": [],
   "source": [
    "train, test, Id_train, Id_test, TARGET = minor_changes(train, test, \"SalePrice\")"
   ]
  },
  {
   "cell_type": "code",
   "execution_count": null,
   "metadata": {
    "ExecuteTime": {
     "end_time": "2022-01-23T09:46:49.792253Z",
     "start_time": "2022-01-23T09:46:49.789173Z"
    },
    "code_folding": [
     0
    ],
    "hidden": true
   },
   "outputs": [],
   "source": [
    "def get_features_type(SET):\n",
    "    \n",
    "    print(\"\\nGet feature types\")\n",
    "    \n",
    "    df_numerical_features = SET.select_dtypes(exclude=['object'])\n",
    "    df_non_numerical_features = SET.select_dtypes(include=['object'])\n",
    "    \n",
    "    print(\"No of numerical features: \", df_numerical_features.shape)\n",
    "    print(\"No of NON numerical features: \", df_non_numerical_features.shape)    \n",
    "        \n",
    "    return df_numerical_features, df_non_numerical_features"
   ]
  },
  {
   "cell_type": "code",
   "execution_count": null,
   "metadata": {
    "ExecuteTime": {
     "end_time": "2022-01-23T09:47:31.892519Z",
     "start_time": "2022-01-23T09:47:31.883976Z"
    },
    "hidden": true
   },
   "outputs": [],
   "source": [
    "# This is just a small reminder of the numerical vs. categorical features in the two datasets\n",
    "_,_ = get_features_type(train)\n",
    "_,_ = get_features_type(test)"
   ]
  },
  {
   "cell_type": "markdown",
   "metadata": {
    "heading_collapsed": true
   },
   "source": [
    "# Minimal amount of feature engineering"
   ]
  },
  {
   "cell_type": "markdown",
   "metadata": {
    "hidden": true
   },
   "source": [
    "- Some of the non-numeric predictors are stored as numbers; convert them into strings.\n",
    "- This action is performed before we start detecting outliers, impute data and perform feature engineering. This is necessary as these actions need to be applied when the feature have the right type.\n",
    "- Is year and month categorical data? Categorical! -> see this [reference](https://support.minitab.com/en-us/minitab/19/help-and-how-to/statistics/tables/supporting-topics/basics/categorical-and-quantitative-variables/). I suspect that there are cases where they can be treated as numerical."
   ]
  },
  {
   "cell_type": "code",
   "execution_count": null,
   "metadata": {
    "ExecuteTime": {
     "end_time": "2022-01-23T09:47:50.030301Z",
     "start_time": "2022-01-23T09:47:50.026869Z"
    },
    "hidden": true
   },
   "outputs": [],
   "source": [
    "# We should do this after we analyse all the feature\n",
    "# log(1+x) transform\n",
    "train[\"SalePrice\"] = np.log1p(train[\"SalePrice\"])"
   ]
  },
  {
   "cell_type": "code",
   "execution_count": null,
   "metadata": {
    "ExecuteTime": {
     "end_time": "2022-01-23T09:47:53.163628Z",
     "start_time": "2022-01-23T09:47:53.159826Z"
    },
    "hidden": true
   },
   "outputs": [],
   "source": [
    "# For the train data\n",
    "train['MSSubClass'] = train['MSSubClass'].apply(str)\n",
    "#train['YrSold'] = train['YrSold'].astype(str)\n",
    "#train['MoSold'] = train['MoSold'].astype(str)"
   ]
  },
  {
   "cell_type": "code",
   "execution_count": null,
   "metadata": {
    "ExecuteTime": {
     "end_time": "2022-01-23T09:47:56.076335Z",
     "start_time": "2022-01-23T09:47:56.072209Z"
    },
    "hidden": true
   },
   "outputs": [],
   "source": [
    "# For the test data\n",
    "test['MSSubClass'] = test['MSSubClass'].apply(str)\n",
    "#test['YrSold'] = test['YrSold'].astype(str)\n",
    "#test['MoSold'] = test['MoSold'].astype(str)"
   ]
  },
  {
   "cell_type": "code",
   "execution_count": null,
   "metadata": {
    "ExecuteTime": {
     "end_time": "2022-01-23T09:47:58.999110Z",
     "start_time": "2022-01-23T09:47:58.987448Z"
    },
    "hidden": true,
    "scrolled": true
   },
   "outputs": [],
   "source": [
    "# This is just a small reminder of the numerical vs. categorical features in the two datasets\n",
    "_,_ = get_features_type(train)\n",
    "_,_ = get_features_type(test)"
   ]
  },
  {
   "cell_type": "markdown",
   "metadata": {},
   "source": [
    "# Detect outliers"
   ]
  },
  {
   "cell_type": "markdown",
   "metadata": {},
   "source": [
    "- By definition, an outlier is something that is outside of the expected response. How far you're willing to consider something to be an outlier, **is down to the individual and the problem**.\n",
    "\n",
    "- An outlier will therefore sit way outside of the distribution of data points. Hence, this will skew the distribution of the data and potential calculations and shown int he figure below.\n",
    "\n",
    "- The **data points** are shown in **light blue** on the left hand side of the grey dashed line. The **orange points** represent the **true future values**, and the **solid dark blue line** shows the **prediction** from the data points. \n",
    "\n",
    "- When the outliers are left in the model, the **model overfits** and is sensitive to these points. Therefore, it predicts values much higher than the true future values. *This is what we want to avoid.*\n",
    "\n",
    "- However, when outliers are removed, it **predicts much more accurately** with a generalised model that splits the distribution of the data points evenly.\n",
    "\n",
    "- ***This is very important in ML because the goal is to create robust models that are able to generalise to future situations.*** If we create a model that is very sensitive and tuned to fit outliers, this will result in a model that overfits. If we can create models that are able to cancel out the distractions and noise of outliers, this is usually a better situation.\n",
    "\n",
    "- [Reference](https://www.kaggle.com/agodwinp/stacking-house-prices-walkthrough-to-top-5)"
   ]
  },
  {
   "attachments": {
    "image.png": {
     "image/png": "[encoded data removed]"
    }
   },
   "cell_type": "markdown",
   "metadata": {},
   "source": [
    "![image.png](attachment:image.png)"
   ]
  },
  {
   "cell_type": "markdown",
   "metadata": {},
   "source": [
    "- We are dropping the outliers **only on the train set**.\n",
    "- Why is that? We cannot touch the Kaggle test set otherwise the submission would not be accepted.\n",
    "- A way to understand this is to consider the fact that we are training the algorithm on the training set only, threfore as long as the features are the same we are allowed to drop only some rows on the training set.\n",
    "- Since this step requires you to provide the numerical features only, make sure you do this step after all the features types have been checked. It could be the case that some features were logged as string but are numerical and viceversa. If that is the case you need to rectify this."
   ]
  },
  {
   "cell_type": "code",
   "execution_count": null,
   "metadata": {
    "ExecuteTime": {
     "end_time": "2022-01-23T09:59:34.046703Z",
     "start_time": "2022-01-23T09:59:34.043550Z"
    },
    "code_folding": [
     0
    ]
   },
   "outputs": [],
   "source": [
    "def get_cat_num_df(df):\n",
    "    \"\"\"Get categorical and numerical features name.\n",
    "\n",
    "    Parameters\n",
    "    ----------\n",
    "    df : pandas dataframe\n",
    "\n",
    "    Returns\n",
    "    -------\n",
    "    cat_cols : list\n",
    "    num_cols : list    \n",
    "    \"\"\"\n",
    "\n",
    "    cat_cols = df.select_dtypes(include=['object'])\n",
    "    num_cols = df.select_dtypes(exclude=['object'])\n",
    "    print(\n",
    "        f'The dataset contains {len(cat_cols.columns.tolist())} categorical columns')\n",
    "    print(\n",
    "        f'The dataset contains {len(num_cols.columns.tolist())} numeric columns')\n",
    "\n",
    "    return cat_cols, num_cols"
   ]
  },
  {
   "cell_type": "code",
   "execution_count": null,
   "metadata": {
    "ExecuteTime": {
     "end_time": "2022-01-23T09:59:37.278125Z",
     "start_time": "2022-01-23T09:59:37.273312Z"
    },
    "code_folding": []
   },
   "outputs": [],
   "source": [
    "def detect_outliers(df, n, features, factor=1.5):\n",
    "    \"\"\"\n",
    "    Takes a dataframe df and some features and returns a list of the indices\n",
    "    corresponding to the observations containing more than n outliers according\n",
    "    to the Tukey method.\n",
    "\n",
    "    The outlier step was increased from 1.5 to 1.7 for better \n",
    "    performance.\n",
    "\n",
    "    Parameters\n",
    "    ----------\n",
    "    df : pandas dataframe\n",
    "    n : integer\n",
    "        No of columns used to compute if the instance is an outlier for\n",
    "        more than n features. This is an indication that it is more of an \n",
    "        outlier as this value is outside the range for more than one feature\n",
    "    feature : list\n",
    "    factor : float, default=1.5\n",
    "        1.5 is the default used in the literature. Somtimes this it too restrictive\n",
    "        and depending on the dataset used you may want to relax this by using a BIGGER value.\n",
    "\n",
    "    Rerturns\n",
    "    --------\n",
    "    df : pandas dataframe\n",
    "\n",
    "    References\n",
    "    ----------\n",
    "    https://en.wikipedia.org/wiki/Quartile\n",
    "    \"\"\"\n",
    "    outlier_indices = []\n",
    "\n",
    "    # iterate over features(columns)\n",
    "    for col in features:\n",
    "        # 1st quartile (25%)\n",
    "        Q1 = np.percentile(df[col], 25)\n",
    "        # 3rd quartile (75%)\n",
    "        Q3 = np.percentile(df[col], 75)\n",
    "        # Interquartile range (IQR)\n",
    "        IQR = Q3 - Q1\n",
    "\n",
    "        # outlier step\n",
    "        outlier_step = factor * IQR\n",
    "\n",
    "        # Determine a list of indices of outliers for feature col\n",
    "        outlier_list_col = df[(df[col] < Q1 - outlier_step)\n",
    "                              | (df[col] > Q3 + outlier_step)].index\n",
    "\n",
    "        # append the found outlier indices for col to the list of outlier indices\n",
    "        outlier_indices.extend(outlier_list_col)\n",
    "\n",
    "        #print(\"Feature:\", col, \" No found\", len(outlier_list_col))\n",
    "\n",
    "    # Establish how many time an entry is present\n",
    "    # Example -> Counter({277: 3, 615: 3, 981: 3, 538: 3,\n",
    "    outlier_indices = Counter(outlier_indices)\n",
    "    multiple_outliers_index = list(\n",
    "        k for k, v in outlier_indices.items() if v > n)\n",
    "    print(\"No of outliers: \", len(multiple_outliers_index))\n",
    "    return df.iloc[multiple_outliers_index], multiple_outliers_index"
   ]
  },
  {
   "cell_type": "code",
   "execution_count": null,
   "metadata": {
    "ExecuteTime": {
     "end_time": "2022-01-23T09:59:40.330263Z",
     "start_time": "2022-01-23T09:59:40.323635Z"
    }
   },
   "outputs": [],
   "source": [
    "cat_cols_train, num_cols_train = get_cat_num_df(train)\n",
    "cat_cols_test, num_cols_test = get_cat_num_df(test)"
   ]
  },
  {
   "cell_type": "code",
   "execution_count": null,
   "metadata": {},
   "outputs": [],
   "source": [
    "stop"
   ]
  },
  {
   "cell_type": "markdown",
   "metadata": {},
   "source": [
    "- Even thought we are not dropping anything in the test data, we'd like to see the differences between the two datasets.\n",
    "- We areusing factor = 2.0 and not the original 1.5 commonly used in the literature, jsut to limit the number of outliers being removed."
   ]
  },
  {
   "cell_type": "code",
   "execution_count": null,
   "metadata": {},
   "outputs": [],
   "source": [
    "num_cols_train.columns.drop(\"SalePrice\")"
   ]
  },
  {
   "cell_type": "code",
   "execution_count": null,
   "metadata": {},
   "outputs": [],
   "source": [
    "train_outliers, train_to_drop_index = detect_outliers(\n",
    "    train, 2, num_cols_train, factor=1.7)\n",
    "test_outliers, test_to_drop_index = detect_outliers(\n",
    "    test, 2, num_cols_test, factor=1.7)"
   ]
  },
  {
   "cell_type": "code",
   "execution_count": null,
   "metadata": {
    "scrolled": true
   },
   "outputs": [],
   "source": [
    "train_outliers"
   ]
  },
  {
   "cell_type": "code",
   "execution_count": null,
   "metadata": {
    "code_folding": [
     0
    ]
   },
   "outputs": [],
   "source": [
    "def compare_distribution_sets_on_numerical_columns(train, test):\n",
    "    \"\"\"\n",
    "    \n",
    "    Test if two each feature has the same distribution\n",
    "    in both train and test set. This is achieved via a T-test. \n",
    "    To be able to perform this test we ONLY select the numerical \n",
    "    variables.\n",
    "          \n",
    "    Parameters\n",
    "    ----------\n",
    "    train : pandas dataframe\n",
    "    test : pandas dataframe\n",
    "    \n",
    "    Returns\n",
    "    -------\n",
    "    dummy : pandas dataframe\n",
    "    \"\"\"\n",
    "\n",
    "    # The reason why we get the test features is because we are sure\n",
    "    # that every single feature is present in the train set and not viceversa\n",
    "    # in fact, the target is not present in the test set\n",
    "    numeric_features = test.dtypes[test.dtypes != object].index\n",
    "\n",
    "    similar = []\n",
    "    p_value = []\n",
    "    mu, sigma = [], []\n",
    "    min_test_within_train = []\n",
    "    max_test_within_train = []\n",
    "    \n",
    "    for feature in numeric_features:\n",
    "\n",
    "        # Getting rid of all null values. We are using zero as a form of imputation\n",
    "        # but this was not a thought process in the sense that if you do not use it\n",
    "        # throws you an error.\n",
    "        train_clean = train[feature].fillna(0.0)\n",
    "        test_clean = test[feature].fillna(0.0)\n",
    "\n",
    "        stat, p = ttest_ind(train_clean, test_clean) \n",
    "        p_value.append(p)\n",
    "\n",
    "        #print('Statistics=%.3f, p=%.3f' % (stat, p))\n",
    "        alpha = 0.05\n",
    "        if p > alpha:\n",
    "            similar.append(\"similar\")                \n",
    "            #print('Same distributions (fail to reject H0)')\n",
    "        else:\n",
    "            similar.append(\"different\")\n",
    "            #print('Different distributions (reject H0)')\n",
    "                \n",
    "        min_train = get_IQR_frequency(pd.DataFrame(train_clean))[\"min\"].values[0]\n",
    "        min_test = get_IQR_frequency(pd.DataFrame(test_clean))[\"min\"].values[0]\n",
    "        \n",
    "        max_train = get_IQR_frequency(pd.DataFrame(train_clean))[\"max\"].values[0]\n",
    "        max_test = get_IQR_frequency(pd.DataFrame(test_clean))[\"max\"].values[0]\n",
    "        \n",
    "        #print(\"----\",max_test <= max_train)\n",
    "        \n",
    "        min_test_within_train.append(min_test >= min_train)\n",
    "        max_test_within_train.append(max_test <= max_train)\n",
    "        \n",
    "\n",
    "    # Create a pandas dataframe\n",
    "    dummy = pd.DataFrame()\n",
    "    dummy[\"numerical_feature\"] =  numeric_features\n",
    "    dummy[\"type\"] = [\"numerical\" for _ in range(len(numeric_features))]\n",
    "    dummy[\"train_test_similar?\"] = similar\n",
    "    dummy[\"ttest_p_value\"] = p_value\n",
    "    dummy[\"min_test>=min_train\"] = min_test_within_train\n",
    "    dummy[\"max_test<=max_train\"] = max_test_within_train\n",
    "\n",
    "    # Decorate the dataframe for quick visualisation\n",
    "    def highlight(x):    \n",
    "        return ['background: yellow' if v == \"different\" or v == False else '' for v in x]\n",
    "\n",
    "    def bold(x):\n",
    "        return ['font-weight: bold' if v == \"different\" or v == False else '' for v in x]\n",
    "\n",
    "    # Visualise the highlighted df\n",
    "    return dummy.style.apply(highlight).apply(bold)        "
   ]
  },
  {
   "cell_type": "code",
   "execution_count": null,
   "metadata": {
    "code_folding": [
     0
    ]
   },
   "outputs": [],
   "source": [
    "def get_IQR_frequency(df):\n",
    "    \"\"\"Get the IQR or the frequency.\n",
    "    \n",
    "    This methos returns the interquartalies or the frquenecy\n",
    "    depends on the feature beeing numerical or categorical.\n",
    "\n",
    "    Parameters\n",
    "    ----------\n",
    "    df : pandas dataframe\n",
    "\n",
    "    Returns\n",
    "    -------\n",
    "    dummy : pandas dataframe\n",
    "        dummy storing IQR if numerical\n",
    "        dummy storing the instance frequency if categorical\n",
    "    \"\"\"\n",
    "\n",
    "    if all(df.dtypes != object):\n",
    "        dummy = pd.DataFrame(df.describe()).T\n",
    "    else:\n",
    "        frequency = []\n",
    "        frequency_percentage = []\n",
    "        unique = list(set([i[0] for i in pd.DataFrame(df).values]))\n",
    "        for i in unique:\n",
    "            frequency.append(df[df == i].count()[0])\n",
    "            frequency_percentage.append((df[df == i].count()[0]/len(df))*100)\n",
    "\n",
    "        dummy = pd.DataFrame()\n",
    "        dummy[\"Entries\"] = unique\n",
    "        dummy[\"Frequency\"] = frequency\n",
    "        dummy[\"Frequency[%]\"] = frequency_percentage\n",
    "        dummy.sort_values(by=['Frequency[%]'], inplace=True, ascending=False)\n",
    "\n",
    "    return dummy"
   ]
  },
  {
   "cell_type": "code",
   "execution_count": null,
   "metadata": {
    "cell_style": "center",
    "scrolled": true
   },
   "outputs": [],
   "source": [
    "# Just check if the situation has improved\n",
    "compare_distribution_sets_on_numerical_columns(train, test)"
   ]
  },
  {
   "cell_type": "code",
   "execution_count": null,
   "metadata": {},
   "outputs": [],
   "source": [
    "# Drop outliers\n",
    "print(\"\\nBEFORE:\", train.shape)\n",
    "train_ = train.drop(train_to_drop_index, axis = 0).reset_index(drop=True)\n",
    "print(\"AFTER\", train_.shape)"
   ]
  },
  {
   "cell_type": "markdown",
   "metadata": {},
   "source": [
    "- **Attention** you cannot drop the outliers in the test data otherwise Kaggle will throw you an error.\n",
    "- You can modify the feature but not the number of rows!"
   ]
  },
  {
   "cell_type": "code",
   "execution_count": null,
   "metadata": {},
   "outputs": [],
   "source": [
    "# Drop outliers\n",
    "print(\"\\nBEFORE:\", test.shape)\n",
    "#test_ = test.drop(test_to_drop_index, axis = 0).reset_index(drop=True)\n",
    "#print(\"AFTER\", test_.shape)"
   ]
  },
  {
   "cell_type": "markdown",
   "metadata": {},
   "source": [
    "- Just check if the situation has improved.\n",
    "- Now we see that the situation has not improved. Why? Mainly because we are allowed to modified only the train set and not the test.\n",
    "- **What solution do we have?** Skip this step of use a more representative test set. Something we cannot do here at Kaggle. What I mean is that you can still create a more presenative test set for your testing but you are still bound to use the Kaggle test set to submit a valid submission"
   ]
  },
  {
   "cell_type": "code",
   "execution_count": null,
   "metadata": {
    "cell_style": "center",
    "scrolled": true
   },
   "outputs": [],
   "source": [
    "compare_distribution_sets_on_numerical_columns(train_, test)"
   ]
  },
  {
   "cell_type": "code",
   "execution_count": null,
   "metadata": {},
   "outputs": [],
   "source": [
    "# Overwrite dataset\n",
    "train = train_\n",
    "#test = test_\n",
    "\n",
    "_,_ = get_features_type(train)\n",
    "_,_ = get_features_type(test)"
   ]
  },
  {
   "cell_type": "markdown",
   "metadata": {},
   "source": [
    "## Sanity check on outliers removal"
   ]
  },
  {
   "cell_type": "markdown",
   "metadata": {},
   "source": [
    "- We have used an automated procedure to get rid of the outliers. However keep in mind this:\n",
    "    - The best one would be to check each feature one-by-one just to be sure it works\n",
    "    - The idea of this subsection is to spot-check what we have done above for some of the value we have flagged under the `Features analysis` section .\n",
    "    \n",
    "- Further, please consider the following: Use entries removal only when you are 100% sure and this measn that automatic procedure are rarely robust. For small dataset even if the are flagged as outliers, removing them may be more detrimental than beneficial. One option could be just to make the model **robust** to them. Again, this become a matter of trial and errors."
   ]
  },
  {
   "cell_type": "markdown",
   "metadata": {},
   "source": [
    "**GrLivArea vs. SalePrice**"
   ]
  },
  {
   "cell_type": "code",
   "execution_count": null,
   "metadata": {
    "cell_style": "split"
   },
   "outputs": [],
   "source": [
    "fig, ax = plt.subplots()\n",
    "ax.scatter(train['GrLivArea'], train['SalePrice'])\n",
    "plt.ylabel('SalePrice', fontsize=13)\n",
    "plt.xlabel('GrLivArea', fontsize=13)\n",
    "plt.show()"
   ]
  },
  {
   "cell_type": "code",
   "execution_count": null,
   "metadata": {
    "cell_style": "split"
   },
   "outputs": [],
   "source": [
    "# Without log transform\n",
    "fig, ax = plt.subplots()\n",
    "ax.scatter(train['GrLivArea'], \n",
    "           np.exp(train['SalePrice'])-1)\n",
    "plt.ylabel('SalePrice', fontsize=13)\n",
    "plt.xlabel('GrLivArea', fontsize=13)\n",
    "plt.show()"
   ]
  },
  {
   "cell_type": "markdown",
   "metadata": {},
   "source": [
    "**OverallQual vs. SalePrice**"
   ]
  },
  {
   "cell_type": "code",
   "execution_count": null,
   "metadata": {
    "cell_style": "split"
   },
   "outputs": [],
   "source": [
    "fig, ax = plt.subplots()\n",
    "ax.scatter(train['OverallQual'], train['SalePrice'])\n",
    "plt.ylabel('SalePrice', fontsize=13)\n",
    "plt.xlabel('OverallQual', fontsize=13)\n",
    "plt.show()"
   ]
  },
  {
   "cell_type": "code",
   "execution_count": null,
   "metadata": {
    "cell_style": "split"
   },
   "outputs": [],
   "source": [
    "# Without log transform\n",
    "fig, ax = plt.subplots()\n",
    "ax.scatter(train['OverallQual'], \n",
    "           np.exp(train['SalePrice'])-1)\n",
    "plt.ylabel('SalePrice', fontsize=13)\n",
    "plt.xlabel('OverallQual', fontsize=13)\n",
    "plt.show()"
   ]
  },
  {
   "cell_type": "markdown",
   "metadata": {},
   "source": [
    "- It seems that our outliers algorithm removed most of the outstanding entries.\n",
    "- However, this is an automated procedure and each feature should in theory at least visually be checked."
   ]
  },
  {
   "cell_type": "markdown",
   "metadata": {},
   "source": [
    "# Missing values"
   ]
  },
  {
   "cell_type": "markdown",
   "metadata": {},
   "source": [
    "## General overview"
   ]
  },
  {
   "cell_type": "markdown",
   "metadata": {},
   "source": [
    "- Bird high view of which feature has a non-usable value and how many of them are there.\n",
    "- As always this is done for both train and test set, for the sole purpouse of understanding if the test is representative of the training set.\n",
    "- Using heatmap to show the numeric data consisting missing value in train dataset. The white bars are representing missing value."
   ]
  },
  {
   "cell_type": "code",
   "execution_count": null,
   "metadata": {},
   "outputs": [],
   "source": [
    "plt.figure(figsize=(16, 5))\n",
    "sns.heatmap(train.isnull(), yticklabels=False, cbar=False);"
   ]
  },
  {
   "cell_type": "code",
   "execution_count": null,
   "metadata": {},
   "outputs": [],
   "source": [
    "plt.figure(figsize=(16, 5))\n",
    "sns.heatmap(test.isnull(), yticklabels=False, cbar=False);"
   ]
  },
  {
   "cell_type": "markdown",
   "metadata": {},
   "source": [
    "## Missing non-numerical values"
   ]
  },
  {
   "cell_type": "code",
   "execution_count": null,
   "metadata": {},
   "outputs": [],
   "source": [
    "# Missing TRAIN categorical values -> use mode (most common)\n",
    "cat_cols_train_miss = cat_cols_train.columns[cat_cols_train.isnull().any()]\n",
    "print(cat_cols_train_miss)"
   ]
  },
  {
   "cell_type": "code",
   "execution_count": null,
   "metadata": {},
   "outputs": [],
   "source": [
    "# Missing TEST categorical values -> use mode (most common)\n",
    "cat_cols_test_mis = cat_cols_test.columns[cat_cols_test.isnull().any()]\n",
    "print(cat_cols_test_mis)"
   ]
  },
  {
   "cell_type": "markdown",
   "metadata": {},
   "source": [
    "## Missing numerical values"
   ]
  },
  {
   "cell_type": "code",
   "execution_count": null,
   "metadata": {},
   "outputs": [],
   "source": [
    "num_cols_train_mis = num_cols_train.columns[num_cols_train.isnull().any()]\n",
    "num_cols_train_mis"
   ]
  },
  {
   "cell_type": "code",
   "execution_count": null,
   "metadata": {},
   "outputs": [],
   "source": [
    "num_cols_test_mis = num_cols_test.columns[num_cols_test.isnull().any()]\n",
    "num_cols_test_mis"
   ]
  },
  {
   "cell_type": "markdown",
   "metadata": {},
   "source": [
    "## Further analysis"
   ]
  },
  {
   "cell_type": "markdown",
   "metadata": {},
   "source": [
    "- Generally the threshold used to get rid of a features based on the number of missing values is anything in between **15 or 20%**."
   ]
  },
  {
   "cell_type": "code",
   "execution_count": null,
   "metadata": {
    "code_folding": [
     0
    ]
   },
   "outputs": [],
   "source": [
    "def get_missing_values(df, threshold=20, verbose=False, sort_by='No missing value'):\n",
    "    \"\"\"Get basic details of the dataset.\n",
    "\n",
    "    Missing values and their percentage\n",
    "    Unique values and their percentage (Cardinality)\n",
    "    Cardinality is important if you are trying to understand\n",
    "    feature importance.\n",
    "    Type if numerical or not\n",
    "\n",
    "    Parameters\n",
    "    ----------\n",
    "    threshold - float [percentage]\n",
    "        Used to highlihgt in yellow value that have\n",
    "        a number of missing entries greater than the\n",
    "        threshold\n",
    "    verbose - float \n",
    "        If set to True values on console\n",
    "\n",
    "    Returns\n",
    "    -------\n",
    "    df_null_values : pandas dataframe\n",
    "\n",
    "    \"\"\"\n",
    "\n",
    "    print(\"\\nChecking NON usable data\")\n",
    "    print(\"Threshold set at [%]\", threshold)\n",
    "    zero = False\n",
    "    for i in df.columns:\n",
    "        if df[i].isnull().sum() > 0.0:\n",
    "            zero = True\n",
    "            if verbose == True:\n",
    "                print(\"%s | No missing: %.2f | Percentage %.2f\" %\n",
    "                      (i, df[i].isnull().sum(), df[i].isnull().mean()*100))\n",
    "\n",
    "    if zero == False:\n",
    "        print(\"No null values found!\")\n",
    "\n",
    "    # Pandas dataframe of the same print out shown above\n",
    "    b = pd.DataFrame()\n",
    "    b['No missing value'] = df.isnull().sum()\n",
    "    b[\"Missing[%]\"] = df.isna().mean()*100\n",
    "    b['dtype'] = df.dtypes\n",
    "\n",
    "    # Turn index into a columns\n",
    "    b['Feature'] = b.index\n",
    "    # Getting rid of the index\n",
    "    b.reset_index(drop=True, inplace=True)\n",
    "    # Order the entries, larger first\n",
    "\n",
    "    b.sort_values(by=[sort_by], inplace=True, ascending=False)\n",
    "    # Move feature as first column\n",
    "    b = b[['Feature'] + [col for col in b.columns if col != 'Feature']]\n",
    "    df_null_values = b\n",
    "\n",
    "    # Highlihgt values > threshold)\n",
    "    def highlight(x):\n",
    "        return ['background: yellow' if v > threshold else '' for v in x]\n",
    "\n",
    "    def bold(x):\n",
    "        return ['font-weight: bold' if v > threshold else '' for v in x]\n",
    "\n",
    "    # Visualise the highlighted df\n",
    "    return df_null_values.style.apply(\n",
    "        highlight, subset=[\"Missing[%]\"]).apply(bold, subset=[\"Missing[%]\"])"
   ]
  },
  {
   "cell_type": "code",
   "execution_count": null,
   "metadata": {
    "code_folding": []
   },
   "outputs": [],
   "source": [
    "def plot_missing_values(df, threshold = 20):\n",
    "    rcParams['font.size'] = 15\n",
    "    plt.figure(figsize=(12, 10))\n",
    "   \n",
    "    #dummy = (df.loc[:, df.isnull().any()].isna().sum() / df.shape[0]).sort_values()\n",
    "    #dummy.plot(kind='barh')\n",
    "    missing = round(df.isnull().mean()*100,2)\n",
    "    missing = missing[missing > 0]    \n",
    "    missing.sort_values().plot(kind='barh')\n",
    "\n",
    "    plt.axvline(x=threshold, color='r', linestyle='-', lw=4, label='Reference line')\n",
    "    plt.legend()\n",
    "    plt.xlabel('% of missing data', size=25)\n",
    "    plt.show()"
   ]
  },
  {
   "cell_type": "code",
   "execution_count": null,
   "metadata": {},
   "outputs": [],
   "source": [
    "df_train_null_values = get_missing_values(train, threshold=20, verbose=False)"
   ]
  },
  {
   "cell_type": "code",
   "execution_count": null,
   "metadata": {},
   "outputs": [],
   "source": [
    "df_train_null_values"
   ]
  },
  {
   "cell_type": "code",
   "execution_count": null,
   "metadata": {},
   "outputs": [],
   "source": [
    "plot_missing_values(train)"
   ]
  },
  {
   "cell_type": "code",
   "execution_count": null,
   "metadata": {},
   "outputs": [],
   "source": [
    "# Checking null value in test set\n",
    "df_test_null_values = get_missing_values(test)"
   ]
  },
  {
   "cell_type": "code",
   "execution_count": null,
   "metadata": {},
   "outputs": [],
   "source": [
    "df_test_null_values"
   ]
  },
  {
   "cell_type": "code",
   "execution_count": null,
   "metadata": {},
   "outputs": [],
   "source": [
    "plot_missing_values(test)"
   ]
  },
  {
   "cell_type": "markdown",
   "metadata": {},
   "source": [
    "- **PoolQC**: Pool quality\n",
    "- There is another feature related to Pool which is `PoolArea`. This is important because if we decide to drop `PoolQC` on the ground that there are too many value missing, would it make sense to leave `PoolArea` there?\n",
    "- From the plot below we can see that how most of the entries under `PoolArea` have zero assigned to them. This means we can use this to impute some of the missing value of `PoolQC`. This is to say that whenevere, `PoolArea` is zero the corresponding `PoolQC` should be impute a value equal to 0.0 if not provided. This is a robust way of proceeding because `PoolArea` does not have any missing values so we should be able to use this to drive the imputation."
   ]
  },
  {
   "cell_type": "markdown",
   "metadata": {},
   "source": [
    "- **MiscFeature**: Miscellaneous feature not covered in other categories       \n",
    "- Even if we were able to impute the missing value, how useful is this feature would be? I can see one of the entry\n",
    "has value `Othr` which  I do not think is very informative.\n",
    "- Our second problem is how we could impute this feature? I do not see any easy way of impute this one. So, I'd would suggest droppoing this feature.\n",
    "- One other option, could be to use NA for all null value, but considering the already very big encoded features, with the subsequent increase in column, I'd rather not to this."
   ]
  },
  {
   "cell_type": "markdown",
   "metadata": {},
   "source": [
    "- **Alley**: Type of alley access to property\n",
    "- Option No1 = Impute value based on other feature. Not possible as none of the other features provide a clue on how to do it.\n",
    "- Option No2 = Assume the non usable entries are essentially `NA` which would make sense\n",
    "- Option No3 - Drop the feature.\n",
    "- I'd go for option No2. In any case, this feature can be dropped if found not be correlated with the output."
   ]
  },
  {
   "cell_type": "markdown",
   "metadata": {},
   "source": [
    "- **Fence**: Fence quality    \n",
    "- Option No1 = Impute value based on other feature. Not possible as none of the other features provide a clue on how to do it.\n",
    "- Option No2 = Assume the non usable entries are essentially NA which would make sense\n",
    "- Option No3 - Drop the feature.\n",
    "- I'd go for option No2. In any case, this feature can be dropped if found not be correlated with the output."
   ]
  },
  {
   "cell_type": "markdown",
   "metadata": {},
   "source": [
    "- **FireplaceQu**: Fireplace quality   \n",
    "- Option No1 = Impute value based on other feature. This can be achieve by looking at `Fireplaces` which does not have any mising values and it is a good candidate to do wxactly what we lay out for `PoolQu`\n",
    "- Option No2 = Assume the non usable entries are essentially NA which would make sense\n",
    "- Option No3 - Drop the feature.\n",
    "- I'd go for option No1 as it is more elegant and justifiable than Option No2."
   ]
  },
  {
   "cell_type": "code",
   "execution_count": null,
   "metadata": {
    "code_folding": [
     0
    ]
   },
   "outputs": [],
   "source": [
    "def remove_feature_on_null_values(df, threshold=20, columns = [], method=\"by_list\"):\n",
    "    \"\"\"Remove features\n",
    "    \n",
    "    Remove features based on dataframe threshold\n",
    "    \n",
    "    Paramereters\n",
    "    ------------\n",
    "    df : pandas dataframe\n",
    "    \n",
    "    threshold : float, default=20\n",
    "        Use to drop column/feature/explainer\n",
    "        \n",
    "    columns : list of string, default=[]\n",
    "    \n",
    "    method : string\n",
    "        It takes two values\n",
    "        by_threshold (columns is ignores) and each feature that\n",
    "        has a number of missing value higher that what indicated by\n",
    "        the threshold parameters\n",
    "        \n",
    "        by_list (threshould is ingnored) and only the features in \n",
    "        the columns list are dropped\n",
    "            \n",
    "    Returns\n",
    "    -------\n",
    "    df - pandas dataframe\n",
    "        The new dataframe withouth the dropped features.\n",
    "    \"\"\"\n",
    "\n",
    "    print(\"\\nShape BEFORE\", df.shape)    \n",
    "    df = copy.deepcopy(df)\n",
    "    \n",
    "    if method == \"by_threshould\":\n",
    "        print(\"Removing feature/column/explainer\")\n",
    "        print(\"Threshold set at [%]\", threshold)\n",
    "        drop_features = []\n",
    "        for i in df.columns:\n",
    "            if df[i].isnull().sum() > 0.0:\n",
    "                if df[i].isnull().mean()*100 > threshold:\n",
    "                    drop_features.append(i)\n",
    "\n",
    "        print(\"Dropping columns\", drop_features)    \n",
    "        #df.columns(columns=drop_features)\n",
    "        df = df.drop(drop_features, axis=1, inplace=True)\n",
    "    \n",
    "    elif method == \"by_list\":\n",
    "        print(\"Removing feature/column/explainer\")\n",
    "        print(\"Coumns to be dropped\", columns)\n",
    "        for to_drop in columns:\n",
    "            df.drop(columns = [to_drop], axis=1, inplace=True)\n",
    "        \n",
    "    print(\"Shape AFTER\", df.shape)\n",
    "\n",
    "    \n",
    "    return df"
   ]
  },
  {
   "cell_type": "code",
   "execution_count": null,
   "metadata": {},
   "outputs": [],
   "source": [
    "# Remove features/columns/explainers if missing is more than 20%\n",
    "# Please note that this makes sense only if both train and test\n",
    "train_ = remove_feature_on_null_values(\n",
    "    train, columns=[\"MiscFeature\"], method=\"by_list\")\n",
    "test_ = remove_feature_on_null_values(\n",
    "    test, columns=[\"MiscFeature\"], method=\"by_list\")"
   ]
  },
  {
   "cell_type": "code",
   "execution_count": null,
   "metadata": {},
   "outputs": [],
   "source": [
    "# Overwriting the sets\n",
    "train = train_\n",
    "test = test_"
   ]
  },
  {
   "cell_type": "code",
   "execution_count": null,
   "metadata": {},
   "outputs": [],
   "source": [
    "_,_ = get_features_type(train)\n",
    "_,_ = get_features_type(test)"
   ]
  },
  {
   "cell_type": "markdown",
   "metadata": {},
   "source": [
    "# Data imputation"
   ]
  },
  {
   "cell_type": "markdown",
   "metadata": {},
   "source": [
    "- Now it is time to actually impute the missing data. We jsut have to decide if we want to merge and impute or if we proceed wit it on two separate dataset. **Why does it make sense to ask this question?**\n",
    "- We have three sets:\n",
    "    - **training** = provided by Kaggle for you to train your model\n",
    "    - **test** = peovided and used by Kaggle to score you on the leaderboard\n",
    "    - **test** (another one and different from the one give to you) = used by Kaggle to score you in the private board. This is done at the end of each competition. \n",
    "\n",
    "- Now consider this case: if use the mean or median to imput a missing value where is this value coming from. If we use the merged dataset (train+test) it means some info from a test set is leaking to the training set. Now if the distributino are exactly the same these would not change much, otherwise we are leaking ssomething from test to train set. If a leak is there and how much it would affect the result needs to be etablished on case basis.\n",
    "\n",
    "- Further, if there is a leak what would be the effect on the private set? This cannot be established because we do not have access to that set. \n",
    "\n",
    "- At the end of the date for this dataset, I would expect a difference to be there between merged and not merged set impputation and the only way we have to find out is to run a test."
   ]
  },
  {
   "cell_type": "markdown",
   "metadata": {},
   "source": [
    "- At this point the message is the following:\n",
    "    - Use mean if the feature are not too skewed\n",
    "    - Use median if the feature is skewed\n",
    "    - Whereever neitehr the mean nor the median makes sense, then read the `data_description.txt` and use a customised imputation strategy."
   ]
  },
  {
   "cell_type": "markdown",
   "metadata": {},
   "source": [
    "| **Type**                            | Description |\n",
    "| ----------------------------------- | ----------------- |\n",
    "| Missing Completely At Random (MCAR) | Values in a data set are Missing Completely At Random (MCAR) if the events that. | lead to any particular data-item being missing are independent both of observed data and of missing data.                |\n",
    "| Missing At Random (MAR)             | When the missing data is related to the observed data but not the missing data. |\n",
    "| Missing Not At Random (MNAR)        | When the data is neither MAR nor MCAR. The missing values on the variable are related to that of both the observed and missing variables. |"
   ]
  },
  {
   "cell_type": "markdown",
   "metadata": {},
   "source": [
    "- Other techniques (comprehensive list) can be check out in this [reference](https://www.kaggle.com/srivignesh/techniques-for-handling-the-missing-data)"
   ]
  },
  {
   "cell_type": "code",
   "execution_count": null,
   "metadata": {},
   "outputs": [],
   "source": [
    "_,a = get_features_type(train)\n",
    "_,b = get_features_type(test)"
   ]
  },
  {
   "cell_type": "code",
   "execution_count": null,
   "metadata": {},
   "outputs": [],
   "source": [
    "a.columns"
   ]
  },
  {
   "cell_type": "code",
   "execution_count": null,
   "metadata": {},
   "outputs": [],
   "source": [
    "b.columns"
   ]
  },
  {
   "cell_type": "code",
   "execution_count": null,
   "metadata": {
    "code_folding": [
     0
    ]
   },
   "outputs": [],
   "source": [
    "def data_imputation(df):\n",
    "    \"\"\"Data impputation.\n",
    "\n",
    "    Paramaters\n",
    "    ----------\n",
    "    df : pandas dataframe\n",
    "\n",
    "    Returns\n",
    "    -------\n",
    "    df : pandas dataframe\n",
    "    \"\"\"\n",
    "\n",
    "    df = copy.deepcopy(df)\n",
    "\n",
    "    # MSSubClass\n",
    "    \"\"\"\n",
    "    Numeric-> treated as categorical. train and test do not have the same\n",
    "    entries! No need for data imputation\n",
    "    \"\"\"\n",
    "\n",
    "    # MSZoning\n",
    "    \"\"\"\n",
    "    Option No1 -> hard coded value\n",
    "    Option No2 -> use mode -> most common value\n",
    "    Option No3 -> group by the MSSubClass, and fill in missing values by the MSZoning mode of the MSSubClass\n",
    "    \"\"\"\n",
    "    #df['MSZoning'] = df['MSZoning'].fillna(\"A\")\n",
    "    df[\"MSZoning\"] = df[\"MSZoning\"].fillna(df[\"MSZoning\"].mode()[0])\n",
    "    #df['MSZoning'] = features.groupby('MSSubClass')['MSZoning'].transform(lambda x: x.fillna(x.mode()[0]))\n",
    "\n",
    "    # LotFrontage\n",
    "    \"\"\"\n",
    "    Option No1 -> use median -> second quantile -> 50% percentile\n",
    "    Option No2 -> use mean, not suggest as distribution is skewed!\n",
    "    Option No3 -> group the by neighborhoods, and fill in missing value \n",
    "                  by the median LotFrontage of all the neighborhood.\n",
    "                  Since the area of each street connected to the house property \n",
    "                  most likely have a similar area to other houses in its neighborhood, \n",
    "                  we can fill in missing values by the median LotFrontage of the neighborhood.\n",
    "    \"\"\"\n",
    "    df['LotFrontage'] = df['LotFrontage'].fillna(df['LotFrontage'].median())\n",
    "    #df['LotFrontage'] = df['LotFrontage'].fillna(df['LotFrontage'].mean())\n",
    "    #df['LotFrontage'] = df.groupby('Neighborhood')['LotFrontage'].transform(lambda x: x.fillna(x.median()))\n",
    "\n",
    "    # LotArea -> No missing values -> No action\n",
    "    # Street -> No missing values -> No action\n",
    "\n",
    "    # Alley\n",
    "    \"\"\"\n",
    "    Option No1 -> consider nan as a real one and drop the row\n",
    "    Option No2 -> consider nan as an entry for NA (No alley access)-> preferred\n",
    "    \"\"\"\n",
    "    df['Alley'] = df['Alley'].fillna(\"NA\")\n",
    "\n",
    "    # LotShape -> No missing values -> No action\n",
    "    # LandContour -> No missing values -> No action\n",
    "\n",
    "    # Utilities\n",
    "    \"\"\"\n",
    "    Option No1 -> consider nan as a real one and drop the row\n",
    "    Option No2 -> use the mode -> most common value\n",
    "    \"\"\"\n",
    "    df[\"Utilities\"] = df[\"Utilities\"].fillna(df[\"Utilities\"].mode()[0])\n",
    "\n",
    "    # LotConfig -> No missing values -> No action\n",
    "    # LandSlope -> No missing values -> No action\n",
    "    # Neighborhood -> No missing values -> No action\n",
    "    # Condition1 -> No missing values -> No action\n",
    "    # Condition2 -> No missing values -> No action\n",
    "    # BldgType -> No missing values -> No action\n",
    "    # HouseStyle -> No missing values -> No action\n",
    "    # OverallQual -> No missing values -> No action\n",
    "    # OverallCond -> No missing values -> No action\n",
    "    # YearBuilt -> No missing values -> No action\n",
    "    # YearRemodAdd -> No missing values -> No action\n",
    "    # RoofStyle -> No missing values -> No action\n",
    "    # Roof material -> No missing values -> No action\n",
    "\n",
    "    # Exterior1st & Exterior2nd -> used mode\n",
    "    df[\"Exterior1st\"] = df[\"Exterior1st\"].fillna(df[\"Exterior1st\"].mode()[0])\n",
    "    df[\"Exterior2nd\"] = df[\"Exterior2nd\"].fillna(df[\"Exterior2nd\"].mode()[0])\n",
    "\n",
    "    # MasVnrType\n",
    "    \"\"\"\n",
    "    Option No1 -> use None\n",
    "    Option No2 -> use the most common -> not suggested\n",
    "    \"\"\"\n",
    "    df['MasVnrType'] = df['MasVnrType'].fillna(\"None\")\n",
    "\n",
    "    # MasVnrArea\n",
    "    \"\"\"\n",
    "    Option No1 -> fill with zero but this is likely to be plain wrong!\n",
    "    Option No2 -> use mean but keep in mind the dsitribution is skewed\n",
    "    Option No3 -> use median -> it is zero so it cannot be used\n",
    "    \"\"\"\n",
    "    df['MasVnrArea'] = df['MasVnrArea'].fillna(df['MasVnrArea'].median())\n",
    "\n",
    "    # ExterQual -> No missing values -> No action\n",
    "    # ExterCond -> No missing values -> No action\n",
    "    # Foundation -> No missing values -> No action\n",
    "\n",
    "    # BsmtQual & BsmtCond -> use NA no basement\n",
    "    df['BsmtQual'] = df['BsmtQual'].fillna(\"NA\")\n",
    "    df['BsmtCond'] = df['BsmtCond'].fillna(\"NA\")\n",
    "\n",
    "    # BsmtExposure -> use NA -> No Basement\n",
    "    df['BsmtExposure'] = df['BsmtExposure'].fillna(\"NA\")\n",
    "\n",
    "    # BsmtFinType1 & BsmtFinType2-> use NA -> No Basement\n",
    "    df['BsmtFinType1'] = df['BsmtFinType1'].fillna(\"NA\")\n",
    "    df['BsmtFinType2'] = df['BsmtFinType2'].fillna(\"NA\")\n",
    "\n",
    "    # BsmtFinSF1 & BsmtFinSF2 -> use 0.0 as in no basement\n",
    "    df['BsmtFinSF1'] = df['BsmtFinSF1'].fillna(0.0)\n",
    "    df['BsmtFinSF2'] = df['BsmtFinSF2'].fillna(0.0)\n",
    "\n",
    "    # BsmtUnfSF -> use median\n",
    "    df['BsmtUnfSF'] = df['BsmtUnfSF'].fillna(df['BsmtUnfSF'].median())\n",
    "\n",
    "    # TotalBsmtSF -> use median\n",
    "    df['TotalBsmtSF'] = df['TotalBsmtSF'].fillna(df['TotalBsmtSF'].median())\n",
    "\n",
    "    # Heating -> No missing values -> No action\n",
    "    # HeatingQC -> No missing values -> No action\n",
    "    # CentralAir -> No missing values -> No action\n",
    "\n",
    "    # Electrical -> use mode\n",
    "    df[\"Electrical\"] = df[\"Electrical\"].fillna(df[\"Electrical\"].mode()[0])\n",
    "\n",
    "    # 1stFlrSF -> No missing values -> No action\n",
    "    # 2ndFlrSF -> No missing values -> No action\n",
    "    # LowQualFinSF -> No missing values -> No action\n",
    "    # GrLivArea -> No missing values -> No action\n",
    "\n",
    "    # BsmtFullBath -> fill with zero\n",
    "    df['BsmtFullBath'] = df['BsmtFullBath'].fillna(0.0)\n",
    "\n",
    "    # BsmtHalfBath -> fill with zero\n",
    "    df['BsmtHalfBath'] = df['BsmtHalfBath'].fillna(0.0)\n",
    "\n",
    "    # FullBath -> No missing values -> No action\n",
    "    # HalfBath -> No missing values -> No action\n",
    "\n",
    "    # KitchenQual -> use TA -> Typical/Average\n",
    "    df['KitchenQual'] = df['KitchenQual'].fillna(\"TA\")\n",
    "\n",
    "    # TotRmsAbvGrd -> No missing values -> No action\n",
    "\n",
    "    # Functional\n",
    "    \"\"\"\n",
    "    The data description states to assume typical unless deductions are warranted\n",
    "    We can interpret this as use Typ for NaA values. Here, we'd use the\n",
    "    mode (most common) which coincide with \"Typ\". This can be deducted from the \n",
    "    feature-by-feature analysis done above.\n",
    "    \"\"\"\n",
    "    df[\"Functional\"] = df[\"Functional\"].fillna(df[\"Functional\"].mode()[0])\n",
    "\n",
    "    # Fireplaces -> No missing values -> No action\n",
    "\n",
    "    # FireplaceQu\n",
    "    \"\"\"\n",
    "    Use NA when No Fireplace == 0.0. Essentially we are using another feature\n",
    "    to impute the missing value. This is robust way of proceeding.\n",
    "    \"\"\"\n",
    "    for i in df[\"FireplaceQu\"][pd.isna(df[\"FireplaceQu\"])].index:\n",
    "        if df[\"Fireplaces\"].iloc[i] == 0.0:\n",
    "            df[\"FireplaceQu\"].iloc[i] = \"NA\"\n",
    "\n",
    "    # GarageType -> use NA -> No Garage\n",
    "    df[\"GarageType\"] = df[\"GarageType\"].fillna(\"NA\")\n",
    "\n",
    "    # GarageYrBlt\n",
    "    \"\"\"\n",
    "    Option No1 -> use mean but feature are skewed\n",
    "    Option No2 -> use median to take into account how feature is skewed\n",
    "    Option No3 group by some feature and try to get the value from a\n",
    "    similar feature that has no null values in it.\n",
    "    \"\"\"\n",
    "    df[\"GarageYrBlt\"] = df[\"GarageYrBlt\"].fillna(df[\"GarageYrBlt\"].median())\n",
    "\n",
    "    # GarageFinish -> use NA -> No Garage\n",
    "    df[\"GarageFinish\"] = df[\"GarageFinish\"].fillna(\"NA\")\n",
    "\n",
    "    # GarageCars -> use 0.0\n",
    "    df[\"GarageCars\"] = df[\"GarageCars\"].fillna(0.0)\n",
    "\n",
    "    # GarageArea -> use 0.0\n",
    "    df[\"GarageArea\"] = df[\"GarageArea\"].fillna(0.0)\n",
    "\n",
    "    # GarageQual -> use NA\n",
    "    df[\"GarageQual\"] = df[\"GarageQual\"].fillna(\"NA\")\n",
    "\n",
    "    # GarageCond -> use NA\n",
    "    df[\"GarageCond\"] = df[\"GarageCond\"].fillna(\"NA\")\n",
    "\n",
    "    # PavedDrive -> No missing values -> No action\n",
    "    # WoodDeckSF -> No missing values -> No action\n",
    "    # OpenPorchSF -> No missing values -> No action\n",
    "    # EnclosedPorch -> No missing values -> No action\n",
    "    # 3SsnPorch -> No missing values -> No action\n",
    "    # ScreenPorch -> No missing values -> No action\n",
    "    # PoolArea -> No missing values -> No action\n",
    "\n",
    "    # PoolQC\n",
    "    \"\"\"\n",
    "    From the plot below we can see that how most of the entries under `PoolArea` have zero \n",
    "    assigned to them. This means we can use this to impute some of the missing value of \n",
    "    `PoolQC`. This is to say that whenevere, `PoolArea` is zero the corresponding `PoolQC` \n",
    "    should be impute a value equal to NA if not provided. For all the situation where the\n",
    "    PoolQC is missing and the PoolArea is not zero then use the \"TA\" as in average/Typical\n",
    "    just to stay on the conservative side of things.\n",
    "    \"\"\"\n",
    "    for i in df[\"PoolQC\"][pd.isna(df[\"PoolQC\"])].index:\n",
    "        if df[\"PoolArea\"].iloc[i] == 0.0:\n",
    "            df[\"PoolQC\"].iloc[i] = \"NA\"\n",
    "        else:\n",
    "            # Use TA Tipycal/Average\n",
    "            df[\"PoolQC\"].iloc[i] = \"TA\"\n",
    "\n",
    "    # Fence -> use NA for no pool\n",
    "    df[\"Fence\"] = df[\"Fence\"].fillna(\"NA\")\n",
    "\n",
    "    # MiscFeature -> feature was dropped\n",
    "    #df[\"MiscFeature\"] = df[\"MiscFeature\"].fillna(\"NA\")\n",
    "\n",
    "    # MiscVal -> No missing values -> No action\n",
    "    # MoSold -> No missing values -> No action\n",
    "    # YrSold -> No missing values -> No action\n",
    "\n",
    "    # SaleType -> Use mode\n",
    "    df[\"SaleType\"] = df[\"SaleType\"].fillna(df[\"SaleType\"].mode()[0])\n",
    "    # SaleCondition -> No missing values -> No action\n",
    "\n",
    "    return df"
   ]
  },
  {
   "cell_type": "code",
   "execution_count": null,
   "metadata": {},
   "outputs": [],
   "source": [
    "# Impute the data\n",
    "train_ = data_imputation(train)\n",
    "test_ = data_imputation(test)"
   ]
  },
  {
   "cell_type": "code",
   "execution_count": null,
   "metadata": {},
   "outputs": [],
   "source": [
    "# Sanity check\n",
    "_,_ = get_features_type(train_)\n",
    "_,_ = get_features_type(test_)"
   ]
  },
  {
   "cell_type": "code",
   "execution_count": null,
   "metadata": {},
   "outputs": [],
   "source": [
    "# Overwriting our current sets\n",
    "train = train_\n",
    "test = test_"
   ]
  },
  {
   "cell_type": "markdown",
   "metadata": {},
   "source": [
    "- Check again that no missing values are present."
   ]
  },
  {
   "cell_type": "code",
   "execution_count": null,
   "metadata": {
    "cell_style": "split"
   },
   "outputs": [],
   "source": [
    "get_missing_values(train_, 0.0,\n",
    "                   sort_by=\"Feature\")"
   ]
  },
  {
   "cell_type": "code",
   "execution_count": null,
   "metadata": {
    "cell_style": "split",
    "scrolled": true
   },
   "outputs": [],
   "source": [
    "get_missing_values(test_, 0.0,\n",
    "                   sort_by=\"Feature\")"
   ]
  },
  {
   "cell_type": "markdown",
   "metadata": {},
   "source": [
    "# Skewed features"
   ]
  },
  {
   "cell_type": "markdown",
   "metadata": {},
   "source": [
    "- This step step is performed **after* the data imputation. The rationale is the following. If we have to establih how skew a feature is we'd better do so after imputation as the imputation itself may skew the feature later. I guess this is a rare case, but it's just to be on the safe side.\n",
    "- The alternative is to impute before the data imputation step. It did not seem right to me, but I have not tried it here, so my approach my be plain wrong.\n"
   ]
  },
  {
   "attachments": {
    "image.png": {
     "image/png": "[encoded data removed]"
    }
   },
   "cell_type": "markdown",
   "metadata": {},
   "source": [
    "![image.png](attachment:image.png)"
   ]
  },
  {
   "cell_type": "markdown",
   "metadata": {},
   "source": [
    "- **WARNING** How robust are these data when there are a lot of zeros?\n",
    "- In this example, using the classical skew and kurtois may leas to some surprising results. Such as, data being declared normal when they do not like that.\n",
    "- What I've done here was to manually remove the zero so \"force\" to make it work. This is by no-means a scientific approach and I'd like to know what other approach others have used.\n",
    "- References:\n",
    "    - https://stats.stackexchange.com/questions/540712/if-i-have-data-that-appears-normally-distributed-but-it-contains-a-lot-of-zeros\n",
    "    - https://www.researchgate.net/publication/314032599_TO_DETERMINE_SKEWNESS_MEAN_AND_DEVIATION_WITH_A_NEW_APPROACH_ON_CONTINUOUS_DATA\n",
    "    - https://www.researchgate.net/post/How-can-I-analyze-variables-with-several-zeros"
   ]
  },
  {
   "cell_type": "code",
   "execution_count": null,
   "metadata": {
    "code_folding": [
     0
    ]
   },
   "outputs": [],
   "source": [
    "def test_set_for_normality(df, order_by=\"numerical_feature\"):\n",
    "    \"\"\"Test det for normality.\n",
    "    \n",
    "    Check if a distribution is normal via Shapiro test. \n",
    "    In practice the shapiro-p value is reported but not used\n",
    "    because it is badly affected if the sample are too large!\n",
    "    We'll use the kurtois and skew factors to establish if it is\n",
    "    normal or not\n",
    "          \n",
    "    Parameters\n",
    "    ----------\n",
    "    df : pandas dataframe    \n",
    "    order_by : string, default=\"numerical_feature\"\n",
    "        Name of the feature used to order the entries\n",
    "    \n",
    "    Returns\n",
    "    -------\n",
    "    df - pandas dataframe\n",
    "    \n",
    "    References\n",
    "    ----------\n",
    "    https://www.researchgate.net/post/P-value-equal-to-0000-in-every-test-how-is-it-possible\n",
    "    \"\"\"\n",
    "\n",
    "    numerical_features = df.dtypes[df.dtypes != object].index    \n",
    "    \n",
    "    mu, sigma = [], []\n",
    "    normal_pvalue = []    \n",
    "    normal = []\n",
    "    skew_all = []\n",
    "    kurtois_all = []\n",
    "    for feature in numerical_features:\n",
    "        # Getting rid of all null values. We are using zero as a form of imputation\n",
    "        # but this was not a thought process in the sense that if you do not use it\n",
    "        # throws you an error.\n",
    "        df_clean = df[feature] #.fillna(0.0)\n",
    "        \n",
    "        \"\"\"\n",
    "        Further we removing all value that equal to zeros\n",
    "        \"\"\"\n",
    "        #df_clean = df_clean[df_clean.values != 0]\n",
    "        \n",
    "        \n",
    "        df_clean = df_clean     \n",
    "        #print(feature)\n",
    "        \n",
    "        # Shapiro normality test for TRAIN dataset\n",
    "        shap = stats.shapiro(df_clean)        \n",
    "        normal_pvalue.append(shap.pvalue)\n",
    "        skew = df_clean.skew()\n",
    "        skew_all.append(skew)\n",
    "        kurtois = df_clean.kurt()\n",
    "        kurtois_all.append(kurtois)     \n",
    "        \n",
    "        condition_No1 = skew < 0.5 and skew > -0.5\n",
    "        condition_No2 = kurtois < 2.0 and kurtois > -2.0\n",
    "        # We use or instead of and because the end would be too stringent\n",
    "        if condition_No1 or condition_No2:\n",
    "            normal.append(\"normal\")            \n",
    "        else:\n",
    "            normal.append(\"not_normal\")        \n",
    "\n",
    "    # Create a pandas dataframe\n",
    "    dummy = pd.DataFrame()\n",
    "    dummy[\"numerical_feature\"] =  numerical_features    \n",
    "    dummy[\"type\"] = [\"numerical\" for _ in range(len(numerical_features))]    \n",
    "    dummy[\"shapiro_pvalue\"] = normal_pvalue    \n",
    "    dummy[\"skew\"] = skew_all\n",
    "    dummy[\"kurtois\"] = kurtois_all\n",
    "    dummy[\"normal?\"] = normal\n",
    "\n",
    "    # Decorate the dataframe for quick visualisation\n",
    "    def highlight(x):    \n",
    "        return ['background: yellow' if v == \"different\" or v == \"not_normal\" else '' for v in x]\n",
    "\n",
    "    def bold(x):\n",
    "        return ['font-weight: bold' if v == \"different\" or v == \"not_normal\" else '' for v in x]\n",
    "\n",
    "    dummy.sort_values(by=[order_by], inplace=True, ascending=True)\n",
    "    # Visualise the highlighted df\n",
    "    return dummy.style.apply(highlight).apply(bold)        "
   ]
  },
  {
   "cell_type": "code",
   "execution_count": null,
   "metadata": {
    "cell_style": "split",
    "scrolled": true
   },
   "outputs": [],
   "source": [
    "test_set_for_normality(train, order_by=\"skew\")"
   ]
  },
  {
   "cell_type": "code",
   "execution_count": null,
   "metadata": {
    "cell_style": "split",
    "scrolled": true
   },
   "outputs": [],
   "source": [
    "test_set_for_normality(test, order_by=\"skew\")"
   ]
  },
  {
   "cell_type": "markdown",
   "metadata": {},
   "source": [
    "- We can also try to visualise this with a bar plot.\n",
    "- Please note that we have used a log y-scale to easily compare all the features."
   ]
  },
  {
   "cell_type": "code",
   "execution_count": null,
   "metadata": {
    "code_folding": [
     0
    ],
    "scrolled": false
   },
   "outputs": [],
   "source": [
    "def plot_box_plot(df, num_features):\n",
    "    # Create box plots for all numeric features\n",
    "    f, ax = plt.subplots(figsize=(15, 9))\n",
    "    ax.set_yscale(\"log\")\n",
    "    ax = sns.boxplot(data=df[num_features.columns] , orient=\"v\", palette=\"Set1\")\n",
    "    #ax.xaxis.grid(False)\n",
    "    ax.set(xlabel=\"Feature names\")\n",
    "    ax.set(ylabel=\"Numeric values\")\n",
    "    ax.set(title=\"Numeric Distribution of Features\")\n",
    "    plt.xticks(rotation=90)\n",
    "    sns.despine(trim=True, left=True)"
   ]
  },
  {
   "cell_type": "code",
   "execution_count": null,
   "metadata": {
    "scrolled": true
   },
   "outputs": [],
   "source": [
    "plot_box_plot(train, num_cols_train)"
   ]
  },
  {
   "cell_type": "code",
   "execution_count": null,
   "metadata": {
    "scrolled": true
   },
   "outputs": [],
   "source": [
    "plot_box_plot(test, num_cols_test)"
   ]
  },
  {
   "cell_type": "code",
   "execution_count": null,
   "metadata": {
    "code_folding": [
     0
    ]
   },
   "outputs": [],
   "source": [
    "def get_skewed_features(df):\n",
    "    \"\"\"Test det for normality.\n",
    "    \n",
    "    Check if a distribution is normal via Shapiro test. \n",
    "    In practice the shapiro-p value is reported but not used\n",
    "    because it is badly affected if the sample are too large!\n",
    "    We'll use the kurtois and skew factors to establish if it is\n",
    "    normal or not\n",
    "          \n",
    "    Parameters\n",
    "    ----------\n",
    "    df - pandas dataframe    \n",
    "    \n",
    "    Returns\n",
    "    -------\n",
    "    df - pandas dataframe\n",
    "    \n",
    "    References\n",
    "    ----------\n",
    "    https://www.researchgate.net/post/P-value-equal-to-0000-in-every-test-how-is-it-possible\n",
    "    \"\"\"\n",
    "    \n",
    "    numerical_features, non_numerical_features = get_features_type(df)\n",
    "    numerical_features = numerical_features.columns\n",
    "    \n",
    "    mu, sigma = [], []\n",
    "    normal_pvalue = []    \n",
    "    normal = []\n",
    "    skew_all = []\n",
    "    kurtois_all = []\n",
    "    for feature in numerical_features:\n",
    "        # Getting rid of all null values. We are using zero as a form of imputation\n",
    "        # but this was not a thought process in the sense that if you do not use it\n",
    "        # throws you an error.\n",
    "        df_clean = df[feature].fillna(0.0)        \n",
    "\n",
    "        # Shapiro normality test for TRAIN dataset\n",
    "        shap = stats.shapiro(df_clean)        \n",
    "        normal_pvalue.append(shap.pvalue)\n",
    "        skew = df_clean.skew()\n",
    "        skew_all.append(skew)\n",
    "        kurtois = df_clean.kurt()\n",
    "        kurtois_all.append(kurtois)\n",
    "        condition_No1 = skew < 0.5 and skew > -0.5\n",
    "        condition_No2 = kurtois < 2.0 and kurtois > -2.0\n",
    "        if condition_No1 and condition_No2:\n",
    "            normal.append(\"normal\")            \n",
    "        else:\n",
    "            normal.append(\"not_normal\")        \n",
    "\n",
    "    # Create a pandas dataframe\n",
    "    dummy = pd.DataFrame()\n",
    "    dummy[\"numerical_feature\"] =  numerical_features    \n",
    "    dummy[\"type\"] = [\"numerical\" for _ in range(len(numerical_features))]    \n",
    "    dummy[\"shapiro_pvalue\"] = normal_pvalue    \n",
    "    dummy[\"skew\"] = skew_all\n",
    "    dummy[\"kurtois\"] = kurtois_all\n",
    "    dummy[\"normal?\"] = normal\n",
    "    \n",
    "    skewed_features = dummy[dummy[\"normal?\"] == \"not_normal\"][\"numerical_feature\"].values\n",
    "    print(\"No of skewed features: \", len(skewed_features))\n",
    "    return skewed_features"
   ]
  },
  {
   "cell_type": "code",
   "execution_count": null,
   "metadata": {},
   "outputs": [],
   "source": [
    "skewed_train_features = get_skewed_features(train)\n",
    "skewed_test_features = get_skewed_features(test)"
   ]
  },
  {
   "cell_type": "code",
   "execution_count": null,
   "metadata": {
    "cell_style": "split"
   },
   "outputs": [],
   "source": [
    "skewed_train_features"
   ]
  },
  {
   "cell_type": "code",
   "execution_count": null,
   "metadata": {
    "cell_style": "split"
   },
   "outputs": [],
   "source": [
    "skewed_test_features"
   ]
  },
  {
   "cell_type": "markdown",
   "metadata": {},
   "source": [
    "- Get the uncommon features!\n",
    "- As you can seen there are two feautures that do not share the same distribution. This could have been highlighted also by looking at the normality test done ealier.\n",
    "- Further if had merged the dataset we'd have poised the well by leaking this type of information.\n",
    "- In theory, nobody is stopping you from doing it, but your leaderboard score could be very different from the score achieved on the private board."
   ]
  },
  {
   "cell_type": "code",
   "execution_count": null,
   "metadata": {},
   "outputs": [],
   "source": [
    "print(set(skewed_train_features) - set(skewed_test_features))\n",
    "print(set(skewed_test_features) - set(skewed_train_features))"
   ]
  },
  {
   "cell_type": "markdown",
   "metadata": {},
   "source": [
    "- At this point we have a list of highly skewed features and we need to decide what do with it.\n",
    "    - **Option No1** apply a log transform but that would work only for striclty positive features. In our cases all the skewed feature a positively skewed so we can still use this option.\n",
    "    - **Option No2** apply a BoxCox transform, which can be applied also to negative values."
   ]
  },
  {
   "cell_type": "markdown",
   "metadata": {},
   "source": [
    "- **WARNING**. We created a method to selected all those features that are skewed. However, this method uses kurtossis and skewed factor to  establish if a feature is normally distributed or not. \n",
    "- At this point we can see that feature `TotalBsmtSF` is not been tagged as skewed although it is. The reason for these fealure is due to the fact that there are too many zeros.\n",
    "- In order to take care of this, we'll manually add this and all the other that are not capture."
   ]
  },
  {
   "cell_type": "code",
   "execution_count": null,
   "metadata": {},
   "outputs": [],
   "source": [
    "skewed_train_features = np.append(skewed_train_features, \"TotalBsmtSF\")\n",
    "skewed_train_features"
   ]
  },
  {
   "cell_type": "code",
   "execution_count": null,
   "metadata": {
    "code_folding": [
     0
    ]
   },
   "outputs": [],
   "source": [
    "def log_transform(df, skew_index = [], log_all=\"none\"):\n",
    "    \"\"\"Log transform the data.\n",
    "\n",
    "    Options:\n",
    "    all = log all the numerical features\n",
    "    none = log nothing and returns original dataset\n",
    "    only = only some highly skew data    \n",
    "    \"\"\"\n",
    "    # \"\"\"\n",
    "\n",
    "    import copy\n",
    "    df = copy.deepcopy(df)\n",
    "\n",
    "    \"\"\"\n",
    "    we'd like to applies the transformation in all the value but not those that have zeros.\n",
    "    \"\"\"    \n",
    "\n",
    "    if log_all == \"all\":\n",
    "        numerical_features = df_not_zeros.dtypes[df_not_zeros.dtypes != object].index\n",
    "        for i in numerical_features:\n",
    "            df_not_zeros = df[i][df[i] > 0.0]                \n",
    "            df_not_zeros = np.log1p(df_not_zeros)\n",
    "            df[i][df[i] > 0.0] = df_not_zeros\n",
    "    elif log_all == \"only\":\n",
    "        for i in skew_index:\n",
    "            #print(i)\n",
    "            #print(df[i][df[i] > 0.0])            \n",
    "            df_not_zeros = df[i][df[i] > 0.0]          \n",
    "            df_not_zeros = np.log1p(df_not_zeros)   \n",
    "            df[i][df[i] > 0.0] = df_not_zeros\n",
    "    elif log_all == \"none\":\n",
    "        pass\n",
    "\n",
    "    \n",
    "    return df"
   ]
  },
  {
   "cell_type": "markdown",
   "metadata": {},
   "source": [
    "- We use the scipy function `boxcox1p` which computes the Box-Cox transformation of 1+x.\n",
    "- `λ` is the power parameter. **Note that** setting `λ=0` is equivalent to log1p used above for the target variable. - [reference](https://onlinestatbook.com/2/transformations/box-cox.html).\n",
    "- How do we chose the optimal value of lambda? \n",
    "    - Use `scipy.stats.boxcox()` which will return the Box-Cox transformed array and the optimal value for lambda \n",
    "    [link](https://www.kaggle.com/serigne/stacked-regressions-top-4-on-leaderboard/notebook).\n",
    "    - Use `scipy.stats.boxcox_normmax` which compute optimal Box-Cox transform parameter for input data. [link](https://docs.scipy.org/doc/scipy/reference/generated/scipy.stats.boxcox_normmax.html)\n"
   ]
  },
  {
   "cell_type": "code",
   "execution_count": null,
   "metadata": {
    "code_folding": [
     0
    ]
   },
   "outputs": [],
   "source": [
    "def box_cox_transform(df, skew_index, log_all = \"none\"):\n",
    "    \"\"\"Log transform the data.\n",
    "    \n",
    "    Options:\n",
    "    all = log all the numerical features\n",
    "    none = log nothing and returns original dataset\n",
    "    only = only some highly skew data\n",
    "    \"\"\"\n",
    "    #\"\"\"\n",
    "    import copy\n",
    "    df= copy.deepcopy(df)\n",
    "    \n",
    "    if log_all == \"all\":\n",
    "        numerical_features = df.dtypes[df.dtypes != object].index         \n",
    "        for i in numerical_features:                \n",
    "            df[i] = boxcox1p(df[i], boxcox_normmax(df[i] + 1))\n",
    "    elif log_all == \"only\":\n",
    "        for i in skew_index:            \n",
    "            #df[i] = np.lg1p(df[i])\n",
    "            df[i] = boxcox1p(df[i], boxcox_normmax(df[i] + 1))\n",
    "    elif log_all == \"none\":\n",
    "        pass\n",
    "\n",
    "    return df"
   ]
  },
  {
   "cell_type": "markdown",
   "metadata": {},
   "source": [
    "- We'll start with the log-transform and see how it worked.\n",
    "- You can see that for some features, even though the skew and kurtois values were changed, this was not enough to nromalise the feature.\n",
    "- Can the BoxCox do better? As you can see from the analysis below there are cases where one is better than the other and probably the best way to proceed, would be to test different method in a loop and check how close the get to the normal distribution.\n",
    "- In this case, we'll lazily chose method 1: log transform."
   ]
  },
  {
   "cell_type": "code",
   "execution_count": null,
   "metadata": {
    "scrolled": true
   },
   "outputs": [],
   "source": [
    "# Normalise high feature that have a high skew factor using log_transformation\n",
    "TRAIN_1 = log_transform(train, skewed_train_features, log_all=\"only\")\n",
    "TEST_1 = log_transform(test, skewed_test_features, log_all=\"only\")"
   ]
  },
  {
   "cell_type": "code",
   "execution_count": null,
   "metadata": {},
   "outputs": [],
   "source": [
    "# Normalise high feature that have a high skew factor using box_cox_transformation\n",
    "TRAIN_2 = box_cox_transform(train, skewed_train_features, log_all=\"only\")\n",
    "TEST_2 = box_cox_transform(test, skewed_test_features, log_all=\"only\")"
   ]
  },
  {
   "cell_type": "code",
   "execution_count": null,
   "metadata": {
    "cell_style": "split",
    "scrolled": true
   },
   "outputs": [],
   "source": [
    "test_set_for_normality(train)"
   ]
  },
  {
   "cell_type": "code",
   "execution_count": null,
   "metadata": {
    "cell_style": "split",
    "scrolled": true
   },
   "outputs": [],
   "source": [
    "test_set_for_normality(TRAIN_1)"
   ]
  },
  {
   "cell_type": "code",
   "execution_count": null,
   "metadata": {
    "cell_style": "split",
    "scrolled": true
   },
   "outputs": [],
   "source": [
    "test_set_for_normality(TEST_1)"
   ]
  },
  {
   "cell_type": "code",
   "execution_count": null,
   "metadata": {
    "cell_style": "split",
    "scrolled": true
   },
   "outputs": [],
   "source": [
    "test_set_for_normality(TEST_2)"
   ]
  },
  {
   "cell_type": "markdown",
   "metadata": {},
   "source": [
    "- This comparison show that box-cox transform is **better** than the log tranform.\n",
    "- Let us now visualise some of the feature that were transformed."
   ]
  },
  {
   "cell_type": "code",
   "execution_count": null,
   "metadata": {},
   "outputs": [],
   "source": [
    "skewed_train_features"
   ]
  },
  {
   "cell_type": "markdown",
   "metadata": {},
   "source": [
    "- We'll now simply verify that the traansformation has worked.\n",
    "- Has you can see if we filtered out the zero value the distribution looks normal (or at least an improvement).\n",
    "- We'll first compare features manually then we'll do the same in a loop for all features and both methods."
   ]
  },
  {
   "cell_type": "code",
   "execution_count": null,
   "metadata": {
    "code_folding": [
     0
    ]
   },
   "outputs": [],
   "source": [
    "def compare_QQ_kde(distr1, distr2):\n",
    "    \"\"\"Compare QQ and DKE plot.\n",
    "\n",
    "    Parameters\n",
    "    ----------\n",
    "    distr1 : pandas.core.series.Series\n",
    "    distr2 : pandas.core.series.Series\n",
    "\n",
    "    Returns\n",
    "    -------\n",
    "    None\n",
    "    \"\"\"\n",
    "    \n",
    "    #distr1 = [i[0] for i in distr1]\n",
    "    #distr2 = [i[0] for i in distr2]\n",
    "\n",
    "    fig, ax = plt.subplots(2, 2, figsize=(15, 5))\n",
    "    fig.suptitle(\" qq-plot & distribution: original vs. log-transform \", fontsize=15)\n",
    "\n",
    "    # SalePrice BEFORE transformation\n",
    "    #sm.qqplot(distr1, stats.t, distargs=(4,), fit=True, line=\"45\", ax=ax[0, 0])\n",
    "    stats.probplot(distr1, plot=ax[0, 0])\n",
    "    sns.distplot(distr1, kde=True, hist=True, fit=norm, ax=ax[0, 1])\n",
    "    \n",
    "\n",
    "    # SalePrice AFTER transformation\n",
    "    #sm.qqplot(distr2, stats.t, distargs=(4,), fit=True, line=\"45\", ax=ax[1, 0])\n",
    "    stats.probplot(distr2, plot=ax[1, 0])\n",
    "    sns.distplot(distr2, kde=True, hist=True, fit=norm, ax=ax[1, 1])\n",
    "    plt.show()"
   ]
  },
  {
   "cell_type": "code",
   "execution_count": null,
   "metadata": {},
   "outputs": [],
   "source": [
    "compare_QQ_kde(train['TotalBsmtSF'], TRAIN_1['TotalBsmtSF'][TRAIN_1['TotalBsmtSF']>0.0])"
   ]
  },
  {
   "cell_type": "code",
   "execution_count": null,
   "metadata": {},
   "outputs": [],
   "source": [
    "compare_QQ_kde(train['TotalBsmtSF'], TRAIN_2['TotalBsmtSF'][TRAIN_2['TotalBsmtSF']>0.0])"
   ]
  },
  {
   "cell_type": "code",
   "execution_count": null,
   "metadata": {},
   "outputs": [],
   "source": [
    "compare_QQ_kde(TRAIN_1['PoolArea'], TRAIN_2['PoolArea'])"
   ]
  },
  {
   "cell_type": "code",
   "execution_count": null,
   "metadata": {
    "cell_style": "split"
   },
   "outputs": [],
   "source": [
    "train[\"GarageYrBlt\"]"
   ]
  },
  {
   "cell_type": "code",
   "execution_count": null,
   "metadata": {
    "cell_style": "split"
   },
   "outputs": [],
   "source": [
    "TRAIN_2['GarageYrBlt']"
   ]
  },
  {
   "cell_type": "code",
   "execution_count": null,
   "metadata": {},
   "outputs": [],
   "source": [
    "compare_QQ_kde(TRAIN_1['GarageYrBlt'], TRAIN_2['GarageYrBlt'])"
   ]
  },
  {
   "cell_type": "markdown",
   "metadata": {},
   "source": [
    "- In the cell below we just want to plot all the feature that were transformed.\n",
    "- We do this in a loop for both the log-transform and the Box-Cox one where:\n",
    "    - `TRAIN_1` corresponds to the log transform\n",
    "    - `TRAIN_2`corresponds to the Box-Cox transform\n",
    "- This allows us to see the differences between the two options."
   ]
  },
  {
   "cell_type": "code",
   "execution_count": null,
   "metadata": {
    "scrolled": true
   },
   "outputs": [],
   "source": [
    "for temp in skewed_train_features:\n",
    "    print(\"*************\")\n",
    "    print(temp)\n",
    "    print(\"*************\")\n",
    "    compare_QQ_kde(train[temp], TRAIN_1[temp])"
   ]
  },
  {
   "cell_type": "code",
   "execution_count": null,
   "metadata": {
    "scrolled": true
   },
   "outputs": [],
   "source": [
    "for temp in skewed_train_features:\n",
    "    print(\"*************\")\n",
    "    print(temp)\n",
    "    print(\"*************\")    \n",
    "    try: \n",
    "        compare_QQ_kde(train[temp], TRAIN_2[temp])\n",
    "    except:\n",
    "        print(\"Could plot this feature:\", temp)\n",
    "        pass"
   ]
  },
  {
   "cell_type": "markdown",
   "metadata": {},
   "source": [
    "- As we can see there are some difference between the two trasnformation.\n",
    "- We'll use the Box-Cox transform instead of the log because it is just more flexible and robust.\n",
    "- For some reason the Box-Cox transform failed on `GarageYrBlt`, see for yourself on `TRAIN_2['GarageYrBlt']` and pay attention to the scale!"
   ]
  },
  {
   "cell_type": "code",
   "execution_count": null,
   "metadata": {},
   "outputs": [],
   "source": [
    "train = TRAIN_1\n",
    "test = TEST_1"
   ]
  },
  {
   "cell_type": "code",
   "execution_count": null,
   "metadata": {
    "scrolled": true
   },
   "outputs": [],
   "source": [
    "plot_box_plot(train, num_cols_train)"
   ]
  },
  {
   "cell_type": "code",
   "execution_count": null,
   "metadata": {
    "scrolled": true
   },
   "outputs": [],
   "source": [
    "plot_box_plot(test, num_cols_test)"
   ]
  },
  {
   "cell_type": "code",
   "execution_count": null,
   "metadata": {},
   "outputs": [],
   "source": [
    "# Routine check on the dimensions\n",
    "_,_ = get_features_type(train)\n",
    "_,_ = get_features_type(test)"
   ]
  },
  {
   "cell_type": "code",
   "execution_count": null,
   "metadata": {
    "scrolled": true
   },
   "outputs": [],
   "source": [
    "compare_distribution_sets_on_numerical_columns(train, test)"
   ]
  },
  {
   "cell_type": "code",
   "execution_count": null,
   "metadata": {},
   "outputs": [],
   "source": [
    "skewed_train_features"
   ]
  },
  {
   "cell_type": "markdown",
   "metadata": {},
   "source": [
    "## A note on homoscedasticity"
   ]
  },
  {
   "cell_type": "markdown",
   "metadata": {},
   "source": [
    "- The best approach to test **homoscedasticity** for two metric variables is graphically. Departures from an equal dispersion are shown by such shapes as cones (small dispersion at one side of the graph, large dispersion at the opposite side) or diamonds (a large number of points at the center of the distribution).\n",
    "- Older versions of this scatter plot (previous to log transformations), had a conic shape see. As you can see, the current scatter plot doesn't have a conic shape anymore. That's the power of normality! Just by ensuring normality in some variables, we solved the homoscedasticity problem.\n"
   ]
  },
  {
   "cell_type": "code",
   "execution_count": null,
   "metadata": {},
   "outputs": [],
   "source": [
    "fig = plt.figure()\n",
    "ax = fig.add_subplot(111)\n",
    "plt.scatter(train['GrLivArea'], train['SalePrice'])\n",
    "ax.set_xlabel(\"GrLivArea\")\n",
    "ax.set_ylabel(\"SalePrice\")"
   ]
  },
  {
   "cell_type": "markdown",
   "metadata": {},
   "source": [
    "- In here the only thing we have to keep in mind is our discussion about the zero entries, before the log transform."
   ]
  },
  {
   "cell_type": "code",
   "execution_count": null,
   "metadata": {},
   "outputs": [],
   "source": [
    "fig = plt.figure()\n",
    "ax = fig.add_subplot(111)\n",
    "plt.scatter(train['TotalBsmtSF'][train[\"TotalBsmtSF\"] > 0],\n",
    "            train['SalePrice'][train[\"TotalBsmtSF\"] > 0])\n",
    "ax.set_xlabel(\"GrLivArea\")\n",
    "ax.set_ylabel(\"SalePrice\")"
   ]
  },
  {
   "cell_type": "markdown",
   "metadata": {},
   "source": [
    "# Feature engineering"
   ]
  },
  {
   "cell_type": "markdown",
   "metadata": {},
   "source": [
    "- This step can be done before feature selection or after.\n",
    "- At the end of the day, like any other things in data science, it is done in a loop. Pretty much on a trias and erros basis.\n",
    "- After we add this feature, we'll then look at the correlation to double check if what we add is indeed correlated with the output.\n",
    "- One of the thing we need to establish is whether to use the column as a categorical or numerical one. Generally the challenge is establishing if a numerical must be used as a categorical or not. When a variable is a string the choice is pretty straighforward. The graph reported below can help us in this analys (taken from Stevens, Eli, Luca Antiga, and Thomas Viehmann. Deep learning with PyTorch. Manning Publications Company, 2020)"
   ]
  },
  {
   "attachments": {
    "image.png": {
     "image/png": "[encoded data removed]"
    }
   },
   "cell_type": "markdown",
   "metadata": {},
   "source": [
    "![image.png](attachment:image.png)"
   ]
  },
  {
   "cell_type": "markdown",
   "metadata": {},
   "source": [
    "- A note on the efficieny of this method.\n",
    "- Once may be wondering why I have not grouped certain action together in order to reduce the amount of code.\n",
    "- The reason for this is that this was built step-by-step along with method `Features analysis`. After each feature was analysed, I would come here under `fearures_engineering` method and add the corresponding code."
   ]
  },
  {
   "cell_type": "markdown",
   "metadata": {},
   "source": [
    "- **Can we be sure that each numerical candidate is indeed a numerical feature?** A feature that measures the area is a numerical feature but what about MSSubClass? It holds different groups as is not numerical but rather categorical. A first attempt to crate flag capable of warning us of this could be to assume that if a feaure is relly a numerical features then should have various different values and not only a few. Essentially we could check for the cardinality?\n",
    "- Features that count the number of rooms. This seems to be more categorical as you can't have 3.245 bedrooms for example. The same holds for the number of fireplaces and garage cars.\n",
    "- Features like OverallCond and OverallQual can be considered as groups and are categorical variables with a natural kind of order (ordinal features).\n",
    "- Every feature with SF or area can be considered as numerical.\n",
    "- I think that we should treat temporal features like YrSold as categorical.\n",
    "\n",
    "- Credit to this [reference](https://www.kaggle.com/allunia/house-prices-tutorial-with-catboost)"
   ]
  },
  {
   "cell_type": "code",
   "execution_count": null,
   "metadata": {},
   "outputs": [],
   "source": [
    "train[\"GarageYrBlt\"]"
   ]
  },
  {
   "cell_type": "code",
   "execution_count": null,
   "metadata": {
    "code_folding": [
     0
    ]
   },
   "outputs": [],
   "source": [
    "def features_engineering(df, how=\"None\"):\n",
    "    \"\"\"Feature engineering.\n",
    "\n",
    "    This is the method feaure are either addded, removed\n",
    "    or transformed accordingly to some criteria defined\n",
    "    by the data scientist. To facilate the reading I have\n",
    "    kept the order as it the one in the data_description.txt\n",
    "    file.\n",
    "\n",
    "    Paramaters\n",
    "    ----------\n",
    "    df : pandas dataframe\n",
    "        This is the original dataframe.\n",
    "    how : string\n",
    "        basics : this perform the basics feature engineering\n",
    "        other : define on a custom base\n",
    "\n",
    "    ReturnsExte\n",
    "    -------\n",
    "    df : pandas dataframe\n",
    "        A modified version of the original df after some changes\n",
    "        as detailed below.\n",
    "    \"\"\"\n",
    "\n",
    "    print(\"Feature engineering\")\n",
    "    print(\"Shape BEFORE\", df.shape)\n",
    "    print(\"\\n\")\n",
    "    df = copy.deepcopy(df)\n",
    "    \n",
    "    cat_feature = []\n",
    "\n",
    "    # MSSubClass\n",
    "    cat_feature.append(\"MSSubClass\")\n",
    "    # ************************************************************************\n",
    "    \"\"\"\n",
    "    Numeric -> from float to string -> treated as categorical.\n",
    "    We have done this step earlier under section \"Minimal amount\n",
    "    of feature engineering\".\n",
    "    Please note that train and test do not have the same entries, in parituclar\n",
    "    the test set has an additional entry (150) not present in the TRAIN set. So,\n",
    "    if we had merged the dataset we'd have leaked this info into the TRAIN set.\n",
    "    The painstaking job we did on Step_#2 pay off by warning us of this possibility.\n",
    "    However, this is a competition and yes we are going to leak this info, but at \n",
    "    least we are aware of this.    \n",
    "    \n",
    "    AT IMPORTAMT obeservation: by adding 150 into our encoding, we are adding\n",
    "    an extra column, however, since train and test are still split we are not\n",
    "    adding a 1 so the TRAIN set is still not seeing 150! Does this account to\n",
    "    data leakage? I am still not sure about the answer!\n",
    "    \"\"\"\n",
    "\n",
    "    categories = ['160', '70', '40', '75', '190', '45', '80',\n",
    "                  '50', '20', '85', '180', '150', '120', '90', '60', '30']\n",
    "    onehot_encoder = OneHotEncoder(\n",
    "        handle_unknown=\"error\", sparse=False, categories=[categories])  # .reshape(-1,1))\n",
    "\n",
    "    onehot_encoder.fit(df[\"MSSubClass\"].values.reshape(-1, 1))\n",
    "\n",
    "    df[\"MSSubClass\"] = onehot_encoder.transform(\n",
    "        df[\"MSSubClass\"].values.reshape(-1, 1))\n",
    "\n",
    "    #df = pd.get_dummies(df, columns=[\"MSSubClass\"], prefix=\"MSSubClass\")\n",
    "\n",
    "    dummy = \"MSSubClass\"\n",
    "    print(\"Feature: ->\", dummy, \"<-\")\n",
    "    print(\"Values: \", set(df.filter(regex='^'+dummy).values.flatten()))\n",
    "    print(\"No of additional features: \", len(\n",
    "        df.filter(regex='^'+dummy).columns))\n",
    "    \n",
    "    \"\"\"\n",
    "    This would have been the code if we had decided to use\n",
    "    label encoding\n",
    "    lbl = LabelEncoder()\n",
    "    lbl.fit(list(df[\"MSSubClass\"].values))\n",
    "    df[\"MSSubClass\"] = lbl.transform(list(df[\"MSSubClass\"].values))\n",
    "    \"\"\"\n",
    "\n",
    "    # MSZoning\n",
    "    cat_feature.append(\"MSZoning\")\n",
    "    # ************************************************************************\n",
    "    \"\"\"\n",
    "    Use one-hot encoding\n",
    "    \"\"\"\n",
    "    df = pd.get_dummies(df, columns=[\"MSZoning\"], prefix=\"MSZoning\")\n",
    "    dummy = \"MSZoning\"\n",
    "    print(\"Feature: ->\", dummy, \"<-\")\n",
    "    print(\"Values: \", set(df.filter(regex='^'+dummy).values.flatten()))\n",
    "    print(\"No of additional features: \", len(\n",
    "        df.filter(regex='^'+dummy).columns))\n",
    "\n",
    "    \"\"\"\n",
    "    This is the code snippet, had we wanted ordinal label encoding\n",
    "    Also note that not all the entries reported in the description are\n",
    "    used because there were no instances.\n",
    "    MSZoning_map = {'FV':1, 'RL':2, 'RM':3, 'RH':4, 'C (all)':5}\n",
    "    df['MSZoning'].replace(MSZoning_map, inplace=True)\n",
    "    \"\"\"\n",
    "\n",
    "    # LotFrontage -> no action but read the comments\n",
    "    # ************************************************************************\n",
    "    \"\"\"\n",
    "    We are going to create an additional feature where we binnerise\n",
    "    the feature into xx categories. Further we drop the original\n",
    "    feature in order to avoid dealing with two highly correlated\n",
    "    features.\n",
    "    print(\"Adding feature: LotFrontage_bin\")\n",
    "    def LotFrontage_binneriser(cat):\n",
    "        cat = float(cat)\n",
    "        if cat <= 50:\n",
    "            return 1\n",
    "        elif cat <= 100 and cat > 50:\n",
    "            return 2\n",
    "        elif cat <= 150 and cat > 100:\n",
    "            return 3\n",
    "        return 4\n",
    "    df['LotFrontage_bin'] = df['LotFrontage'].apply(LotFrontage_binneriser)\n",
    "    df.drop(columns=['LotFrontage'], inplace=True)\n",
    "    \"\"\"\n",
    "\n",
    "    # LotArea\n",
    "    # ************************************************************************\n",
    "    \"\"\"\n",
    "    We are not changing this feature, however, we'll still\n",
    "    provided other options created by other kagglers\n",
    "\n",
    "    # OPTION #1\n",
    "    def LotArea_binneriser(cat):\n",
    "        cat = float(cat)\n",
    "        if cat <= 5000:\n",
    "            return 1\n",
    "        elif cat <= 10000 and cat > 5000:\n",
    "            return 2\n",
    "        elif cat <= 15000 and cat > 10000:\n",
    "            return 3\n",
    "        elif cat <= 20000 and cat > 15000:\n",
    "            return 4\n",
    "        elif cat <= 25000 and cat > 20000:\n",
    "            return 5\n",
    "        return 6\n",
    "    df['LotArea_bin'] = df['LotArea'].apply(LotArea_binneriser)\n",
    "    df.drop(columns=['LotArea'], inplace=True)\n",
    "\n",
    "    # OPTION #1\n",
    "    # Get the quantile extrema first\n",
    "    df['LotArea_Band'] = pd.qcut(df['LotArea'], 8)\n",
    "    df['LotArea_Band'].unique()\n",
    "\n",
    "    # Apply the quantile\n",
    "    df.loc[df['LotArea']<=5684.75, 'LotArea'] = 1\n",
    "    df.loc[(df['LotArea']>5684.75) & (df['LotArea']<=7474), 'LotArea'] = 2\n",
    "    df.loc[(df['LotArea']>7474) & (df['LotArea']<=8520), 'LotArea'] = 3\n",
    "    df.loc[(df['LotArea']>8520) & (df['LotArea']<=9450), 'LotArea'] = 4\n",
    "    df.loc[(df['LotArea']>9450) & (df['LotArea']<=10355.25), 'LotArea'] = 5\n",
    "    df.loc[(df['LotArea']>10355.25) & (df['LotArea']<=11554.25), 'LotArea'] = 6\n",
    "    df.loc[(df['LotArea']>11554.25) & (df['LotArea']<=13613), 'LotArea'] = 7\n",
    "    df.loc[df['LotArea']>13613, 'LotArea'] = 8\n",
    "    df['LotArea'] = df['LotArea'].astype(int)\n",
    "\n",
    "    # Drop the dummy/temp feature\n",
    "    df.drop('LotArea_Band', axis=1, inplace=True)\n",
    "\n",
    "    # Drop the original feature as it has been changed by bines\n",
    "    df = pd.get_dummies(df, columns = [\"LotArea\"], prefix=\"LotArea\")\n",
    "    \"\"\"\n",
    "\n",
    "    # Street\n",
    "    cat_feature.append(\"Street\")\n",
    "    # ************************************************************************\n",
    "    \"\"\"\n",
    "    Use Ordinal encoder where Paved is better than Grvl\n",
    "\n",
    "    Similarly, one can also argue that there is not enough data for the \"Grvl\"\n",
    "    making this feature useless. Another, option would be to create a isPaved\n",
    "    feature which essentially will create two bin, has it and hasn't it! What\n",
    "    I'd like to use here is ordinal encoding as having a paved street type seems\n",
    "    to lead to higher sale price.\n",
    "    \"\"\"\n",
    "\n",
    "    map_ = {'Pave': 1, 'Grvl': 0}\n",
    "    df['Street'].replace(map_, inplace=True)\n",
    "\n",
    "    dummy = \"Street\"\n",
    "    print(\"Feature: ->\", dummy, \"<-\")\n",
    "    print(\"Values: \", set(df.filter(regex='^'+dummy).values.flatten()))\n",
    "    print(\"No of additional features: \", len(\n",
    "        df.filter(regex='^'+dummy).columns))\n",
    "\n",
    "    \"\"\"\n",
    "    This is another code snippet to achieve exactly what we\n",
    "    did above\n",
    "    values_temp = [[\"Grvl\", \"Pave\"]]\n",
    "    ord_en = OrdinalEncoder(categories=values_temp)\n",
    "    ord_en.fit(df[\"Street\"].values.reshape(-1, 1))\n",
    "    df[\"Street\"] = ord_en.transform(df[\"Street\"].values.reshape(-1, 1))\n",
    "    \"\"\"\n",
    "\n",
    "    # Alley\n",
    "    cat_feature.append(\"Alley\")\n",
    "    # ************************************************************************\n",
    "    \"\"\"\n",
    "    Use Label Encoding and not one-hot-encoding to preserve\n",
    "    the information in their ordering set. In this case I have\n",
    "    made the hypothesis that not having an alley is actually the worst.\n",
    "    Remember that we have use NA for the missing value.\n",
    "    \"\"\"\n",
    "\n",
    "    map_ = {'Pave': 2, 'Grvl': 1, 'NA': 0}\n",
    "    df['Alley'].replace(map_, inplace=True)\n",
    "    dummy = \"Alley\"\n",
    "    print(\"Feature: ->\", dummy, \"<-\")\n",
    "    print(\"Values: \", set(df.filter(regex='^'+dummy).values.flatten()))\n",
    "    print(\"No of additional features: \", len(\n",
    "        df.filter(regex='^'+dummy).columns))\n",
    "\n",
    "    \"\"\"\n",
    "    Another similar way to achieve the same result\n",
    "    values_temp = [[\"NA\", \"Grvl\", \"Pave\"]]\n",
    "    ord_en = OrdinalEncoder(categories=values_temp)\n",
    "    ord_en.fit(df[\"Alley\"].values.reshape(-1, 1))\n",
    "    df[\"Alley\"] = ord_en.transform(df[\"Alley\"].values.reshape(-1, 1))\n",
    "    \"\"\"\n",
    "\n",
    "    # LotShape\n",
    "    cat_feature.append(\"LotShape\")\n",
    "    # ************************************************************************\n",
    "    \"\"\"\n",
    "    Use one-hot encoding as we were not sure if there was an order\n",
    "    in the label.\n",
    "    \"\"\"\n",
    "    df = pd.get_dummies(df, columns=[\"LotShape\"], prefix=\"LotShape\")\n",
    "    dummy = \"LotShape\"\n",
    "    print(\"Feature: ->\", dummy, \"<-\")\n",
    "    print(\"Values: \", set(df.filter(regex='^'+dummy).values.flatten()))\n",
    "    print(\"No of additional features: \", len(\n",
    "        df.filter(regex='^'+dummy).columns))\n",
    "    \"\"\"\n",
    "    This is the code snippet if we wanted to use ordinal encoding\n",
    "    instead\n",
    "    map_ = {'Reg':3, 'IR1':2, 'IR2':1, 'IR3':0}\n",
    "    df['LotShape'].replace(map_, inplace=True)\n",
    "    \"\"\"\n",
    "\n",
    "    # LandContour\n",
    "    cat_feature.append(\"LandContour\")\n",
    "    # ************************************************************************\n",
    "    \"\"\"\n",
    "    Use one-hot encoding as we were not sure if there was an order\n",
    "    in the label.\n",
    "    \"\"\"\n",
    "    df = pd.get_dummies(df, columns=[\"LandContour\"], prefix=\"LandContour\")\n",
    "    dummy = \"LandContour\"\n",
    "    print(\"Feature: ->\", dummy, \"<-\")\n",
    "    print(\"Values: \", set(df.filter(regex='^'+dummy).values.flatten()))\n",
    "    print(\"No of additional features: \", len(\n",
    "        df.filter(regex='^'+dummy).columns))\n",
    "\n",
    "    \"\"\"\n",
    "    This is the code snippet if we wanted to use ordinal encoding\n",
    "    instead\n",
    "    map_ = {'Lvl':3, 'Bnk':2, 'HLS':1, 'Low':0}\n",
    "    df['LandContour'].replace(map_, inplace=True)\n",
    "    \"\"\"\n",
    "\n",
    "    # Utilities\n",
    "    cat_feature.append(\"Utilities\")\n",
    "    # ************************************************************************\n",
    "    \"\"\"\n",
    "    A more elaborated feature would to consider a flag hasAllPub with Yes and\n",
    "    No and the hot-encode that feature. I feel this is the most robust option we have.\n",
    "    Again we can still rely on feature importance to exclude this option is deemed\n",
    "    not useuful. We'll dropp the original feature as well to avoid having two features\n",
    "    highly correlated.\n",
    "    \"\"\"\n",
    "    map_ = {\"AllPub\": \"True\", \"NoSewr\": \"False\",\n",
    "            \"NoSeWa\": \"False\", \"ELO\": \"False\"}\n",
    "    df[\"hasAllPub\"] = df['Utilities'].replace(map_)\n",
    "\n",
    "    df = pd.get_dummies(df, columns=[\"hasAllPub\"], prefix=\"hasAllPub\")\n",
    "    df = df.drop(['Utilities'], axis=1)\n",
    "\n",
    "    dummy = \"hasAllPub\"\n",
    "    print(\"Feature: ->\", dummy, \"<-\")\n",
    "    print(\"Values: \", set(df.filter(regex='^'+dummy).values.flatten()))\n",
    "    print(\"No of additional features: \", len(\n",
    "        df.filter(regex='^'+dummy).columns))\n",
    "\n",
    "    \"\"\"\n",
    "    If we had wanted to use ordinal encoder we could have use this\n",
    "    code snippet\n",
    "    map_ = {\"AllPub\": 3, \"NoSewr\": 2, \"NoSeWa\":1, \"ELO\": 0}\n",
    "    df['Utilities'].replace(map_, inplace=True)\n",
    "    \"\"\"\n",
    "\n",
    "    # LotConfig\n",
    "    cat_feature.append(\"LotConfig\")\n",
    "    # ************************************************************************\n",
    "    \"\"\"\n",
    "    I could not come up with a robust way to order the label, thus I rely on\n",
    "    the one-hot encoding for lack of valid alternatives.\n",
    "    \"\"\"\n",
    "    df = pd.get_dummies(df, columns=[\"LotConfig\"], prefix=\"LotConfig\")\n",
    "\n",
    "    dummy = \"LotConfig\"\n",
    "    print(\"Feature: ->\", dummy, \"<-\")\n",
    "    print(\"Values: \", set(df.filter(regex='^'+dummy).values.flatten()))\n",
    "    print(\"No of additional features: \", len(\n",
    "        df.filter(regex='^'+dummy).columns))\n",
    "\n",
    "    \"\"\"\n",
    "    Ordinal categorical variable\n",
    "    values_temp = [['FR3', 'FR2', 'CulDSac', 'Corner', \"Inside\"]]\n",
    "    ord_en = OrdinalEncoder(categories=values_temp)\n",
    "    ord_en.fit(df[\"LotConfig\"].values.reshape(-1, 1))\n",
    "    df[\"LotConfig\"] = ord_en.transform(\n",
    "        df[\"LotConfig\"].values.reshape(-1, 1))\n",
    "    \"\"\"\n",
    "\n",
    "    # LandSlope\n",
    "    cat_feature.append(\"hasGtlSlope\")\n",
    "    # ************************************************************************\n",
    "    \"\"\"\n",
    "    We are going to create a new feature and drop LandSlope\n",
    "    \"\"\"\n",
    "\n",
    "    def hasGtlSlope(col):\n",
    "        if col['LandSlope'] == \"Gtl\":\n",
    "            return \"True\"\n",
    "        else:\n",
    "            return \"False\"\n",
    "\n",
    "    df['hasGtlSlope'] = df.apply(hasGtlSlope, axis=1)\n",
    "    df = pd.get_dummies(df, columns=[\"hasGtlSlope\"], prefix=\"hasGtlSlope\")\n",
    "\n",
    "    df.drop('LandSlope', axis=1, inplace=True)\n",
    "\n",
    "    dummy = \"hasGtlSlope\"\n",
    "    print(\"Feature: ->\", dummy, \"<-\")\n",
    "    print(\"Values: \", set(df.filter(regex='^'+dummy).values.flatten()))\n",
    "    print(\"No of additional features: \", len(\n",
    "        df.filter(regex='^'+dummy).columns))\n",
    "\n",
    "    \"\"\"\n",
    "    This is the snippet if we wanted to use ordinal encoder\n",
    "    map_ = {\"Gtl\": 2, \"Mod\": 1, \"Sev\": 0}\n",
    "    df['LandSlope'].replace(map_, inplace=True)\n",
    "    \"\"\"\n",
    "\n",
    "    # Neighborhood\n",
    "    cat_feature.append(\"Neighborhood\")\n",
    "    # ************************************************************************\n",
    "    \"\"\"\n",
    "    There is no particular order in the label. We could try to order the feature\n",
    "    but will be bias\n",
    "    \"\"\"\n",
    "    df = pd.get_dummies(df, columns=[\"Neighborhood\"], prefix=\"Neighborhood\")\n",
    "\n",
    "    dummy = \"Neighborhood\"\n",
    "    print(\"Feature: ->\", dummy, \"<-\")\n",
    "    print(\"Values: \", set(df.filter(regex='^'+dummy).values.flatten()))\n",
    "    print(\"No of additional features: \", len(\n",
    "        df.filter(regex='^'+dummy).columns))\n",
    "\n",
    "    \"\"\"\n",
    "    This is the code snippet for lavel encodor. It is not suggested in this case\n",
    "    I am reporting here just for completion.\n",
    "\n",
    "    lbl=LabelEncoder()\n",
    "    lbl.fit(list(df[\"Neighborhood\"].values))\n",
    "    df[\"Neighborhood\"]=lbl.transform(list(df[\"Neighborhood\"].values))\n",
    "    \"\"\"\n",
    "\n",
    "    # Condition1 & Condition2\n",
    "    cat_feature.append(\"Condition1\")\n",
    "    # ************************************************************************\n",
    "    \"\"\"\n",
    "    For this feature I am going to cluster (Norm, Street, Pos or Train) the classes based on\n",
    "    the class description.\n",
    "    Then, I will create dummy features via one-hot encoding so they all have the same\n",
    "    weights as we do not have enough information to do otherwise. I will then drop \"Condition2\"\n",
    "    after creating a flag to indicate whether a different condition from the first is present.\n",
    "    \"\"\"\n",
    "    df['Condition1'] = df['Condition1'].map({\"Norm\": \"Norm\", \"Feedr\": \"Street\", \"PosN\": \"Pos\", \"Artery\": \"Street\", \"RRAe\": \"Train\",\n",
    "                                             \"RRNn\": \"Train\", \"RRAn\": \"Train\", \"PosA\": \"Pos\", \"RRNe\": \"Train\"})\n",
    "    df['Condition2'] = df['Condition2'].map({\"Norm\": \"Norm\", \"Feedr\": \"Street\", \"PosN\": \"Pos\", \"Artery\": \"Street\", \"RRAe\": \"Train\",\n",
    "                                             \"RRNn\": \"Train\", \"RRAn\": \"Train\", \"PosA\": \"Pos\", \"RRNe\": \"Train\"})\n",
    "\n",
    "    def ConditionMatch(col):\n",
    "        if col['Condition1'] == col['Condition2']:\n",
    "            return \"Yes\"\n",
    "        else:\n",
    "            return \"No\"\n",
    "\n",
    "    df['Diff2ndCondition_Flag'] = df.apply(ConditionMatch, axis=1)\n",
    "\n",
    "    df.drop('Condition2', axis=1, inplace=True)\n",
    "\n",
    "    df = pd.get_dummies(df, columns=[\"Condition1\"], prefix=\"Condition1\")\n",
    "    df = pd.get_dummies(\n",
    "        df, columns=[\"Diff2ndCondition_Flag\"], prefix=\"Diff2ndCondition_Flag\")\n",
    "\n",
    "    dummy = \"Condition1\"\n",
    "    print(\"Feature: ->\", dummy, \"<-\")\n",
    "    print(\"Values: \", set(df.filter(regex='^'+dummy).values.flatten()))\n",
    "    print(\"No of additional features: \", len(\n",
    "        df.filter(regex='^'+dummy).columns))\n",
    "\n",
    "    dummy = \"Diff2ndCondition_Flag\"\n",
    "    print(\"Feature: ->\", dummy, \"<-\")\n",
    "    print(\"Values: \", set(df.filter(regex='^'+dummy).values.flatten()))\n",
    "    print(\"No of additional features: \", len(\n",
    "        df.filter(regex='^'+dummy).columns))\n",
    "\n",
    "    \"\"\"\n",
    "    This is the code snippet if had wanted to use ordinal encoder.\n",
    "    values_temp = [['RRAe', 'RRNe', 'PosA', \"PosN\",\n",
    "        \"BRAn\", \"RRAn\", \"RRNn\", \"Norm\", \"Feedr\", \"Artery\"]]\n",
    "    ord_en = OrdinalEncoder(categories=values_temp)\n",
    "    ord_en.fit(df[\"Condition1\"].values.reshape(-1, 1))\n",
    "    df[\"Condition1\"] = ord_en.transform(df[\"Condition1\"].values.reshape(-1, 1))\n",
    "\n",
    "    ord_en = OrdinalEncoder(categories=values_temp)\n",
    "    ord_en.fit(df[\"Condition2\"].values.reshape(-1, 1))\n",
    "    df[\"Condition2\"] = ord_en.transform(df[\"Condition2\"].values.reshape(-1, 1))\n",
    "    \"\"\"\n",
    "\n",
    "    # BldgType\n",
    "    cat_feature.append(\"BldgType\")\n",
    "    # ************************************************************************\n",
    "    \"\"\"\n",
    "    Use one-hot encoding\n",
    "    \"\"\"\n",
    "    df = pd.get_dummies(df, columns=[\"BldgType\"], prefix=\"BldgType\")\n",
    "\n",
    "    dummy = \"BldgType\"\n",
    "    print(\"Feature: ->\", dummy, \"<-\")\n",
    "    print(\"Values: \", set(df.filter(regex='^'+dummy).values.flatten()))\n",
    "    print(\"No of additional features: \", len(\n",
    "        df.filter(regex='^'+dummy).columns))\n",
    "\n",
    "    \"\"\"\n",
    "    The situation seems to be similar to the one we have for neighborhood.\n",
    "    However, the description gives us a little more clues, so I'll\n",
    "    attemp to rank them.\n",
    "    # Duplex', '2fmCon', 'Twnhs'\n",
    "    values_temp = [[\"Twnhs\", \"TwnhsE\", \"Duplex\", \"2fmCon\", \"1Fam\"]]\n",
    "    ord_en = OrdinalEncoder(categories=values_temp)\n",
    "    ord_en.fit(df[\"BldgType\"].values.reshape(-1, 1))\n",
    "    df[\"BldgType\"] = ord_en.transform(df[\"BldgType\"].values.reshape(-1, 1))\n",
    "    \"\"\"\n",
    "\n",
    "    # HouseStyle\n",
    "    cat_feature.append(\"HouseStyle\")\n",
    "    # ************************************************************************\n",
    "    \"\"\"\n",
    "    Since there are some categories with very few values, I will cluster these into another\n",
    "    category and create dummy variables.\n",
    "    \"\"\"\n",
    "    df['HouseStyle'] = df['HouseStyle'].map({\"2Story\": \"2Story\", \"1Story\": \"1Story\", \"1.5Fin\": \"1.5Story\",\n",
    "                                             \"1.5Unf\": \"1.5Story\",\n",
    "                                             \"SFoyer\": \"SFoyer\", \"SLvl\": \"SLvl\", \"2.5Unf\": \"2.5Story\",\n",
    "                                             \"2.5Fin\": \"2.5Story\"})\n",
    "\n",
    "    df = pd.get_dummies(df, columns=[\"HouseStyle\"], prefix=\"HouseStyle\")\n",
    "\n",
    "    dummy = \"HouseStyle\"\n",
    "    print(\"Feature: ->\", dummy, \"<-\")\n",
    "    print(\"Values: \", set(df.filter(regex='^'+dummy).values.flatten()))\n",
    "    print(\"No of additional features: \", len(\n",
    "        df.filter(regex='^'+dummy).columns))\n",
    "\n",
    "    \"\"\"\n",
    "    This is the code snippet of had wanted to use ordinal encoding.\n",
    "\n",
    "    # values_temp = [[\"SLvl\", \"SFoyer\", \"2.5Unf\", \"2.5Fin\", \"2Story\", \"1.5Unf\", \"1.5Fin\", \"1Story\"]]\n",
    "    # ord_en = OrdinalEncoder(categories=values_temp)\n",
    "    # ord_en.fit(df[\"HouseStyle\"].values.reshape(-1, 1))\n",
    "    # df[\"HouseStyle\"] = ord_en.transform(df[\"HouseStyle\"].values.reshape(-1, 1))\n",
    "    map_ = {\"2.5Fin\": 7, \"2Story\": 6, \"1Story\": 5, \"SLvl\": 4,\n",
    "            \"2.5Unf\": 3, \"1.5Fin\": 2, \"SFoyer\": 1, \"1.5Unf\": 0}\n",
    "    df['HouseStyle'].replace(map_, inplace=True)\n",
    "    \"\"\"\n",
    "\n",
    "    # OverallQual & OverallCond\n",
    "    # ************************************************************************\n",
    "    \"\"\"\n",
    "    We have seen how this is a feature which is numerical and ordinal as well.\n",
    "    Since the numerical value have already an intrisic order themselves we are\n",
    "    not going to change anything.\n",
    "\n",
    "    Others, have pointed out how we could combine the two feaures together, but\n",
    "    for reason exalpined under the \"Feature analyses\" section I will not do it here.\n",
    "    Nevertheless, I will still report the code should you wish to try it.\n",
    "\n",
    "    print(\"Adding feature: MeanQual\")\n",
    "    mean_qual_cond = []\n",
    "    for i in range(len(df['OverallQual'])):\n",
    "        mean_temp = (df['OverallQual'].iloc[i] +\n",
    "                     df['OverallCond'].iloc[i]) / 2.0\n",
    "        mean_qual_cond.append(mean_temp)\n",
    "    df[\"MeanQual\"] = mean_qual_cond\n",
    "    \"\"\"\n",
    "\n",
    "    # YearBuilt\n",
    "    cat_feature.append(\"YearBuilt\")\n",
    "    # ************************************************************************\n",
    "    \"\"\"\n",
    "    \"\"\"\n",
    "\n",
    "    df.loc[df['YearBuilt'] <= 1892, 'YearBuilt'] = 1\n",
    "    df.loc[(df['YearBuilt'] > 1892) & (\n",
    "        df['YearBuilt'] <= 1911), 'YearBuilt'] = 2\n",
    "    df.loc[(df['YearBuilt'] > 1911) & (\n",
    "        df['YearBuilt'] <= 1931), 'YearBuilt'] = 3\n",
    "    df.loc[(df['YearBuilt'] > 1931) & (\n",
    "        df['YearBuilt'] <= 1951), 'YearBuilt'] = 4\n",
    "    df.loc[(df['YearBuilt'] > 1951) & (\n",
    "        df['YearBuilt'] <= 1971), 'YearBuilt'] = 5\n",
    "    df.loc[(df['YearBuilt'] > 1971) & (\n",
    "        df['YearBuilt'] <= 1990), 'YearBuilt'] = 6\n",
    "    df.loc[df['YearBuilt'] > 1990, 'YearBuilt'] = 7\n",
    "    df['YearBuilt'] = df['YearBuilt'].astype(int)\n",
    "\n",
    "    df = pd.get_dummies(df, columns=[\"YearBuilt\"], prefix=\"YearBuilt\")\n",
    "\n",
    "    dummy = \"YearBuilt\"\n",
    "    print(\"Feature: ->\", dummy, \"<-\")\n",
    "    print(\"Values: \", set(df.filter(regex='^'+dummy).values.flatten()))\n",
    "    print(\"No of additional features: \", len(\n",
    "        df.filter(regex='^'+dummy).columns))\n",
    "\n",
    "    \"\"\"\n",
    "    We are going to create an additional feature where we binnerise\n",
    "    the year built into 5 categories. Further we drop the original\n",
    "    feature in order to limit the number of one-hot-encoded features.\n",
    "    The feature is dropped later!\n",
    "    print(\"Adding feature: YearBuilt_bin\")\n",
    "    def year_binnerisation(yb):\n",
    "        yb = float(yb)\n",
    "        if yb <= 1910:\n",
    "            return 1\n",
    "        elif yb <= 1950 and yb > 1910:\n",
    "            return 2\n",
    "        elif yb >= 1950 and yb < 1980:\n",
    "            return 3\n",
    "        elif yb >= 1980 and yb < 2000:\n",
    "            return 4\n",
    "        return 5\n",
    "    df['YearBuilt_binned'] = df['YearBuilt'].apply(year_binnerisation)\n",
    "    # df.drop(columns=['YearBuilt'], inplace=True)\n",
    "    \"\"\"\n",
    "\n",
    "    # YearRemodAdd\n",
    "    # ************************************************************************\n",
    "    \"\"\"\n",
    "    \"\"\"\n",
    "    df.drop(columns=['YearRemodAdd'], inplace=True)\n",
    "\n",
    "    # RoofStyle\n",
    "    cat_feature.append(\"RoofStyle\")\n",
    "    # ************************************************************************\n",
    "    \"\"\"\n",
    "    Use one-hot encoding\n",
    "    \"\"\"\n",
    "    df = pd.get_dummies(df, columns=[\"RoofStyle\"], prefix=\"RoofStyle\")\n",
    "\n",
    "    dummy = \"RoofStyle\"\n",
    "    print(\"Feature: ->\", dummy, \"<-\")\n",
    "    print(\"Values: \", set(df.filter(regex='^'+dummy).values.flatten()))\n",
    "    print(\"No of additional features: \", len(\n",
    "        df.filter(regex='^'+dummy).columns))\n",
    "\n",
    "    # RoofMatl\n",
    "    cat_feature.append(\"RoofMatl\")\n",
    "    # ************************************************************************\n",
    "    \"\"\"\n",
    "    We'd like to use one-hot encoding but it becomes tricky because the two sets\n",
    "    do not have the same number of entry. At the same time, we also need to avoid\n",
    "    leaking information. However, this would not happen because as we saw in step_#3\n",
    "    of this notebook series all the entries in the test set are in the train set,\n",
    "    but the vicersa is NOT true.\n",
    "    \"\"\"\n",
    "    # This code snippet does not allow to provide the encode list directly\n",
    "    #df = pd.get_dummies(df, columns=[\"RoofMatl\"], prefix=\"RoofMatl\")\n",
    "\n",
    "    \"\"\"\n",
    "    Since we know train & set have two different sets\n",
    "    \"\"\"\n",
    "    # one-hot encode input variables\n",
    "    categories = ['Tar&Grv', 'CompShg', 'WdShake', 'ClyTile', 'WdShngl',\n",
    "                  'Metal', 'Roll', 'Membran']\n",
    "    onehot_encoder = OneHotEncoder(\n",
    "        handle_unknown=\"error\", sparse=False, categories=[categories])  # .reshape(-1,1))\n",
    "\n",
    "    onehot_encoder.fit(df[\"RoofMatl\"].values.reshape(-1, 1))\n",
    "\n",
    "    df[\"RoofMatl\"] = onehot_encoder.transform(\n",
    "        df[\"RoofMatl\"].values.reshape(-1, 1))\n",
    "\n",
    "    dummy = \"RoofMatl\"\n",
    "    print(\"Feature: ->\", dummy, \"<-\")\n",
    "    print(\"Values: \", set(df.filter(regex='^'+dummy).values.flatten()))\n",
    "    print(\"No of additional features: \", len(\n",
    "        df.filter(regex='^'+dummy).columns))\n",
    "\n",
    "    \n",
    "    # Exterior1st & Exterior2nd\n",
    "    cat_feature.append(\"Exterior1st\")\n",
    "    # ************************************************************************\n",
    "    \"\"\"\n",
    "    Looking at these 2 features together, we can see that they exhibit very\n",
    "    similar behaviours against SalePrice. This tells me that they are very closely\n",
    "    related. Hence, I will create a flag to indicate whether there is a different\n",
    "    2nd exterior covering to the first. Then I will keep \"Exterior1st\" and create\n",
    "    dummy variables from this.\n",
    "    \"\"\"\n",
    "    def Exter2(col):\n",
    "        if col['Exterior2nd'] == col['Exterior1st']:\n",
    "            return \"True\"\n",
    "        else:\n",
    "            return \"False\"\n",
    "\n",
    "    df['ExteriorMatch_Flag'] = df.apply(Exter2, axis=1)\n",
    "\n",
    "    df.drop('Exterior2nd', axis=1, inplace=True)\n",
    "\n",
    "    \"\"\"\n",
    "    The same discussion we had about RoofMatl still applies here\n",
    "    # If we use thos code snippet we'll end up with different No of columns\n",
    "    # df = pd.get_dummies(df, columns=[\"Exterior1st\"], prefix=\"Exterior1st\")    \n",
    "    \"\"\"\n",
    "    # one-hot encode input variables\n",
    "    categories = ['Stucco', 'CemntBd', 'BrkComm', 'WdShing', 'Wd Sdng', 'VinylSd', 'AsphShn',\n",
    "                  'Stone', 'ImStucc', 'CBlock', 'BrkFace', 'Plywood', 'AsbShng', 'HdBoard', 'MetalSd']\n",
    "    onehot_encoder = OneHotEncoder(\n",
    "        handle_unknown=\"error\", sparse=False, categories=[categories])  # .reshape(-1,1))\n",
    "    onehot_encoder.fit(df[\"Exterior1st\"].values.reshape(-1, 1))\n",
    "    df[\"Exterior1st\"] = onehot_encoder.transform(\n",
    "        df[\"Exterior1st\"].values.reshape(-1, 1))\n",
    "\n",
    "    df = pd.get_dummies(\n",
    "        df, columns=[\"ExteriorMatch_Flag\"], prefix=\"ExteriorMatch_Flag\")\n",
    "\n",
    "    dummy = \"Exterior1st\"\n",
    "    print(\"Feature: ->\", dummy, \"<-\")\n",
    "    print(\"Values: \", set(df.filter(regex='^'+dummy).values.flatten()))\n",
    "    print(\"No of additional features: \", len(\n",
    "        df.filter(regex='^'+dummy).columns))\n",
    "    dummy = \"ExteriorMatch_Flag\"\n",
    "    print(\"Feature: ->\", dummy, \"<-\")\n",
    "    print(\"Values: \", set(df.filter(regex='^'+dummy).values.flatten()))\n",
    "    print(\"No of additional features: \", len(\n",
    "        df.filter(regex='^'+dummy).columns))\n",
    "\n",
    "    \n",
    "    # MasVnrType\n",
    "    cat_feature.append(\"MasVnrType\")\n",
    "    # ************************************************************************\n",
    "    \"\"\"\n",
    "    At the moment we do not have enough info on how to tank\n",
    "    the neighborhoods. Therefore we'll use a simplpe one-hot\n",
    "    encoding.\n",
    "    \"\"\"\n",
    "    df = pd.get_dummies(df, columns=[\"MasVnrType\"], prefix=\"MasVnrType\")\n",
    "\n",
    "    dummy = \"MasVnrType\"\n",
    "    print(\"Feature: ->\", dummy, \"<-\")\n",
    "    print(\"Values: \", set(df.filter(regex='^'+dummy).values.flatten()))\n",
    "    print(\"No of additional features: \", len(\n",
    "        df.filter(regex='^'+dummy).columns))\n",
    "\n",
    "    \"\"\"\n",
    "    This is the code snippet, had we decided to use ordinal encoding.\n",
    "    The order is assumed and I have no justification for it.\n",
    "    map_ = {\"Stone\": 4, \"BrkFace\": 3, \"BrkCmn\": 2, \"CBlock\": 1, \"None\": 0}\n",
    "    df['MasVnrType'].replace(map_, inplace=True)\n",
    "    \"\"\"\n",
    "\n",
    "    # MasVnrArea\n",
    "    # ************************************************************************\n",
    "    \"\"\"\n",
    "    See the description under \"Feature analysis\" to know why\n",
    "    \"\"\"\n",
    "    df.drop('MasVnrArea', axis=1, inplace=True)\n",
    "\n",
    "    \"\"\"\n",
    "    This is just another option available.\n",
    "    We are going to create an additional feature where we binnerise\n",
    "    the feature into xx categories. Further we drop the original\n",
    "    feature in order to limit the number of one-hot-encoded features.\n",
    "\n",
    "    print(\"Adding feature: MasVnrArea_cat\")\n",
    "    def MasVnrArea_binneriser(cat):\n",
    "        if cat <= 250:\n",
    "            return 1\n",
    "        elif cat <= 500 and cat > 250:\n",
    "            return 2\n",
    "        elif cat <= 750 and cat > 500:\n",
    "            return 3\n",
    "        return 4\n",
    "    df['MasVnrArea_bin'] = df['MasVnrArea'].apply(MasVnrArea_binneriser)\n",
    "    df.drop(columns=['MasVnrArea_bin'], inplace=True)\n",
    "    \"\"\"\n",
    "\n",
    "    # ExterQual\n",
    "    cat_feature.append(\"ExterQual\")\n",
    "    # ************************************************************************\n",
    "    map_ = {\"Ex\": 4, \"Gd\": 3, \"TA\": 2, \"Fa\": 1, \"Po\": 0}\n",
    "    df['ExterQual'].replace(map_, inplace=True)\n",
    "\n",
    "    dummy = \"ExterQual\"\n",
    "    print(\"Feature: ->\", dummy, \"<-\")\n",
    "    print(\"Values: \", set(df.filter(regex='^'+dummy).values.flatten()))\n",
    "    print(\"No of additional features: \", len(\n",
    "        df.filter(regex='^'+dummy).columns))\n",
    "\n",
    "    # ExterCond\n",
    "    cat_feature.append(\"ExterCond\")\n",
    "    # ************************************************************************\n",
    "    \"\"\"\n",
    "    Since this categorical feature has an order, but the SalePrice does not necessarily\n",
    "    correlate with this order, I will create dummy variables.\n",
    "    \"\"\"\n",
    "    df = pd.get_dummies(df, columns=[\"ExterCond\"], prefix=\"ExterCond\")\n",
    "\n",
    "    dummy = \"ExterCond\"\n",
    "    print(\"Feature: ->\", dummy, \"<-\")\n",
    "    print(\"Values: \", set(df.filter(regex='^'+dummy).values.flatten()))\n",
    "    print(\"No of additional features: \", len(\n",
    "        df.filter(regex='^'+dummy).columns))\n",
    "\n",
    "    \"\"\"\n",
    "    This is the code snippet, had we chosen to use ordinal\n",
    "    encoder\n",
    "    map_ = {\"Ex\": 4, \"Gd\": 3, \"TA\": 2, \"Fa\": 1, \"Po\": 0}\n",
    "    df['ExterCond'].replace(map_, inplace=True)\n",
    "    \"\"\"\n",
    "\n",
    "    # Foundation\n",
    "    cat_feature.append(\"Foundation\")\n",
    "    # ************************************************************************\n",
    "    \"\"\"\n",
    "    Use one-hot encoding\n",
    "    \"\"\"\n",
    "    df = pd.get_dummies(df, columns=[\"Foundation\"], prefix=\"Foundation\")\n",
    "\n",
    "    dummy = \"Foundation\"\n",
    "    print(\"Feature: ->\", dummy, \"<-\")\n",
    "    print(\"Values: \", set(df.filter(regex='^'+dummy).values.flatten()))\n",
    "    print(\"No of additional features: \", len(\n",
    "        df.filter(regex='^'+dummy).columns))\n",
    "\n",
    "    \"\"\"\n",
    "    This is the code snippet, had we wanted to enforce an ordinal\n",
    "    labelling.\n",
    "    map_ = {\"PConc\": 5, \"CBlock\": 4, \"BrkTil\": 3,\n",
    "            \"Slab\": 2, \"Stone\": 1, \"Wood\": 0}\n",
    "    df['Foundation'].replace(map_, inplace=True)\n",
    "    \"\"\"\n",
    "\n",
    "    # BsmtQual\n",
    "    cat_feature.append(\"BsmQual\")\n",
    "    # ************************************************************************\n",
    "    \"\"\"\n",
    "    Use ordinal encoder\n",
    "    \"\"\"\n",
    "    map_ = {\"Ex\": 5, \"Gd\": 4, \"TA\": 3, \"Fa\": 2, \"Po\": 1, 'NA': 0}\n",
    "    df['BsmtQual'].replace(map_, inplace=True)\n",
    "\n",
    "    dummy = \"BsmtQual\"\n",
    "    print(\"Feature: ->\", dummy, \"<-\")\n",
    "    print(\"Values: \", set(df.filter(regex='^'+dummy).values.flatten()))\n",
    "    print(\"No of additional features: \", len(\n",
    "        df.filter(regex='^'+dummy).columns))\n",
    "\n",
    "    # BsmtCond\n",
    "    cat_feature.append(\"BsmtCond\")\n",
    "    # ************************************************************************\n",
    "    \"\"\"\n",
    "    Use ordinal encoder\n",
    "    \"\"\"\n",
    "    map_ = {\"Ex\": 5, \"Gd\": 4, \"TA\": 3, \"Fa\": 2, \"Po\": 1, 'NA': 0}\n",
    "    df['BsmtCond'].replace(map_, inplace=True)\n",
    "\n",
    "    dummy = \"BsmtCond\"\n",
    "    print(\"Feature: ->\", dummy, \"<-\")\n",
    "    print(\"Values: \", set(df.filter(regex='^'+dummy).values.flatten()))\n",
    "    print(\"No of additional features: \", len(\n",
    "        df.filter(regex='^'+dummy).columns))\n",
    "\n",
    "    # BsmtExposure\n",
    "    cat_feature.append(\"BsmtExposure\")\n",
    "    # ************************************************************************\n",
    "    \"\"\"\n",
    "    Use ordinal encoder\n",
    "    \"\"\"\n",
    "\n",
    "    map_ = {\"Gd\": 4, \"Av\": 3, \"Mn\": 2, \"No\": 1, 'NA': 0}\n",
    "    df['BsmtExposure'].replace(map_, inplace=True)\n",
    "\n",
    "    dummy = \"BsmtExposure\"\n",
    "    print(\"Feature: ->\", dummy, \"<-\")\n",
    "    print(\"Values: \", set(df.filter(regex='^'+dummy).values.flatten()))\n",
    "    print(\"No of additional features: \", len(\n",
    "        df.filter(regex='^'+dummy).columns))\n",
    "\n",
    "    \n",
    "    # BsmtFinType1 & # BsmtFinType2\n",
    "    cat_feature.append(\"BsmtFinType1\")\n",
    "    cat_feature.append(\"BsmtFinType2\")\n",
    "    # ************************************************************************\n",
    "    \"\"\"\n",
    "    Use ordinal encoder\n",
    "    \"\"\"\n",
    "    df = pd.get_dummies(df, columns=[\"BsmtFinType1\"], prefix=\"BsmtFinType1\")\n",
    "    df = pd.get_dummies(df, columns=[\"BsmtFinType2\"], prefix=\"BsmtFinType2\")\n",
    "\n",
    "    \"\"\"\n",
    "    This is the code snippet had we want to use\n",
    "    ordinal encoding\n",
    "    map_ = {\"GLQ\": 6, \"ALQ\": 5, \"BLQ\": 4,\n",
    "            \"Rec\": 3, \"LwQ\": 2, \"Unf\": 1, 'NA': 0}\n",
    "    df['BsmtFinType1'].replace(map_, inplace=True)\n",
    "    df['BsmtFinType2'].replace(map_, inplace=True)\n",
    "    \"\"\"\n",
    "    dummy = \"BsmtFinType1\"\n",
    "    print(\"Feature: ->\", dummy, \"<-\")\n",
    "    print(\"Values: \", set(df.filter(regex='^'+dummy).values.flatten()))\n",
    "    print(\"No of additional features: \", len(\n",
    "        df.filter(regex='^'+dummy).columns))\n",
    "\n",
    "    dummy = \"BsmtFinType2\"\n",
    "    print(\"Feature: ->\", dummy, \"<-\")\n",
    "    print(\"Values: \", set(df.filter(regex='^'+dummy).values.flatten()))\n",
    "    print(\"No of additional features: \", len(\n",
    "        df.filter(regex='^'+dummy).columns))\n",
    "\n",
    "    # BsmtFinSF1\n",
    "    # ************************************************************************\n",
    "    \"\"\"\n",
    "    At the moment we are leaving the feature as it is\n",
    "    \"\"\"\n",
    "\n",
    "    \"\"\"\n",
    "    Option #1\n",
    "    df.loc[df['BsmtFinSF1']<=1002.5, 'BsmtFinSF1'] = 1\n",
    "    df.loc[(df['BsmtFinSF1']>1002.5) & (\n",
    "        df['BsmtFinSF1']<=2005), 'BsmtFinSF1'] = 2\n",
    "    df.loc[(df['BsmtFinSF1']>2005) & (\n",
    "        df['BsmtFinSF1']<=3007.5), 'BsmtFinSF1'] = 3\n",
    "    df.loc[df['BsmtFinSF1']>3007.5, 'BsmtFinSF1'] = 4\n",
    "    df['BsmtFinSF1'] = df['BsmtFinSF1'].astype(int)\n",
    "\n",
    "    df.drop('BsmtFinSF1_Band', axis=1, inplace=True)\n",
    "\n",
    "    df = pd.get_dummies(df, columns = [\"BsmtFinSF1\"], prefix=\"BsmtFinSF1\")\n",
    "\n",
    "    Option #2\n",
    "    def BsmtFinSFX_binneriser(cat):\n",
    "        cat = float(cat)\n",
    "        if cat <= 500:\n",
    "            return 1\n",
    "        elif cat <= 1000 and cat > 500:\n",
    "            return 2\n",
    "        elif cat <= 1500 and cat > 1000:\n",
    "            return 3\n",
    "        elif cat <= 2000 and cat > 1500:\n",
    "            return 4\n",
    "        return 5\n",
    "    df['BsmtFinSF1_bin'] = df['BsmtFinSF1'].apply(BsmtFinSFX_binneriser)\n",
    "    df['BsmtFinSF2_bin'] = df['BsmtFinSF2'].apply(BsmtFinSFX_binneriser)\n",
    "\n",
    "    df.drop(columns=['BsmtFinSF1'], inplace=True)\n",
    "    df.drop(columns=['BsmtFinSF2'], inplace=True)\n",
    "    \"\"\"\n",
    "\n",
    "    # BsmtFinSF2\n",
    "    cat_feature.append(\"BsmtFinSf2_Flag\")\n",
    "    # ************************************************************************\n",
    "    \"\"\"\n",
    "    Type 2 finished square feet.\n",
    "    There are a large number of data points with this feature = 0. Outside of this,\n",
    "    there is no significant correlation with SalePrice and a large spread of values.\n",
    "    Hence, I will replace this feature with a flag.\n",
    "    \"\"\"\n",
    "    # Create a flag\n",
    "    df['BsmtFinSf2_Flag'] = df['BsmtFinSF2'].map(\n",
    "        lambda x: \"True\" if x == 0 else \"False\")\n",
    "    # One-hot encoding as to keep both option equivalent, we do not want to use\n",
    "    # label encoding otherwise the algorithm may use to rank the feature.\n",
    "    df = pd.get_dummies(\n",
    "        df, columns=[\"BsmtFinSf2_Flag\"], prefix=\"BsmtFinSf2_Flag\")\n",
    "    # Drop the feature as we are using a flag now\n",
    "    df.drop('BsmtFinSF2', axis=1, inplace=True)\n",
    "\n",
    "    # TotalBsmtSF\n",
    "    # ************************************************************************\n",
    "    \"\"\"\n",
    "    At the moment we are not using any encoding but er are leaving the feature\n",
    "    as it is\n",
    "    \"\"\"\n",
    "\n",
    "    \"\"\"\n",
    "    df['BsmtUnfSF_Band'] = pd.cut(df['BsmtUnfSF'], 3)\n",
    "    df['BsmtUnfSF_Band'].unique()\n",
    "\n",
    "    df.loc[df['BsmtUnfSF']<=778.667, 'BsmtUnfSF'] = 1\n",
    "    df.loc[(df['BsmtUnfSF']>778.667) & (\n",
    "        df['BsmtUnfSF']<=1557.333), 'BsmtUnfSF'] = 2\n",
    "    df.loc[df['BsmtUnfSF']>1557.333, 'BsmtUnfSF'] = 3\n",
    "    df['BsmtUnfSF'] = df['BsmtUnfSF'].astype(int)\n",
    "\n",
    "    df.drop('BsmtUnfSF_Band', axis=1, inplace=True)\n",
    "\n",
    "    df = pd.get_dummies(df, columns = [\"BsmtUnfSF\"], prefix=\"BsmtUnfSF\")\n",
    "    \"\"\"\n",
    "\n",
    "    \"\"\"\n",
    "    We are going to create an additional feature where we binnerise\n",
    "    the feature into xx categories. Further we drop the original\n",
    "    feature in order to limit the number of one-hot-encoded features.\n",
    "    \"\"\"\n",
    "    \"\"\"\n",
    "    print(\"Adding features: TotalBsmtSF_bin & BsmtUnfSF\")\n",
    "    def BsmtSF_binneriser(cat):\n",
    "        cat = float(cat)\n",
    "        if cat <= 500:\n",
    "            return 1\n",
    "        elif cat <= 1000 and cat > 500:\n",
    "            return 2\n",
    "        elif cat <= 1500 and cat > 1000:\n",
    "            return 3\n",
    "        elif cat <= 2000 and cat > 1500:\n",
    "            return 4\n",
    "        return 5\n",
    "    df['TotalBsmtSF_bin'] = df['TotalBsmtSF'].apply(BsmtSF_binneriser)\n",
    "    # df.drop(columns=['TotalBsmtSF'], inplace=True)\n",
    "\n",
    "    df['BsmtUnfSF_bin'] = df['BsmtUnfSF'].apply(BsmtSF_binneriser)\n",
    "    df.drop(columns=['BsmtUnfSF'], inplace=True)\n",
    "    \"\"\"\n",
    "\n",
    "    # BsmtUnfSF\n",
    "    # ************************************************************************\n",
    "    \"\"\"\n",
    "    At the moment we are not using any encoding but er are leaving the feature\n",
    "    as it is\n",
    "    \"\"\"\n",
    "\n",
    "    \"\"\"\n",
    "    df['TotalBsmtSF_Band'] = pd.cut(df['TotalBsmtSF'], 10)\n",
    "    df['TotalBsmtSF_Band'].unique()\n",
    "\n",
    "    df.loc[df['TotalBsmtSF']<=509.5, 'TotalBsmtSF'] = 1\n",
    "    df.loc[(df['TotalBsmtSF']>509.5) & (\n",
    "        df['TotalBsmtSF']<=1019), 'TotalBsmtSF'] = 2\n",
    "    df.loc[(df['TotalBsmtSF']>1019) & (\n",
    "        df['TotalBsmtSF']<=1528.5), 'TotalBsmtSF'] = 3\n",
    "    df.loc[(df['TotalBsmtSF']>1528.5) & (\n",
    "        df['TotalBsmtSF']<=2038), 'TotalBsmtSF'] = 4\n",
    "    df.loc[(df['TotalBsmtSF']>2038) & (\n",
    "        df['TotalBsmtSF']<=2547.5), 'TotalBsmtSF'] = 5\n",
    "    df.loc[(df['TotalBsmtSF']>2547.5) & (\n",
    "        df['TotalBsmtSF']<=3057), 'TotalBsmtSF'] = 6\n",
    "    df.loc[(df['TotalBsmtSF']>3057) & (\n",
    "        df['TotalBsmtSF']<=3566.5), 'TotalBsmtSF'] = 7\n",
    "    df.loc[df['TotalBsmtSF']>3566.5, 'TotalBsmtSF'] = 8\n",
    "    df['TotalBsmtSF'] = df['TotalBsmtSF'].astype(int)\n",
    "\n",
    "    df.drop('TotalBsmtSF_Band', axis=1, inplace=True)\n",
    "\n",
    "    df = pd.get_dummies(df, columns = [\"TotalBsmtSF\"], prefix=\"TotalBsmtSF\")\n",
    "    \"\"\"\n",
    "\n",
    "    # Heating\n",
    "    cat_feature.append(\"GasA_Flag\")\n",
    "    # ************************************************************************\n",
    "    \"\"\"\n",
    "    We see the highest frequency and highest average SalePrice coming from \"GasA\"\n",
    "    and a very low frequency from all other classes. Hence, I will create a flag to\n",
    "    indicate whether \"GasA\" is present or not and drop the Heating feature.\n",
    "    \"\"\"\n",
    "\n",
    "    df['GasA_Flag'] = df['Heating'].map({\"GasA\": \"True\", \"GasW\": \"False\",\n",
    "                                         \"Grav\": \"False\", \"Wall\": \"False\", \"OthW\": \"False\",\n",
    "                                         \"Floor\": \"False\"})\n",
    "    df.drop('Heating', axis=1, inplace=True)\n",
    "    df = pd.get_dummies(df, columns=[\"GasA_Flag\"], prefix=\"GasA_Flag\")\n",
    "\n",
    "    dummy = \"GasA_Flag\"\n",
    "    print(\"Feature: ->\", dummy, \"<-\")\n",
    "    print(\"Values: \", set(df.filter(regex='^'+dummy).values.flatten()))\n",
    "    print(\"No of additional features: \", len(\n",
    "        df.filter(regex='^'+dummy).columns))\n",
    "\n",
    "    # HeatingQC\n",
    "    cat_feature.append(\"HeatingQC\")\n",
    "    # ************************************************************************\n",
    "    \"\"\"\n",
    "    Use ordinal encoding\n",
    "    \"\"\"\n",
    "    map_ = {\"Ex\": 4, \"Gd\": 3, \"TA\": 2, \"Fa\": 1, \"Po\": 0}\n",
    "    df['HeatingQC'].replace(map_, inplace=True)\n",
    "\n",
    "    dummy = \"HeatingQC\"\n",
    "    print(\"Feature: ->\", dummy, \"<-\")\n",
    "    print(\"Values: \", set(df.filter(regex='^'+dummy).values.flatten()))\n",
    "    print(\"No of additional features: \", len(\n",
    "        df.filter(regex='^'+dummy).columns))\n",
    "\n",
    "    # CentralAir\n",
    "    cat_feature.append(\"CentralAir\")\n",
    "    # ************************************************************************\n",
    "    \"\"\"\n",
    "    Use ordinal encoding\n",
    "    \"\"\"\n",
    "\n",
    "    map_ = {\"Y\": 1, \"N\": 0}\n",
    "    df['CentralAir'].replace(map_, inplace=True)\n",
    "\n",
    "    dummy = \"CentralAir\"\n",
    "    print(\"Feature: ->\", dummy, \"<-\")\n",
    "    print(\"Values: \", set(df.filter(regex='^'+dummy).values.flatten()))\n",
    "    print(\"No of additional features: \", len(\n",
    "        df.filter(regex='^'+dummy).columns))\n",
    "\n",
    "    # Electrical\n",
    "    cat_feature.append(\"Electrical\")\n",
    "    # ************************************************************************\n",
    "    \"\"\"\n",
    "    We see the highest average SalePrice coming from houses with \"SBrkr\" electrics,\n",
    "    and these are also the most frequent electrical systems installed in the houses\n",
    "    from this area. We have 2 categories in particular that have very low frequencies,\n",
    "    \"FuseP\" and \"Mix\". I am going to cluster all the classes related to fuses, and the\n",
    "    \\\"Mix\" class will probably be removed during feature reduction. In the end we have\n",
    "    three clusters: SBkr, Fuse, Mix.\n",
    "        \"\"\"\n",
    "    df['Electrical'] = df['Electrical'].map(\n",
    "        {\"SBrkr\": \"SBrkr\", \"FuseF\": \"Fuse\", \"FuseA\": \"Fuse\", \"FuseP\": \"Fuse\", \"Mix\": \"Mix\"})\n",
    "\n",
    "    \"\"\"\n",
    "    Since Mix is present only in the train set but not in test set we;ll have to\n",
    "    provide the feature manually.    \n",
    "    df = pd.get_dummies(\n",
    "        df, columns=[\"Electrical\"], prefix=\"Electrical\")\n",
    "    \"\"\"\n",
    "    # one-hot encode input variables\n",
    "    categories = ['SBrkr', 'Fuse', 'Mix']\n",
    "    onehot_encoder = OneHotEncoder(\n",
    "        handle_unknown=\"error\", sparse=False, categories=[categories])  # .reshape(-1,1))\n",
    "    onehot_encoder.fit(df[\"Electrical\"].values.reshape(-1, 1))\n",
    "    df[\"Electrical\"] = onehot_encoder.transform(\n",
    "        df[\"Electrical\"].values.reshape(-1, 1))\n",
    "\n",
    "    \"\"\"\n",
    "    This is the code snipppet for ordinal encoder\n",
    "    map_={\"SBrkr\": 4, \"FuseA\": 3, \"FuseF\": 2, \"FuseP\": 1, \"Mix\": 0}\n",
    "    df['Electrical'].replace(map_, inplace=True)\n",
    "    \"\"\"\n",
    "\n",
    "    dummy = \"Electrical\"\n",
    "    print(\"Feature: ->\", dummy, \"<-\")\n",
    "    print(\"Values: \", set(df.filter(regex='^'+dummy).values.flatten()))\n",
    "    print(\"No of additional features: \", len(\n",
    "        df.filter(regex='^'+dummy).columns))\n",
    "\n",
    "    # 1stFlrSF\n",
    "    # ************************************************************************\n",
    "    # At the moment we are not binning it\n",
    "\n",
    "    \"\"\"\n",
    "    df['1stFlrSF_Band'] = pd.cut(df['1stFlrSF'], 6)\n",
    "    df['1stFlrSF_Band'].unique()\n",
    "\n",
    "    df.loc[df['1stFlrSF']<=1127.5, '1stFlrSF'] = 1\n",
    "    df.loc[(df['1stFlrSF']>1127.5) & (df['1stFlrSF']<=1921), '1stFlrSF'] = 2\n",
    "    df.loc[(df['1stFlrSF']>1921) & (df['1stFlrSF']<=2714.5), '1stFlrSF'] = 3\n",
    "    df.loc[(df['1stFlrSF']>2714.5) & (df['1stFlrSF']<=3508), '1stFlrSF'] = 4\n",
    "    df.loc[(df['1stFlrSF']>3508) & (df['1stFlrSF']<=4301.5), '1stFlrSF'] = 5\n",
    "    df.loc[df['1stFlrSF']>4301.5, '1stFlrSF'] = 6\n",
    "    df['1stFlrSF'] = df['1stFlrSF'].astype(int)\n",
    "\n",
    "    df.drop('1stFlrSF_Band', axis=1, inplace=True)\n",
    "\n",
    "    df = pd.get_dummies(df, columns = [\"1stFlrSF\"], prefix=\"1stFlrSF\")\n",
    "    \"\"\"\n",
    "\n",
    "    # 2ndFlrSF\n",
    "    # ************************************************************************\n",
    "    # At the moment we are not binning it\n",
    "\n",
    "    \"\"\"\n",
    "    df['2ndFlrSF_Band'] = pd.cut(df['2ndFlrSF'], 6)\n",
    "    df['2ndFlrSF_Band'].unique()\n",
    "\n",
    "    df.loc[df['2ndFlrSF']<=310.333, '2ndFlrSF'] = 1\n",
    "    df.loc[(df['2ndFlrSF']>310.333) & (\n",
    "        df['2ndFlrSF']<=620.667), '2ndFlrSF'] = 2\n",
    "    df.loc[(df['2ndFlrSF']>620.667) & (df['2ndFlrSF']<=931), '2ndFlrSF'] = 3\n",
    "    df.loc[(df['2ndFlrSF']>931) & (df['2ndFlrSF']<=1241.333), '2ndFlrSF'] = 4\n",
    "    df.loc[(df['2ndFlrSF']>1241.333) & (\n",
    "        df['2ndFlrSF']<=1551.667), '2ndFlrSF'] = 5\n",
    "    df.loc[df['2ndFlrSF']>1551.667, '2ndFlrSF'] = 6\n",
    "    df['2ndFlrSF'] = df['2ndFlrSF'].astype(int)\n",
    "\n",
    "    df.drop('2ndFlrSF_Band', axis=1, inplace=True)\n",
    "\n",
    "    df = pd.get_dummies(df, columns = [\"2ndFlrSF\"], prefix=\"2ndFlrSF\")\n",
    "    \"\"\"\n",
    "\n",
    "    # LowQualFinSF\n",
    "    cat_feature.append(\"LowQualFinSF_Flag\")\n",
    "    # ************************************************************************\n",
    "    \"\"\"\n",
    "    We can see that there is a large number of properties with a value of 0 for this\n",
    "    feature. Clearly, it does not have a significant correlation with SalePrice.\n",
    "    For this reason, I will replace this feature with a flag.\n",
    "    \"\"\"\n",
    "    # Create a flag\n",
    "    df['LowQualFinSF_Flag'] = df['LowQualFinSF'].map(\n",
    "        lambda x: \"True\" if x == 0 else \"False\")\n",
    "    # Perform one-hot encoding\n",
    "    df = pd.get_dummies(\n",
    "        df, columns=[\"LowQualFinSF_Flag\"], prefix=\"LowQualFinSF_Flag\")\n",
    "    # Drop\n",
    "    df.drop('LowQualFinSF', axis=1, inplace=True)\n",
    "\n",
    "    dummy = \"LowQualFinSF_Flag\"\n",
    "    print(\"Feature: ->\", dummy, \"<-\")\n",
    "    print(\"Values: \", set(df.filter(regex='^'+dummy).values.flatten()))\n",
    "    print(\"No of additional features: \", len(\n",
    "        df.filter(regex='^'+dummy).columns))\n",
    "\n",
    "    # GrLivArea\n",
    "    # ************************************************************************\n",
    "    # At the moment we are leaving this feature like this\n",
    "\n",
    "    \"\"\"\n",
    "    df['GrLivArea_Band'] = pd.cut(df['GrLivArea'], 6)\n",
    "    df['GrLivArea_Band'].unique()\n",
    "\n",
    "    df.loc[df['GrLivArea']<=1127.5, 'GrLivArea'] = 1\n",
    "    df.loc[(df['GrLivArea']>1127.5) & (df['GrLivArea']<=1921), 'GrLivArea'] = 2\n",
    "    df.loc[(df['GrLivArea']>1921) & (df['GrLivArea']<=2714.5), 'GrLivArea'] = 3\n",
    "    df.loc[(df['GrLivArea']>2714.5) & (df['GrLivArea']<=3508), 'GrLivArea'] = 4\n",
    "    df.loc[(df['GrLivArea']>3508) & (df['GrLivArea']<=4301.5), 'GrLivArea'] = 5\n",
    "    df.loc[df['GrLivArea']>4301.5, 'GrLivArea'] = 6\n",
    "    df['GrLivArea'] = df['GrLivArea'].astype(int)\n",
    "\n",
    "    df.drop('GrLivArea_Band', axis=1, inplace=True)\n",
    "    df = pd.get_dummies(df, columns = [\"GrLivArea\"], prefix=\"GrLivArea\")\n",
    "    \"\"\"\n",
    "\n",
    "    \"\"\"\n",
    "    We are going to create an additional feature where we binnerise\n",
    "    the GrLivArea area into 3 categories.Further we drop the original\n",
    "    feature in order to limit the number of one-hot-encoded features.\n",
    "    We'll drop  the feature later!\n",
    "    print(\"Adding Features: GrLivArea_bin\")\n",
    "    def GrLivArea_binnerisation(cat):\n",
    "        cat = float(cat)\n",
    "        if cat <= 1000:\n",
    "            return 1\n",
    "        elif cat <= 2000 and cat > 1000:\n",
    "            return 2\n",
    "        elif cat <= 3000 and cat > 2000:\n",
    "            return 3\n",
    "        return 4\n",
    "    df['GrLivArea_bin'] = df['GrLivArea'].apply(GrLivArea_binnerisation)\n",
    "    # df.drop(columns=[\"GrLivArea\"], inplace=True)\n",
    "    \"\"\"\n",
    "\n",
    "    # BsmtFullBath & BsmtHalfBath & FullBath & HalfBath    \n",
    "    # ************************************************************************\n",
    "    print(\"Adding feature: Total_Bathrooms\")\n",
    "    df['Total_Bathrooms'] = (df['FullBath'] + (0.5 * df['HalfBath']) +\n",
    "                             df['BsmtFullBath'] + (0.5 * df['BsmtHalfBath']))\n",
    "\n",
    "    \"\"\"\n",
    "    One option could be to drop this feature because the info they carry has\n",
    "    already been integrated. I read that trees-based are not really\n",
    "    influnced by collinear feature, so the reason why I am not dropping it.\n",
    "    \"\"\"\n",
    "    df.drop(columns=['FullBath'], inplace=True)\n",
    "    df.drop(columns=['HalfBath'], inplace=True)\n",
    "    df.drop(columns=['BsmtFullBath'], inplace=True)\n",
    "    df.drop(columns=['BsmtHalfBath'], inplace=True)\n",
    "\n",
    "    # KitchenQual\n",
    "    cat_feature.append(\"KitchenQual\")\n",
    "    # ************************************************************************\n",
    "    \"\"\"\n",
    "    Use ordinal encoding\n",
    "    \"\"\"\n",
    "    map_ = {\"Ex\": 4, \"Gd\": 3, \"TA\": 2, \"Fa\": 1, \"Po\": 0}\n",
    "    df['KitchenQual'].replace(map_, inplace=True)\n",
    "\n",
    "    dummy = \"KitchenQual\"\n",
    "    print(\"Feature: ->\", dummy, \"<-\")\n",
    "    print(\"Values: \", set(df.filter(regex='^'+dummy).values.flatten()))\n",
    "    print(\"No of additional features: \", len(\n",
    "        df.filter(regex='^'+dummy).columns))\n",
    "\n",
    "    # TotRmsAbvGrd -> No action\n",
    "\n",
    "    # Functional\n",
    "    cat_feature.append(\"Functional\")\n",
    "    # ************************************************************************\n",
    "    \"\"\"\n",
    "    Use ordinal encoding\n",
    "    \"\"\"\n",
    "\n",
    "    map_ = {\"Typ\": 7, \"Min1\": 6, \"Min2\": 5, \"Mod\": 4,\n",
    "            \"Maj1\": 3, \"Maj2\": 2, \"Sev\": 1, \"Sal\": 0}\n",
    "    df['Functional'].replace(map_, inplace=True)\n",
    "\n",
    "    dummy = \"Functional\"\n",
    "    print(\"Feature: ->\", dummy, \"<-\")\n",
    "    print(\"Values: \", set(df.filter(regex='^'+dummy).values.flatten()))\n",
    "    print(\"No of additional features: \", len(\n",
    "        df.filter(regex='^'+dummy).columns))\n",
    "\n",
    "    # Fireplaces -> No action\n",
    "    # ************************************************************************\n",
    "\n",
    "    # FireplaceQu\n",
    "    cat_feature.append(\"FireplaceQu\")\n",
    "    # ************************************************************************\n",
    "    \"\"\"\n",
    "    Use ordinal encoding\n",
    "    \"\"\"\n",
    "\n",
    "    map_ = {\"Ex\": 5, \"Gd\": 4, \"TA\": 3, \"Fa\": 2, \"Po\": 1, \"NA\": 0}\n",
    "    df['FireplaceQu'].replace(map_, inplace=True)\n",
    "\n",
    "    dummy = \"FireplaceQu\"\n",
    "    print(\"Feature: ->\", dummy, \"<-\")\n",
    "    print(\"Values: \", set(df.filter(regex='^'+dummy).values.flatten()))\n",
    "    print(\"No of additional features: \", len(\n",
    "        df.filter(regex='^'+dummy).columns))\n",
    "\n",
    "    # GarageType\n",
    "    cat_feature.append(\"GarageType\")\n",
    "    # ************************************************************************\n",
    "    df = pd.get_dummies(df, columns=[\"GarageType\"], prefix=\"GarageType\")\n",
    "\n",
    "    \"\"\"\n",
    "    This is the code snippet if we had wanted to use\n",
    "    ordinal encoder.\n",
    "\n",
    "    values_temp=[[\"NA\", \"Detchd\", \"CarPort\",\n",
    "                    \"BuiltIn\", \"Basment\", \"Attchd\", \"2Types\"]]\n",
    "    ord_en=OrdinalEncoder(categories=values_temp)\n",
    "    ord_en.fit(df[\"GarageType\"].values.reshape(-1, 1))\n",
    "    df[\"GarageType\"]=ord_en.transform(df[\"GarageType\"].values.reshape(-1, 1))\n",
    "    \"\"\"\n",
    "\n",
    "    # GarageYrBlt\n",
    "    # ************************************************************************\n",
    "    # We'll leave the feature as it is\n",
    "\n",
    "    \"\"\"\n",
    "    df['GarageYrBlt_Band'] = pd.qcut(df['GarageYrBlt'], 3)\n",
    "    df['GarageYrBlt_Band'].unique()\n",
    "\n",
    "    df.loc[df['GarageYrBlt']<=1964, 'GarageYrBlt'] = 1\n",
    "    df.loc[(df['GarageYrBlt']>1964) & (\n",
    "        df['GarageYrBlt']<=1996), 'GarageYrBlt'] = 2\n",
    "    df.loc[df['GarageYrBlt']>1996, 'GarageYrBlt'] = 3\n",
    "    df['GarageYrBlt'] = df['GarageYrBlt'].astype(int)\n",
    "\n",
    "    df.drop('GarageYrBlt_Band', axis=1, inplace=True)\n",
    "\n",
    "    df = pd.get_dummies(df, columns = [\"GarageYrBlt\"], prefix=\"GarageYrBlt\")\n",
    "    \"\"\"\n",
    "\n",
    "    # GarageFinish\n",
    "    cat_feature.append(\"GarageFinish\")\n",
    "    # ************************************************************************\n",
    "    \"\"\"\n",
    "    Use Label Encoding and not one-ho-encoding to preserve\n",
    "    the information in their ordering set.\n",
    "    \"\"\"\n",
    "    # lbl=LabelEncoder()\n",
    "    # lbl.fit(list(df[\"GarageFinish\"].values))\n",
    "    # df[\"GarageFinish\"]=lbl.transform(list(df[\"GarageFinish\"].values))\n",
    "    # values_temp = [['NA', 'Unf', 'RFn', 'Fin']]\n",
    "    # ord_en = OrdinalEncoder(categories=values_temp)\n",
    "    # ord_en.fit(df[\"GarageFinish\"].values.reshape(-1, 1))\n",
    "    # df[\"GarageFinish\"] = ord_en.transform(\n",
    "    #    df[\"GarageFinish\"].values.reshape(-1, 1))\n",
    "    map_ = {\"Fin\": 3, \"RFn\": 2, \"Unf\": 1, 'NA': 0}\n",
    "    df['GarageFinish'].replace(map_, inplace=True)\n",
    "\n",
    "    dummy = \"GarageFinish\"\n",
    "    print(\"Feature: ->\", dummy, \"<-\")\n",
    "    print(\"Values: \", set(df.filter(regex='^'+dummy).values.flatten()))\n",
    "    print(\"No of additional features: \", len(\n",
    "        df.filter(regex='^'+dummy).columns))\n",
    "\n",
    "    # GarageCars -> No action\n",
    "    # ************************************************************************\n",
    "\n",
    "    # GarageArea\n",
    "    # ************************************************************************\n",
    "    # no action\n",
    "    \"\"\"\n",
    "    df['GarageArea_Band'] = pd.cut(df['GarageArea'], 3)\n",
    "    df['GarageArea_Band'].unique()\n",
    "\n",
    "    df.loc[df['GarageArea']<=496, 'GarageArea'] = 1\n",
    "    df.loc[(df['GarageArea']>496) & (df['GarageArea']<=992), 'GarageArea'] = 2\n",
    "    df.loc[df['GarageArea']>992, 'GarageArea'] = 3\n",
    "    df['GarageArea'] = df['GarageArea'].astype(int)\n",
    "\n",
    "    df.drop('GarageArea_Band', axis=1, inplace=True)\n",
    "\n",
    "    df = pd.get_dummies(df, columns = [\"GarageArea\"], prefix=\"GarageArea\")\n",
    "    \"\"\"\n",
    "\n",
    "    \"\"\"\n",
    "    We are going to create an additional feature where we binnerise\n",
    "    the garage area into e categories. Further we drop the original\n",
    "    feature in order to limit the number of one-hot-encoded features.\n",
    "\n",
    "    print(\"Adding Features: GarageArea_bin\")\n",
    "    def GarageArea_binnerisation(cat):\n",
    "        cat = float(cat)\n",
    "        if cat <= 250:\n",
    "            return 1\n",
    "        elif cat <= 500 and cat > 250:\n",
    "            return 2\n",
    "        elif cat <= 1000 and cat > 500:\n",
    "            return 3\n",
    "        return 4\n",
    "    df['GarageArea_bin'] = df['GarageArea'].apply(GarageArea_binnerisation)\n",
    "    \"\"\"\n",
    "\n",
    "    # GarageQual\n",
    "    cat_feature.append(\"GarageQual\")\n",
    "    # ************************************************************************\n",
    "    \"\"\"\n",
    "    Use ordinal encoding\n",
    "    \"\"\"\n",
    "    map_ = {\"Ex\": 5, \"Gd\": 4, \"TA\": 3, \"Fa\": 2, \"Po\": 1, \"NA\": 0}\n",
    "    df['GarageQual'].replace(map_, inplace=True)\n",
    "\n",
    "    dummy = \"GarageQual\"\n",
    "    print(\"Feature: ->\", dummy, \"<-\")\n",
    "    print(\"Values: \", set(df.filter(regex='^'+dummy).values.flatten()))\n",
    "    print(\"No of additional features: \", len(\n",
    "        df.filter(regex='^'+dummy).columns))\n",
    "\n",
    "    # GarageCond\n",
    "    cat_feature.append(\"GarageCond\")\n",
    "    # ************************************************************************\n",
    "    \"\"\"\n",
    "    Use ordinal encoding. but maybe we can. try to cluster the feature differently\n",
    "    \"\"\"\n",
    "    map_ = {\"Ex\": 5, \"Gd\": 4, \"TA\": 3, \"Fa\": 2, \"Po\": 1, \"NA\": 0}\n",
    "    df['GarageCond'].replace(map_, inplace=True)\n",
    "\n",
    "    dummy = \"GarageCond\"\n",
    "    print(\"Feature: ->\", dummy, \"<-\")\n",
    "    print(\"Values: \", set(df.filter(regex='^'+dummy).values.flatten()))\n",
    "    print(\"No of additional features: \", len(\n",
    "        df.filter(regex='^'+dummy).columns))\n",
    "\n",
    "    # PavedDrive\n",
    "    cat_feature.append(\"PavedDrive\")\n",
    "    # ************************************************************************\n",
    "    \"\"\"\n",
    "    Since this is a categorical feature without order, I will create dummy variables.\n",
    "    \"\"\"\n",
    "    df = pd.get_dummies(df, columns=[\"PavedDrive\"], prefix=\"PavedDrive\")\n",
    "\n",
    "    dummy = \"PavedDrive\"\n",
    "    print(\"Feature: ->\", dummy, \"<-\")\n",
    "    print(\"Values: \", set(df.filter(regex='^'+dummy).values.flatten()))\n",
    "    print(\"No of additional features: \", len(\n",
    "        df.filter(regex='^'+dummy).columns))\n",
    "\n",
    "    \"\"\"\n",
    "    This is the code snippet if we had wanted to use\n",
    "    ordinal encoding\n",
    "    map_={\"Y\": 2, \"P\": 1, \"N\": 0}\n",
    "    df['PavedDrive'].replace(map_, inplace=True)\n",
    "    \"\"\"\n",
    "\n",
    "    # WoodDeckSF\n",
    "    # ************************************************************************\n",
    "\n",
    "    \"\"\"\n",
    "    This is another way of achieving the same thing as below\n",
    "    df['WoodDeckSF_Band'] = pd.cut(df['WoodDeckSF'], 4)\n",
    "\n",
    "    df.loc[df['WoodDeckSF']<=356, 'WoodDeckSF'] = 1\n",
    "    df.loc[(df['WoodDeckSF']>356) & (df['WoodDeckSF']<=712), 'WoodDeckSF'] = 2\n",
    "    df.loc[(df['WoodDeckSF']>712) & (df['WoodDeckSF']<=1068), 'WoodDeckSF'] = 3\n",
    "    df.loc[df['WoodDeckSF']>1068, 'WoodDeckSF'] = 4\n",
    "    df['WoodDeckSF'] = df['WoodDeckSF'].astype(int)\n",
    "\n",
    "    df.drop('WoodDeckSF_Band', axis=1, inplace=True)\n",
    "    \"\"\"\n",
    "\n",
    "    \"\"\"\n",
    "    print(\"Adding Features: WoodDeckSF_bin\")\n",
    "    def WoodDeckSF_binnerisation(cat):\n",
    "        cat = float(cat)\n",
    "        if cat == 0:\n",
    "            return 1\n",
    "        elif cat <= 200 and cat > 0:\n",
    "            return 2\n",
    "        elif cat <= 500 and cat > 200:\n",
    "            return 3\n",
    "        return 4\n",
    "    df['WoodDeckSF_bin'] = df['WoodDeckSF'].apply(WoodDeckSF_binnerisation)\n",
    "    \"\"\"\n",
    "\n",
    "    # OpenPorchSF\n",
    "    # ************************************************************************\n",
    "\n",
    "    \"\"\"\n",
    "    df['TotalPorchSF_Band'] = pd.cut(df['TotalPorchSF'], 4)\n",
    "    df['TotalPorchSF_Band'].unique()\n",
    "\n",
    "    df.loc[df['TotalPorchSF']<=431, 'TotalPorchSF'] = 1\n",
    "    df.loc[(df['TotalPorchSF']>431) & (\n",
    "        df['TotalPorchSF']<=862), 'TotalPorchSF'] = 2\n",
    "    df.loc[(df['TotalPorchSF']>862) & (\n",
    "        df['TotalPorchSF']<=1293), 'TotalPorchSF'] = 3\n",
    "    df.loc[df['TotalPorchSF']>1293, 'TotalPorchSF'] = 4\n",
    "    df['TotalPorchSF'] = df['TotalPorchSF'].astype(int)\n",
    "\n",
    "    df.drop('TotalPorchSF_Band', axis=1, inplace=True)\n",
    "\n",
    "    df = pd.get_dummies(df, columns = [\"TotalPorchSF\"], prefix=\"TotalPorchSF\")\n",
    "    \"\"\"\n",
    "\n",
    "    \"\"\"\n",
    "    print(\"Adding Features: WoodDeckSF_bin\")\n",
    "    def porch_binnerisation(cat):\n",
    "        cat = float(cat)\n",
    "        if cat == 0:\n",
    "            return 1\n",
    "        elif cat <= 200 and cat > 0:\n",
    "            return 2\n",
    "        elif cat <= 500 and cat > 200:\n",
    "            return 3\n",
    "        return 4\n",
    "    df['OpenPorchSF_bin'] = df['OpenPorchSF'].apply(porch_binnerisation)\n",
    "    \"\"\"\n",
    "\n",
    "    # Porch\n",
    "    # ************************************************************************\n",
    "    # EnclosedPorch -> No action\n",
    "    # print(\"Adding Features: EnclosedPorch_bin\")\n",
    "    # df['EnclosedPorch_bin'] = df['EnclosedPorch'].apply(porch_binnerisation)\n",
    "\n",
    "    # 3SsnPorch -> No action\n",
    "    # print(\"Adding Features: 3SsnPorch_bin\")\n",
    "    # df['3SsnPorch_bin'] = df['3SsnPorch'].apply(porch_binnerisation)\n",
    "\n",
    "    # ScreenPorch -> No action\n",
    "    # print(\"Adding Features: ScreenPorch_bin\")\n",
    "    # df['ScreenPorch_bin'] = df['ScreenPorch'].apply(porch_binnerisation)\n",
    "\n",
    "    df['TotalPorchSF'] = df['OpenPorchSF'] + \\\n",
    "        df['EnclosedPorch'] + df['3SsnPorch'] + df['ScreenPorch']\n",
    "\n",
    "    df.drop('OpenPorchSF', axis=1, inplace=True)\n",
    "    df.drop('EnclosedPorch', axis=1, inplace=True)\n",
    "    df.drop('3SsnPorch', axis=1, inplace=True)\n",
    "    df.drop('ScreenPorch', axis=1, inplace=True)\n",
    "\n",
    "    # PoolArea\n",
    "    cat_feature.append(\"HasPool_Flag\")\n",
    "    # ************************************************************************\n",
    "    \"\"\"\n",
    "    We see almost 0 correlation due to the high number of houses without a pool.\n",
    "    Hence, I will create a flag here, and then we'll drop the feature.\n",
    "    \"\"\"\n",
    "    def PoolFlag(col):\n",
    "        if col['PoolArea'] == 0:\n",
    "            return 0\n",
    "        else:\n",
    "            return 1\n",
    "\n",
    "    df['HasPool_Flag'] = df.apply(PoolFlag, axis=1)\n",
    "    df.drop('PoolArea', axis=1, inplace=True)\n",
    "\n",
    "    dummy = \"HasPool_Flag\"\n",
    "    print(\"Feature: ->\", dummy, \"<-\")\n",
    "    print(\"Values: \", set(df.filter(regex='^'+dummy).values.flatten()))\n",
    "    print(\"No of additional features: \", len(\n",
    "        df.filter(regex='^'+dummy).columns))\n",
    "\n",
    "    # PoolQC\n",
    "    # ************************************************************************\n",
    "    \"\"\"\n",
    "    Due to not many houses having a pool, we see very low numbers of observations for each class.\n",
    "    Since this does not hold much information this feature, I will simply remove it.\n",
    "    \"\"\"\n",
    "\n",
    "    df.drop('PoolQC', axis=1, inplace=True)\n",
    "    \"\"\"\n",
    "    This is the code snippet if we wanted to use\n",
    "    ordinal encoder\n",
    "    map_={\"Ex\": 4, \"Gd\": 3, \"TA\": 2, \"Fa\": 1, 'NA': 0}\n",
    "    df['PoolQC'].replace(map_, inplace=True)\n",
    "    \"\"\"\n",
    "\n",
    "    # Fence\n",
    "    cat_feature.append(\"Fence\")\n",
    "    # ************************************************************************\n",
    "    \"\"\"\n",
    "    Here we see that the houses with the most privacy have the highest average SalePrice. \n",
    "    There seems to be a slight order within the classes, however some of the class descriptions\n",
    "    are slightly ambiguous, therefore I will create dummy variables here from this categorical feature.\n",
    "    \"\"\"\n",
    "    df = pd.get_dummies(df, columns=[\"Fence\"], prefix=\"Fence\")\n",
    "\n",
    "    dummy = \"Fence\"\n",
    "    print(\"Feature: ->\", dummy, \"<-\")\n",
    "    print(\"Values: \", set(df.filter(regex='^'+dummy).values.flatten()))\n",
    "    print(\"No of additional features: \", len(\n",
    "        df.filter(regex='^'+dummy).columns))\n",
    "\n",
    "    # MiscFeature\n",
    "    # ************************************************************************\n",
    "    \"\"\"\n",
    "    We can see here that only a low number of houses in this area with any \n",
    "    miscalleanous features. Hence, I do not believe that this feature holds much.\n",
    "    Therefore I will drop this feature along with MiscVal. Please note we have\n",
    "    ALREADY dropped this feature under the \"Missing values\" section\n",
    "    \"\"\"\n",
    "    # This is the code snippet had we not dropped before\n",
    "    #df.drop(\"MiscFeature\", axis=1, inplace=True)\n",
    "\n",
    "    # MiscVal\n",
    "    # ************************************************************************\n",
    "    \"\"\"\n",
    "    We can see here that only a low number of houses in this area with any miscalleanous features.\n",
    "    Hence, I do not believe that this feature holds much. Therefore I will drop this feature along\n",
    "    with MiscVal.\n",
    "    \"\"\"\n",
    "    df.drop(\"MiscVal\", axis=1, inplace=True)\n",
    "\n",
    "    # MoSold\n",
    "    cat_feature.append(\"MoSold\")\n",
    "    # ************************************************************************\n",
    "    \"\"\"\n",
    "    Although this feature is a numeric feature, it should really be a category. We can see that \n",
    "    there is no real indicator as to any months that consistetly sold houses of a higher price, \n",
    "    however there does seem to be a fairly even distribution of values between classes. I will create dummy variables from each category.\n",
    "    \"\"\"\n",
    "    df = pd.get_dummies(df, columns=[\"MoSold\"], prefix=\"MoSold\")\n",
    "\n",
    "    dummy = \"MoSold\"\n",
    "    print(\"Feature: ->\", dummy, \"<-\")\n",
    "    print(\"Values: \", set(df.filter(regex='^'+dummy).values.flatten()))\n",
    "    print(\"No of additional features: \", len(\n",
    "        df.filter(regex='^'+dummy).columns))\n",
    "\n",
    "    # YrSold\n",
    "    cat_feature.append(\"YrSold\")\n",
    "    # ************************************************************************\n",
    "    \"\"\"\n",
    "    Here we see just a 5 year time period of which the houses in this dataset were \n",
    "    sold. There is an even distribution of values between each class, and each year \n",
    "    has a very similar average SalePrice. Even though this is numeric, it should be \n",
    "    categorical. Therefore I will create dummy variables.\n",
    "    \"\"\"\n",
    "    df = pd.get_dummies(df, columns=[\"YrSold\"], prefix=\"YrSold\")\n",
    "\n",
    "    dummy = \"YrSold\"\n",
    "    print(\"Feature: ->\", dummy, \"<-\")\n",
    "    print(\"Values: \", set(df.filter(regex='^'+dummy).values.flatten()))\n",
    "    print(\"No of additional features: \", len(\n",
    "        df.filter(regex='^'+dummy).columns))\n",
    "\n",
    "    # SaleType\n",
    "    cat_feature.append(\"SaleType\")\n",
    "    # ************************************************************************\n",
    "    \"\"\"\n",
    "    Use Label Encoding, we do not have enough info to use lavel encoding now.\n",
    "    \"\"\"\n",
    "    lbl = LabelEncoder()\n",
    "    lbl.fit(list(df[\"SaleType\"].values))\n",
    "    df[\"SaleType\"] = lbl.transform(list(df[\"SaleType\"].values))\n",
    "\n",
    "    dummy = \"SaleType\"\n",
    "    print(\"Feature: ->\", dummy, \"<-\")\n",
    "    print(\"Values: \", set(df.filter(regex='^'+dummy).values.flatten()))\n",
    "    print(\"No of additional features: \", len(\n",
    "        df.filter(regex='^'+dummy).columns))\n",
    "\n",
    "    # SaleCondition\n",
    "    cat_feature.append(\"SaleCondition\")\n",
    "    # ************************************************************************\n",
    "    lbl = LabelEncoder()\n",
    "    lbl.fit(list(df[\"SaleCondition\"].values))\n",
    "    df[\"SaleCondition\"] = lbl.transform(list(df[\"SaleCondition\"].values))\n",
    "\n",
    "    dummy = \"SaleCondition\"\n",
    "    print(\"Feature: ->\", dummy, \"<-\")\n",
    "    print(\"Values: \", set(df.filter(regex='^'+dummy).values.flatten()))\n",
    "    print(\"No of additional features: \", len(\n",
    "        df.filter(regex='^'+dummy).columns))\n",
    "\n",
    "    \"\"\"\n",
    "    ********************\n",
    "    ADDING EXTRA FEATURE\n",
    "    ********************\n",
    "    \"\"\"\n",
    "\n",
    "    # Adding Renovated as categorical\n",
    "    \"\"\"\n",
    "    Renovated/new if delta is less than 5 years ago, NotRenovated otherse\n",
    "    Alternatively one can simply use a flag to indicated if this was renovated\n",
    "    or not since built. But would you consider it new it was renovated 20 yrs ago?\n",
    "    Probably not, hence my choice.\n",
    "    \"\"\"\n",
    "    #print(\"Adding feature: Renovated\")\n",
    "    #delta = df['YearRemodAdd'] - df['YearBuilt']\n",
    "    #df['Renovated'] = [1 if i >= 10 else 0 for i in delta]\n",
    "    # df['YearsSinceRemodel'] = df['YrSold'].astype(int) - df['YearRemodAdd'].astype(int)\n",
    "    # df.drop(columns=['YearBuilt'], inplace=True)\n",
    "    # df.drop(columns=['YearRemodAdd'], inplace=True)\n",
    "\n",
    "    # print(\"Adding feature: YrSinceRemodel\")\n",
    "    # print(df['YrSold'].unique())\n",
    "    # print(df['YearRemodAdd'].unique())\n",
    "    # df['YrSinceRemodel'] = df['YrSold'].astype(int) - df['YearRemodAdd'].astype(int)\n",
    "\n",
    "    #print(\"Adding feature: SqFtPerRoom\")\n",
    "    \"\"\"\n",
    "    The average size per room\n",
    "    \"\"\"\n",
    "    # df[\"SqFtPerRoom\"] = df[\"GrLivArea\"] / (df[\"TotRmsAbvGrd\"] +\n",
    "    #                                       df[\"FullBath\"] +\n",
    "    #                                       df[\"HalfBath\"] +\n",
    "    #                                       df[\"KitchenAbvGr\"])\n",
    "\n",
    "    # NEED TO REVISIT THIS one!\n",
    "    #print(\"Adding feature: TotalSF\")\n",
    "    #df['TotalSF'] = df['TotalBsmtSF'] + df['1stFlrSF'] + df['2ndFlrSF']\n",
    "\n",
    "    # df.drop(columns=[\"GrLivArea\"], inplace=True)\n",
    "\n",
    "    \"\"\"\n",
    "    Option No1: Keep only the original seaparate features\n",
    "    Option No2: Add a total No of featues and keep each single features\n",
    "    Option No3: Add a total No of featues and drop each single features\n",
    "    We'll go for #3 for the simple reason that we'd like to keep the number\n",
    "    of feature low\n",
    "    \"\"\"\n",
    "\n",
    "    #print(\"Adding features: BsmtFinTypeX_Finished\")\n",
    "\n",
    "    # def BsmtFinTypeX_Finished(value):\n",
    "    #    if value == 'Unf':\n",
    "    #        return 0\n",
    "    #    return 1\n",
    "    #df['BsmtFinType1_Unf'] = df['BsmtFinType1'].apply(BsmtFinTypeX_Finished)\n",
    "    #df['BsmtFinType2_Unf'] = df['BsmtFinType2'].apply(BsmtFinTypeX_Finished)\n",
    "\n",
    "    \"\"\"\n",
    "    We are going to create an additional column for each variable that has entries equal zero.\n",
    "    This is to give the model the capability to see things like: present or not present.\n",
    "    One is enough because it's a binary categorical feature. The alternative would be to\n",
    "    use True or False but this will need to be hot-encoded which will increase the number of\n",
    "    columns whcih is NOT advisbale for such a small dataset.\n",
    "    \"\"\"\n",
    "    def has_it_if_not_zero(value):\n",
    "        value = float(value)\n",
    "        if value == 0.0:\n",
    "            return 0\n",
    "        return 1\n",
    "\n",
    "    #print(\"Adding features: HasWoodDeck\")\n",
    "    #df['HasWoodDeck'] = (df[\"WoodDeckSF\"] == 0) * 1\n",
    "    # df.drop(columns=['WoodDeckSF'], inplace=True)\n",
    "\n",
    "    # print(\"Adding features: HasOpenPorch\")\n",
    "    # df['HasOpenPorch']=(df['OpenPorchSF'] == 0) * 1\n",
    "\n",
    "    # print(\"Adding features: HasEnclosedPorch\")\n",
    "    # df['HasEnclosedPorch']=(df['EnclosedPorch'] == 0) * 1\n",
    "\n",
    "    # print(\"Adding features: Has3SsnPorch\")\n",
    "    # df['Has3SsnPorch']=(df['3SsnPorch'] == 0) * 1\n",
    "\n",
    "    # print(\"Adding features: ScreenPorch\")\n",
    "    # df['HasScreenPorch']=(df['ScreenPorch'] == 0) * 1\n",
    "\n",
    "    #print(\"Adding features: TotalPorchSF\")\n",
    "    #df['TotalPorchSF'] = (df['TotalPorchSF'] == 0) * 1\n",
    "\n",
    "    # df.drop(columns=['OpenPorchSF'], inplace=True)\n",
    "    # df.drop(columns=['3SsnPorch'], inplace=True)\n",
    "    # df.drop(columns=['ScreenPorch'], inplace=True)\n",
    "    # df.drop(columns=['EnclosedPorch'], inplace=True)\n",
    "\n",
    "    #print(\"Adding features: HasPool\")\n",
    "    # df['HasPool']=df['PoolArea'].apply(has_it_if_not_zero)\n",
    "    # df.drop(columns=['PoolArea'], inplace=True)\n",
    "\n",
    "    #print(\"Adding features: Has2ndFloor\")\n",
    "    #df['Has2ndFloor'] = (df[\"2ndFlrSF\"] == 0) * 1\n",
    "    # df.drop(columns=['2ndFlrSF'], inplace=True)\n",
    "\n",
    "    #print(\"Adding features: HasGargage\")\n",
    "    #df['HasGarage'] = df['GarageArea'].apply(has_it_if_not_zero)\n",
    "    # df.drop(columns=['GarageArea'], inplace=True)\n",
    "\n",
    "    #print(\"Adding features: HasBasmt\")\n",
    "    #df['HasTotalBs`mt'] = df['TotalBsmtSF'].apply(has_it_if_not_zero)\n",
    "    # df.drop(columns=['TotalBsmtSF'], inplace=True)\n",
    "\n",
    "    #print(\"Adding features: HasFireplaces\")\n",
    "    #df['HasFireplaces'] = df['Fireplaces'].apply(has_it_if_not_zero)\n",
    "    # df.drop(columns=['Fireplaces'], inplace=True)\n",
    "\n",
    "    #print(\"Adding feature: isRegularLotShape\")\n",
    "    \"\"\"\n",
    "    This will add 1 were there True and zero when is Fale\n",
    "    \"\"\"\n",
    "    #df[\"isRegularLotShape\"] = (df['LotShape'] == 3)*1\n",
    "\n",
    "    #print(\"Adding feature: IsLandLevel\")\n",
    "    \"\"\"\n",
    "    Most properties are level; bin the other possibilities together\n",
    "    as \"not level\". 3 corresponds to Near Flat/Level\n",
    "    \"\"\"\n",
    "    #df[\"IsLandLevel\"] = (df[\"LandContour\"] == 3) * 1\n",
    "\n",
    "    #print(\"Adding feature: IsLandSlopeGentle\")\n",
    "    \"\"\"\n",
    "    Most land slopes are gentle; treat the others as \"not gentle\".\n",
    "    2 corresponds to Gentle slope\n",
    "    \"\"\"\n",
    "    #df[\"IsLandSlopeGentle\"] = (df[\"LandSlope\"] == 2) * 1\n",
    "\n",
    "    #print(\"Adding feature: IsElectricalSBrkr\")\n",
    "    \"\"\"\n",
    "    Most properties use standard circuit breakers.\n",
    "    4 correspond to SBrkr = Standard Circuit Breakers & Romex\n",
    "    which we assumed is the best option available\n",
    "    \"\"\"\n",
    "    #df[\"IsElectricalSBrkr\"] = (df[\"Electrical\"] == 4) * 1\n",
    "\n",
    "    #print(\"Adding feature: IsGarageDetached\")\n",
    "    \"\"\"\n",
    "    # About 2/3rd have anLowQualFinSF_Flag attached garage.\n",
    "    1 means gargae is detached\n",
    "    \"\"\"\n",
    "    #df[\"IsGarageDetached\"] = (df[\"GarageType\"] == 1) * 1\n",
    "\n",
    "    #print(\"Adding feature: IsPavedDrive\")\n",
    "    \"\"\"\n",
    "    Most have a paved drive. Treat dirt/gravel and partial pavement\n",
    "    as \"not paved\".\n",
    "    \"\"\"\n",
    "    #df[\"IsPavedDrive\"] = (df[\"PavedDrive\"] == 2) * 1\n",
    "\n",
    "    #print(\"Adding feature: HasMasVnr\")\n",
    "    #df[\"HasMasVnr\"] = (df[\"df = pd.get_dummies(DF,MasVnrArea\"] == 0) * 1\n",
    "\n",
    "    print(\"\\n\")\n",
    "    print(\"Shape AFTER\", df.shape)\n",
    "    num_feature = set(df.columns) - set(cat_feature)\n",
    "    return df, cat_feature, num_feature"
   ]
  },
  {
   "cell_type": "code",
   "execution_count": null,
   "metadata": {},
   "outputs": [],
   "source": [
    "train.columns"
   ]
  },
  {
   "cell_type": "code",
   "execution_count": null,
   "metadata": {
    "cell_style": "split",
    "scrolled": true
   },
   "outputs": [],
   "source": [
    "train_, cat_cols_train, num_cols_train = features_engineering(train)"
   ]
  },
  {
   "cell_type": "code",
   "execution_count": null,
   "metadata": {
    "cell_style": "split",
    "scrolled": true
   },
   "outputs": [],
   "source": [
    "test_, cat_cols_test, num_cols_test = features_engineering(test)"
   ]
  },
  {
   "cell_type": "code",
   "execution_count": null,
   "metadata": {},
   "outputs": [],
   "source": [
    "#print(train_cat_feat_final)\n",
    "#print(train_num_feat_final)\n",
    "#stop"
   ]
  },
  {
   "cell_type": "code",
   "execution_count": null,
   "metadata": {},
   "outputs": [],
   "source": [
    "# Routine check on the dimensions\n",
    "_,_ = get_features_type(train_)\n",
    "_,_ = get_features_type(test_)"
   ]
  },
  {
   "cell_type": "markdown",
   "metadata": {},
   "source": [
    "- We can see we have taken care of all the categorical features."
   ]
  },
  {
   "cell_type": "code",
   "execution_count": null,
   "metadata": {},
   "outputs": [],
   "source": [
    "train = train_\n",
    "test = test_"
   ]
  },
  {
   "cell_type": "code",
   "execution_count": null,
   "metadata": {},
   "outputs": [],
   "source": [
    "# This is just a sanity check\n",
    "#train[\"IsLandLevel\"].unique()"
   ]
  },
  {
   "cell_type": "code",
   "execution_count": null,
   "metadata": {},
   "outputs": [],
   "source": [
    "# This is just a sanity check\n",
    "#train[\"isRegularLotShape\"].unique()"
   ]
  },
  {
   "cell_type": "code",
   "execution_count": null,
   "metadata": {},
   "outputs": [],
   "source": [
    "train[\"GarageYrBlt\"]"
   ]
  },
  {
   "cell_type": "markdown",
   "metadata": {},
   "source": [
    "# Feature transformation"
   ]
  },
  {
   "cell_type": "markdown",
   "metadata": {},
   "source": [
    "- Let's create more features by calculating the log and square transformations of our numerical features. \n",
    "- One of the thing we can do is to use each numerical feature:\n",
    "    - as they are done\n",
    "    - use its log-transform, which helps when you have a skew distribution\n",
    "    - use its square value.\n",
    "    \n",
    "- The **rationale** is as follows: if a feature is not correlated with its raw value, maybe its square is? This way of thinking does not end with the square, in can be any degree, generally we do not go over the third degree as can be seen [here](https://www.kaggle.com/juliencs/a-study-on-regression-applied-to-the-ames-dataset/notebook). Maybe, we can just improve the correlation type a bit. Since this is a competition, I am assuming everybuilt helps."
   ]
  },
  {
   "cell_type": "markdown",
   "metadata": {},
   "source": [
    "**ATTENTION** We can use the log transform only on those feature ave not transformed yet!"
   ]
  },
  {
   "cell_type": "markdown",
   "metadata": {},
   "source": [
    "- But how do you fit a model to data with complex relationships, unexplainable by a linear function? The most common way to fit curves to the data is to include polynomial terms, such as squared or cubed predictors. Typically, you choose the model order by the number of bends you need in your line. Each increase in the exponent produces one more bend in the curved fitted line. It’s very rare to use more than a cubic term.\n",
    "- **In practice** Since we have such a high number of variables in the dataset, it's overkill to create polynomials of each feature. Therefore, I will look at the top 10 correlating features with the target variable from the training dataset and create polynomials of these features, or equivalently the new combinations I have created from them. **Alternatively**, just create them all and then keep only the most important.\n",
    "- Credit to this [reference](https://www.kaggle.com/agodwinp/stacking-house-prices-walkthrough-to-top-5)"
   ]
  },
  {
   "attachments": {
    "image.png": {
     "image/png": "[encoded data removed]"
    }
   },
   "cell_type": "markdown",
   "metadata": {},
   "source": [
    "![image.png](attachment:image.png)"
   ]
  },
  {
   "cell_type": "code",
   "execution_count": null,
   "metadata": {},
   "outputs": [],
   "source": [
    "# The data has changed so we'll recompute the cat and num columns\n",
    "#cat_cols_train, num_cols_train = get_cat_num_df(train)\n",
    "#cat_cols_test, num_cols_test = get_cat_num_df(test)"
   ]
  },
  {
   "cell_type": "markdown",
   "metadata": {},
   "source": [
    "- This list was built manually.\n",
    "- The EDA analysis done under `Features analysis` helped us fill the explainers listed in `columns_to_transform`.\n",
    "- Those under the `columns_to_log` are feature that need to be normalised in a way or the others. However, we need to make sure that this has not been done already under the section dedicated to skewed features."
   ]
  },
  {
   "cell_type": "code",
   "execution_count": null,
   "metadata": {
    "scrolled": true
   },
   "outputs": [],
   "source": [
    "columns_to_log = [ ]"
   ]
  },
  {
   "cell_type": "code",
   "execution_count": null,
   "metadata": {},
   "outputs": [],
   "source": [
    "columns_to_power = [\"OverallQual\", \"GarageCars\", \"Fireplaces\"]"
   ]
  },
  {
   "cell_type": "code",
   "execution_count": null,
   "metadata": {
    "code_folding": [
     0,
     25,
     51
    ]
   },
   "outputs": [],
   "source": [
    "def logs(df, columns):\n",
    "    \"\"\"\n",
    "    Log the feature.\n",
    "    \n",
    "    Attributes\n",
    "    ----------\n",
    "    df : pandas dataframe\n",
    "    columns : list\n",
    "        List of column name\n",
    "    \n",
    "    Returns\n",
    "    -------\n",
    "    df : pandas dataframe\n",
    "        The transform dataframe\n",
    "    \n",
    "    The 1.01 is added to avoid issues with small numbers\n",
    "    \n",
    "    \"\"\"\n",
    "    m = df.shape[1]\n",
    "    for l in columns:\n",
    "        df = df.assign(newcol=pd.Series(np.log(1.01+df[l])).values)\n",
    "        df.columns.values[m] = l + '_log'\n",
    "        m += 1\n",
    "    return df\n",
    "\n",
    "def power(df, columns, powers):\n",
    "    \"\"\"\n",
    "    Create any feature power.\n",
    "    \n",
    "    Attributes\n",
    "    ----------\n",
    "    df : pandas dataframe\n",
    "    columns : list\n",
    "        List of column name\n",
    "    powers: list of float\n",
    "        The degree of the desired polynomial\n",
    "    \n",
    "    Returns\n",
    "    -------\n",
    "    df : pandas dataframe\n",
    "        The transform dataframe    \n",
    "    \"\"\"\n",
    "    \n",
    "    m = df.shape[1]\n",
    "    for l in columns:\n",
    "        for power_temp in powers:\n",
    "            df = df.assign(newcol=pd.Series(df[l]**power_temp).values)\n",
    "            df.columns.values[m] = l + '_deg_' + str(power_temp)\n",
    "            m += 1\n",
    "    return df\n",
    "\n",
    "def one_over(df, columns):\n",
    "    \"\"\"\n",
    "    Create any feature power.\n",
    "    \n",
    "    Attributes\n",
    "    ----------\n",
    "    df : pandas dataframe\n",
    "    columns : list\n",
    "        List of column name\n",
    "\n",
    "    Returns\n",
    "    -------\n",
    "    df : pandas dataframe\n",
    "        The transform dataframe    \n",
    "    \"\"\"\n",
    "    \n",
    "    m = df.shape[1]\n",
    "    for l in columns:\n",
    "        # We'll add a small number to avoid dividing by small number\n",
    "        # which will lead to infinite result\n",
    "        df = df.assign(newcol=pd.Series(1/(0.001+df[l])).values)\n",
    "        df.columns.values[m] = l + '_one_over'\n",
    "        m += 1\n",
    "    return df"
   ]
  },
  {
   "cell_type": "markdown",
   "metadata": {},
   "source": [
    "- Only those that were originally tagged as numerical.\n",
    "- Essentially, we have to exclude those that were hot encoded.\n",
    "- The power values we are using are as follows:\n",
    "    - `2` for a quadratic relationship as in `x^2`\n",
    "    - `3` for a cubic relationship as in `x^3`\n",
    "    - `0.5=1/2` for a squared root relationship as in `np.sqrt(x)`\n",
    "    - `-1` for an inverse relationship as in `1/x`\n",
    "- **WARNING**: pay attention to what to power because if the number are really big alread then you may get an error like this: `ValueError: Input contains NaN, infinity or a value too large for dtype('float32').` This is especially true if work with regression trees ins scikit-leanr."
   ]
  },
  {
   "cell_type": "code",
   "execution_count": null,
   "metadata": {},
   "outputs": [],
   "source": [
    "# ATTENTION, do we need to log again? has the box-cox transform already done the job?\n",
    "\n",
    "# We do not want to touch the target column\n",
    "#train_ = logs(train, columns_to_log)\n",
    "train_ = power(train_, columns_to_power, [0.5, 2, 3])\n",
    "#train_ = one_over(train_, columns_to_power)\n",
    "\n",
    "#test_ = logs(test, columns_to_power)\n",
    "test_ = power(test_, columns_to_power, [0.5, 2, 3])\n",
    "#test_ = one_over(test_, columns_to_power)\n",
    "\n",
    "dsp(train_.shape)\n",
    "dsp(test_.shape)"
   ]
  },
  {
   "cell_type": "code",
   "execution_count": null,
   "metadata": {},
   "outputs": [],
   "source": [
    "# ATTENTION one over is not used because we need to find a way to deal with infinite and NaN!"
   ]
  },
  {
   "cell_type": "code",
   "execution_count": null,
   "metadata": {},
   "outputs": [],
   "source": [
    "train = train_\n",
    "test = test_"
   ]
  },
  {
   "cell_type": "markdown",
   "metadata": {},
   "source": [
    "# Features selection"
   ]
  },
  {
   "cell_type": "markdown",
   "metadata": {},
   "source": [
    "- The reason why we are doing this here is again to make sure, we are getting the real information out of this step.\n",
    "- In fact we have done two important operation: 1) imputation and 2) feature engineering. It means the explainers are now different than the original dataset.\n",
    "- If we had done this at the beggining we'd have lost part of the information added later one.\n",
    "\n",
    "- [House Prices - EDA Stacking XGB LGB](https://www.kaggle.com/squarex/house-prices-eda-stacking-xgb-lgb#Baseline-model) Very interesting analysis on how to compute the correlation for numerical, categorical and the mix of the two."
   ]
  },
  {
   "cell_type": "markdown",
   "metadata": {},
   "source": [
    "## Numerical features"
   ]
  },
  {
   "cell_type": "markdown",
   "metadata": {},
   "source": [
    "- Heatmap is an excellent way to identify whether there is multicollinearity or not. If you are using linear mode, the best way to solve multicollinearity is to use regularisation methods like Ridge or Lasso.\n",
    "- Find out correlation between numeric features and SalePrice and select features with correlation >0.2 for modeling.\n",
    "- Remember that you can also do the same thing for categorical features but you need to encode it. We'll show it later.\n",
    "- **Spearman correlation is better to work with in this case because it picks up relationships between variables even when they are nonlinear.**"
   ]
  },
  {
   "cell_type": "code",
   "execution_count": null,
   "metadata": {
    "scrolled": false
   },
   "outputs": [],
   "source": [
    "num_cols_train = train.select_dtypes(exclude=['object'])\n",
    "corr = num_cols_train.corr()\n",
    "plt.figure(figsize=(15, 15))\n",
    "rcParams['font.size'] = 20\n",
    "plt.title('Numeric Feature Correlation of Sale Price', fontsize=18)\n",
    "mask = np.triu(np.ones_like(corr, dtype=bool))\n",
    "sns.heatmap(corr, annot=True, cmap='RdYlBu',\n",
    "            linewidths=0.2, annot_kws={'size': 2}, mask=mask,  fmt='.0%', vmin=-1, vmax=1)\n",
    "plt.show()"
   ]
  },
  {
   "cell_type": "markdown",
   "metadata": {},
   "source": [
    "- The correlation plot above cannot be read very well.\n",
    "- We can mask most of the entry like this."
   ]
  },
  {
   "cell_type": "code",
   "execution_count": null,
   "metadata": {},
   "outputs": [],
   "source": [
    "plt.figure(figsize=(15, 15))\n",
    "plt.title('Numeric Feature Correlation of Sale Price', fontsize=18)\n",
    "sns.heatmap(corr[(corr >= 0.5) | (corr <= -0.5)], annot=True, cmap='RdYlBu',\n",
    "            linewidths=0.2, annot_kws={'size': 2}, mask=mask,  fmt='.0%', vmin=-1, vmax=1)\n",
    "plt.show()"
   ]
  },
  {
   "cell_type": "markdown",
   "metadata": {},
   "source": [
    "- As we can see, the multicollinearity still exists in various features. However, we will keep them for now for the sake of learning and let the models(e.x. Regularization models such as Lasso, Ridge) do the clean up later on. Let's go through some of the correlations that still exists.\n",
    "\n",
    "    - There is 0.83 or 83% correlation between GarageYrBlt and YearBuilt.\n",
    "    - 83% correlation between TotRmsAbvGrd and GrLivArea.\n",
    "    - 89% correlation between GarageCars and GarageArea.\n",
    "    - Similarly many other features such asBsmtUnfSF, FullBath have good correlation with other independent feature.\n",
    "\n",
    "- If I were using only multiple linear regression, I would be deleting these features from the dataset to fit better multiple linear regression algorithms. However, we will be using many algorithms as scikit learn modules makes it easy to implement them and get the best possible outcome. Therefore, we will keep all the features for now.\n",
    "- Credit to [reference](https://www.kaggle.com/masumrumi/a-detailed-regression-guide-with-house-pricing/notebook)"
   ]
  },
  {
   "cell_type": "code",
   "execution_count": null,
   "metadata": {
    "code_folding": [],
    "scrolled": true
   },
   "outputs": [],
   "source": [
    "plt.figure(figsize=(8, 25))\n",
    "rcParams['font.size'] = 20\n",
    "heatmap = sns.heatmap(corr[['SalePrice']].sort_values(\n",
    "    by='SalePrice', ascending=False), vmin=-1, vmax=1, annot=True, cmap='RdYlBu',\n",
    "    annot_kws={'size': 15})\n",
    "heatmap.set_title('Features Correlating with Sales Price',\n",
    "                  fontdict={'fontsize': 20}, pad=16)"
   ]
  },
  {
   "cell_type": "markdown",
   "metadata": {},
   "source": [
    "- **WARNING** Although we set outself up to look for all possible and best features possible. Look at what is happening here: feature `GarageCars` when power to 2 and 3 seems to have a very nice colleration with the SalePrice. However, if naively take the top 20 we may take feature that are highly correlated to each otehr and this may confuses the model."
   ]
  },
  {
   "cell_type": "code",
   "execution_count": null,
   "metadata": {
    "scrolled": true
   },
   "outputs": [],
   "source": [
    "print(\"Find most important features relative to target\")\n",
    "corr = train.corr()\n",
    "corr.sort_values([\"SalePrice\"], ascending = False, inplace = True)\n",
    "print(corr.SalePrice[corr.SalePrice>0.2])"
   ]
  },
  {
   "cell_type": "code",
   "execution_count": null,
   "metadata": {},
   "outputs": [],
   "source": [
    "pd.DataFrame(corr[\"SalePrice\"]).T"
   ]
  },
  {
   "cell_type": "code",
   "execution_count": null,
   "metadata": {},
   "outputs": [],
   "source": [
    "plt.figure(figsize=(15, 15))\n",
    "rcParams['font.size'] = 15\n",
    "sns.barplot(data=pd.DataFrame(corr[\"SalePrice\"]).T, orient='h')\n",
    "#sns.barplot(x = \"SalePrice\", data=corr, orient='h')\n",
    "plt.axvline(x=0.2, color='k', linestyle='-', lw=3, label='Reference line')\n",
    "plt.axvline(x=-0.2, color='k', linestyle='-', lw=3)\n",
    "\n",
    "plt.title(\"Numeric Features' Correlation for Sale Price\")\n",
    "plt.xlabel('Corrlelation')\n",
    "plt.ylabel('Numeric Features')\n",
    "plt.show()"
   ]
  },
  {
   "cell_type": "markdown",
   "metadata": {},
   "source": [
    "- Select all the feature that have a correlation higher than 0.2\n",
    "- Please note we have used `abs()` which means we are selection all above 0.2 as well as those below -0.2"
   ]
  },
  {
   "cell_type": "code",
   "execution_count": null,
   "metadata": {
    "scrolled": false
   },
   "outputs": [],
   "source": [
    "corrmat = train.corr()\n",
    "top_numeric_features = corrmat.index[abs(corrmat[\"SalePrice\"]) > 0.2]\n",
    "plt.figure(figsize=(15, 15))\n",
    "mask = np.triu(np.ones_like(top_numeric_features, dtype=bool))\n",
    "g = sns.heatmap(train[top_numeric_features].corr(),\n",
    "                annot=True, cmap=\"RdYlGn\", mask=mask, fmt='.0%', vmin=-1, vmax=1, linewidths=0.2,\n",
    "                annot_kws={'size': 5})"
   ]
  },
  {
   "cell_type": "code",
   "execution_count": null,
   "metadata": {},
   "outputs": [],
   "source": [
    "top_numeric_features"
   ]
  },
  {
   "cell_type": "markdown",
   "metadata": {},
   "source": [
    "- **REPEATING THE PREVIOUS WARNING** Although we set outself up to look for all possible and best features possible. Look at what is happening here: feature GarageCars when power to 2 and 3 seems to have a very nice colleration with the SalePrice. However, if naively take the top 20 we may take feature that are highly correlated to each otehr and this may confuses the model.\n",
    "- Therefore here we remove the repeated ones and we keep that we the highest correlation.\n",
    "- Here is a list of duplicated and the most correlated one:\n",
    "    - Fireplaces_deg_0.5\n",
    "    - GarageCars\n",
    "    - OverallQual"
   ]
  },
  {
   "cell_type": "code",
   "execution_count": null,
   "metadata": {
    "scrolled": true
   },
   "outputs": [],
   "source": [
    "set(top_numeric_features)"
   ]
  },
  {
   "cell_type": "code",
   "execution_count": null,
   "metadata": {},
   "outputs": [],
   "source": [
    "top_numeric_features = top_numeric_features.drop([\"Fireplaces\", \n",
    "                                                  \"Fireplaces_deg_2\", \n",
    "                                                  \"Fireplaces_deg_3\",\n",
    "                                                  \"GarageCars_deg_0.5\",\n",
    "                                                  \"GarageCars_deg_2\",\n",
    "                                                  \"GarageCars_deg_3\",\n",
    "                                                  \"OverallQual_deg_0.5\",\n",
    "                                                  \"OverallQual_deg_2\",\n",
    "                                                  \"OverallQual_deg_3\"\n",
    "                                                 ])"
   ]
  },
  {
   "cell_type": "code",
   "execution_count": null,
   "metadata": {
    "scrolled": true
   },
   "outputs": [],
   "source": [
    "set(top_numeric_features)"
   ]
  },
  {
   "cell_type": "markdown",
   "metadata": {},
   "source": [
    "- Show the most correlated feature by box plot.\n",
    "- In this case we'll consider the most correlated one and show how by increasing the `OverQual` the price changes."
   ]
  },
  {
   "cell_type": "code",
   "execution_count": null,
   "metadata": {
    "scrolled": true
   },
   "outputs": [],
   "source": [
    "print(corr.SalePrice[corr.SalePrice>0.2])"
   ]
  },
  {
   "cell_type": "code",
   "execution_count": null,
   "metadata": {},
   "outputs": [],
   "source": [
    "corr.SalePrice[corr.SalePrice>0.2].index"
   ]
  },
  {
   "cell_type": "markdown",
   "metadata": {},
   "source": [
    "- We are plotting only those variables that have a low cardinality otherwie the plotting would take too long."
   ]
  },
  {
   "cell_type": "code",
   "execution_count": null,
   "metadata": {
    "code_folding": [
     0
    ]
   },
   "outputs": [],
   "source": [
    "def plot_box_stripplot_violin_plots(df, features, y):\n",
    "    \"\"\"Plot how the target varies wrt to feature chanegs.\n",
    "    \n",
    "    This is achieved via three plots:\n",
    "    [1] box plot :\n",
    "    [2] stro plot :\n",
    "    [3] violin plot : \n",
    "    [4] bar plot :  A bar plot represents an estimate of central \n",
    "    tendency for a numeric variable with the height of each rectangle\n",
    "    ]and provides some indication of the uncertainty around that \n",
    "    estimate using error bars.\n",
    "    \n",
    "    Parameters\n",
    "    ----------\n",
    "    features : list of string\n",
    "        List of features name\n",
    "        \n",
    "    y : string\n",
    "        The target variable name\n",
    "    \n",
    "    Returns\n",
    "    -------\n",
    "    None\n",
    "    \"\"\"\n",
    "\n",
    "    for i in features:\n",
    "        rcParams['font.size'] = 20\n",
    "        if i != \"SalePrice\":            \n",
    "            fig, ax = plt.subplots(4, 1, figsize=(20, 15))\n",
    "            sns.boxplot(data=df, x=i, y=y, ax=ax[0])\n",
    "            sns.stripplot(data=df, x=i, y=y, ax=ax[1])\n",
    "            sns.violinplot(data=df, x=i, y=y, ax=ax[2])\n",
    "            sns.barplot(x=i, y=y, data=df, ax=ax[3])\n",
    "            plt.tight_layout()\n",
    "            plt.show()"
   ]
  },
  {
   "cell_type": "code",
   "execution_count": null,
   "metadata": {
    "scrolled": true
   },
   "outputs": [],
   "source": [
    "features = [\"GarageCars\", \"Total_Bathrooms\", \"TotRmsAbvGrd\", \"Fireplaces\"]\n",
    "#features = corr.SalePrice[corr.SalePrice>0.2].index\n",
    "y = \"SalePrice\"\n",
    "plot_box_stripplot_violin_plots(train, features, y)"
   ]
  },
  {
   "cell_type": "code",
   "execution_count": null,
   "metadata": {
    "code_folding": [
     0
    ]
   },
   "outputs": [],
   "source": [
    "def plot_reg_plot(features, y_target, df):\n",
    "    \"\"\"\n",
    "    \"\"\"\n",
    "\n",
    "    for i in features:\n",
    "\n",
    "        plt.figure(figsize=(12, 6))\n",
    "        sns.regplot(data=df, x=i,\n",
    "                    y=y_target, scatter_kws={'alpha': 0.2})\n",
    "        plt.title('Regression plot btw OverallQual and SalePrice', fontsize=12)\n",
    "        plt.show()"
   ]
  },
  {
   "cell_type": "code",
   "execution_count": null,
   "metadata": {
    "scrolled": true
   },
   "outputs": [],
   "source": [
    "#features = [\"OverallQual\", \"HalfBath\"]\n",
    "y = \"SalePrice\"\n",
    "plot_reg_plot(features, y, train)"
   ]
  },
  {
   "cell_type": "markdown",
   "metadata": {},
   "source": [
    "## Mutual Info"
   ]
  },
  {
   "cell_type": "markdown",
   "metadata": {},
   "source": [
    "- Mutual information (MI) between two random variables is a non-negative value, which measures the dependency between the variables. \n",
    "- It is equal to zero if and only if two random variables are independent, and higher values mean higher dependency.\n",
    "- **F-test vs. mutual information**: F-test captures only linear dependency, whereas mutual information can capture any kind of dependency between variables.\n",
    "- More info [here](https://scikit-learn.org/stable/modules/generated/sklearn.feature_selection.mutual_info_regression.html)"
   ]
  },
  {
   "cell_type": "code",
   "execution_count": null,
   "metadata": {
    "code_folding": []
   },
   "outputs": [],
   "source": [
    "from sklearn.feature_selection import mutual_info_regression\n",
    "\n",
    "def show_mi(X, y=y, clean=False):\n",
    "    if clean:\n",
    "        X = force_clean(X)\n",
    "    \n",
    "    columns_discrete = X.select_dtypes(['object', 'category'])\n",
    "    discrete_features = X.columns.isin(columns_discrete)\n",
    "    \n",
    "    mi = mutual_info_regression(X, y,\n",
    "                                random_state=12,\n",
    "                                discrete_features=discrete_features)\n",
    "\n",
    "    s = pd.Series(mi, index=X.columns, name='mutual_info_regression')\\\n",
    "          .sort_values(ascending=False)\n",
    "          \n",
    "    return s, s.to_frame().style.bar()"
   ]
  },
  {
   "cell_type": "code",
   "execution_count": null,
   "metadata": {
    "scrolled": true
   },
   "outputs": [],
   "source": [
    "s, mi = show_mi(train, train[\"SalePrice\"])"
   ]
  },
  {
   "cell_type": "code",
   "execution_count": null,
   "metadata": {},
   "outputs": [],
   "source": [
    "s"
   ]
  },
  {
   "cell_type": "code",
   "execution_count": null,
   "metadata": {},
   "outputs": [],
   "source": [
    "mi"
   ]
  },
  {
   "cell_type": "markdown",
   "metadata": {},
   "source": [
    "# Create final dataset"
   ]
  },
  {
   "cell_type": "markdown",
   "metadata": {},
   "source": [
    "- Create dummy features for categorical values via one-hot encoding.\n",
    "- It **important** you concatenate the two datasets here before you perform the one-hot-encoding.\n",
    "- If you are wondering why we are mering the dataset now and then doing some one-hot encoding later. Later is simple: we do not have any other option. In this dataset the train and set have some categorical vairbales where some entries are not present in both sets. For this reason we are \"forced\" to merge now. If we do not, the two set will end up having different number of columns."
   ]
  },
  {
   "cell_type": "markdown",
   "metadata": {},
   "source": [
    "- **Important references on how to merge the train and test data**:\n",
    "    - [Where the problem lies?](https://www.kaggle.com/questions-and-answers/234176)"
   ]
  },
  {
   "cell_type": "markdown",
   "metadata": {},
   "source": [
    "- At this point we have the following situation:\n",
    "    - We have dealt with most of the categorical features, but there is still some of them that need to be hot-encoded. This is the situation were we could not use other type of encoding. One-hot encoding is partiuclar because it does not rank the entry but adds an extra columns. If we have a feature in the train that has 3 distinc entry but the same feature has only two entries in the test set we;ll end up with a different number of columns and this will NOT work.\n",
    "    - We'll also know we have talked a great deal how to avoid leakage so how do we get out of this?\n",
    "    \n",
    "- A solution is what this [reference](https://www.kaggle.com/humananalog/xgboost-lasso) suggested. Essentially, since we now that train and test set are not representative of each other we will:\n",
    "    - One-hot encode the train set\n",
    "    - One-hot encode the test set\n",
    "    - Find out what is present in train set but NOT in test set and **vice-versa**.\n",
    "    - Remove these from the train set\n",
    "- **In this way, although we have removed some feature instances, we have essentially leaking info.**"
   ]
  },
  {
   "cell_type": "code",
   "execution_count": null,
   "metadata": {
    "cell_style": "center"
   },
   "outputs": [],
   "source": [
    "# Get an idea of the remaining categorical variable\n",
    "cat_cols_train, num_cols_train = get_cat_num_df(train)\n",
    "cat_cols_test, num_cols_test = get_cat_num_df(test)"
   ]
  },
  {
   "cell_type": "code",
   "execution_count": null,
   "metadata": {
    "cell_style": "split"
   },
   "outputs": [],
   "source": [
    "cat_cols_train.columns"
   ]
  },
  {
   "cell_type": "code",
   "execution_count": null,
   "metadata": {
    "cell_style": "split"
   },
   "outputs": [],
   "source": [
    "cat_cols_test.columns"
   ]
  },
  {
   "cell_type": "code",
   "execution_count": null,
   "metadata": {
    "scrolled": true
   },
   "outputs": [],
   "source": [
    "# From this print out we can see that there are some entries that are not commonly \n",
    "# shared between test and train sets\n",
    "for i in cat_cols_train.columns:\n",
    "    print(\"*********************\")\n",
    "    print(\"Analysing feature:\", i)\n",
    "    print(\"Present in TRAIN but not in TEST:\", get_non_common_values(train[i], test[i]))\n",
    "    print(\"Present in TEST but not in TRAIN:\", get_non_common_values(test[i], train[i]))\n",
    "    "
   ]
  },
  {
   "cell_type": "code",
   "execution_count": null,
   "metadata": {},
   "outputs": [],
   "source": [
    "# At this point, we'll proceed with two distinct encoding\n",
    "#train_ = pd.get_dummies(train)\n",
    "#test_ = pd.get_dummies(test)"
   ]
  },
  {
   "cell_type": "code",
   "execution_count": null,
   "metadata": {},
   "outputs": [],
   "source": [
    "# Get an idea of the remaining categorical variable\n",
    "#cat_cols_train_, num_cols_train_ = get_cat_num_df(train_)\n",
    "#cat_cols_test_, num_cols_test_ = get_cat_num_df(test_)"
   ]
  },
  {
   "cell_type": "code",
   "execution_count": null,
   "metadata": {},
   "outputs": [],
   "source": [
    "#num_cols_train_.columns"
   ]
  },
  {
   "cell_type": "code",
   "execution_count": null,
   "metadata": {
    "code_folding": [
     0
    ]
   },
   "outputs": [],
   "source": [
    "def get_non_common_columns(df1, df2):\n",
    "    \"\"\"Get non common values.\n",
    "\n",
    "    Given two dataframes, df1 and df2, find the values\n",
    "    that are not common. This is the union of value that\n",
    "    are in df1 but not in df2 and viceversa.\n",
    "    \"\"\"\n",
    "    # Get values that are in df1 but not in df2\n",
    "    a = set((df1.columns).difference(df2.columns))\n",
    "    # Get values that are in df2 but not in df1\n",
    "    b = set((df2.columns).difference(df1.columns))    \n",
    "    return a.difference(b)"
   ]
  },
  {
   "cell_type": "code",
   "execution_count": null,
   "metadata": {
    "scrolled": true
   },
   "outputs": [],
   "source": [
    "# From this print out we can see that there are some entries that are not commonly \n",
    "# shared between test and train sets\n",
    "\n",
    "print(\"Present in TRAIN but not in TEST:\\n\", get_non_common_columns(train_, test_))\n",
    "print(\"Present in TEST but not in TRAIN:\\n\", get_non_common_columns(test_, train_))    "
   ]
  },
  {
   "cell_type": "code",
   "execution_count": null,
   "metadata": {},
   "outputs": [],
   "source": [
    "#a_minus_target = list(get_non_common_columns(train_, test_))\n",
    "#a_minus_target.remove(\"SalePrice\")"
   ]
  },
  {
   "cell_type": "code",
   "execution_count": null,
   "metadata": {},
   "outputs": [],
   "source": [
    "#train_ = train_.drop(columns = a_minus_target)\n",
    "#test_ = test_.drop(columns = list(get_non_common_columns(test_, train_)))"
   ]
  },
  {
   "cell_type": "code",
   "execution_count": null,
   "metadata": {},
   "outputs": [],
   "source": [
    "#train = train_\n",
    "#test = test_"
   ]
  },
  {
   "cell_type": "markdown",
   "metadata": {},
   "source": [
    "- The dimensions now match, meanining we have the same number of columns/explainers. \n",
    "- The extra column is due to the target variables.\n",
    "- Please note how we have less entries than the original dataset for the train set but nothing changes for the test set."
   ]
  },
  {
   "cell_type": "code",
   "execution_count": null,
   "metadata": {},
   "outputs": [],
   "source": [
    "print(train.shape)\n",
    "print(test.shape)"
   ]
  },
  {
   "cell_type": "code",
   "execution_count": null,
   "metadata": {
    "scrolled": true
   },
   "outputs": [],
   "source": [
    "print(\"Before feature selection:\", train.shape)\n",
    "df_train = train[top_numeric_features]\n",
    "print(\"After feature selection:\", df_train.shape)\n",
    "\n",
    "print(\"Before feature selection:\", test.shape)\n",
    "df_test = test[top_numeric_features.drop(\"SalePrice\")]\n",
    "print(\"After feature selection:\", df_test.shape)"
   ]
  },
  {
   "cell_type": "code",
   "execution_count": null,
   "metadata": {},
   "outputs": [],
   "source": [
    "print(train.shape, df_train.shape)\n",
    "print(test.shape, df_test.shape)"
   ]
  },
  {
   "cell_type": "code",
   "execution_count": null,
   "metadata": {
    "scrolled": true
   },
   "outputs": [],
   "source": [
    "df_train[\"SalePrice\"]"
   ]
  },
  {
   "cell_type": "code",
   "execution_count": null,
   "metadata": {
    "cell_style": "split",
    "scrolled": true
   },
   "outputs": [],
   "source": [
    "# Some extra additional check\n",
    "get_missing_values(df_train, sort_by=\"Feature\")"
   ]
  },
  {
   "cell_type": "code",
   "execution_count": null,
   "metadata": {
    "cell_style": "split",
    "scrolled": true
   },
   "outputs": [],
   "source": [
    "get_missing_values(df_test, sort_by=\"Feature\")"
   ]
  },
  {
   "cell_type": "code",
   "execution_count": null,
   "metadata": {},
   "outputs": [],
   "source": [
    "df_train.describe()"
   ]
  },
  {
   "cell_type": "code",
   "execution_count": null,
   "metadata": {
    "scrolled": true
   },
   "outputs": [],
   "source": [
    "df_train"
   ]
  },
  {
   "cell_type": "markdown",
   "metadata": {},
   "source": [
    "# Save cleaned dataset"
   ]
  },
  {
   "cell_type": "code",
   "execution_count": null,
   "metadata": {},
   "outputs": [],
   "source": [
    "print(train.shape, df_train.shape)\n",
    "print(test.shape, df_test.shape)"
   ]
  },
  {
   "cell_type": "code",
   "execution_count": null,
   "metadata": {
    "scrolled": true
   },
   "outputs": [],
   "source": [
    "#df_train[\"ID\"] = Id_train\n",
    "df_test[\"ID\"] = Id_test"
   ]
  },
  {
   "cell_type": "code",
   "execution_count": null,
   "metadata": {},
   "outputs": [],
   "source": [
    "df_test.shape"
   ]
  },
  {
   "cell_type": "code",
   "execution_count": null,
   "metadata": {},
   "outputs": [],
   "source": [
    "df_train.to_csv(\"train_clean.csv\", index=False)\n",
    "df_test.to_csv(\"test_clean.csv\", index=False)"
   ]
  },
  {
   "cell_type": "code",
   "execution_count": null,
   "metadata": {},
   "outputs": [],
   "source": [
    "!ls"
   ]
  },
  {
   "cell_type": "markdown",
   "metadata": {},
   "source": [
    "# Major lessons learnt"
   ]
  },
  {
   "cell_type": "markdown",
   "metadata": {},
   "source": [
    "- There situation where deciding how to use a feature **logged as a number** as a numerical or categorical one is not so straightforward owening to the fact that both choices work well and the differences are very small.\n",
    "- Being at least aware of the difference between train and test data is important, especially when we are asking outself if the CV results are representative for predicting the model performance on the test set."
   ]
  },
  {
   "cell_type": "code",
   "execution_count": null,
   "metadata": {},
   "outputs": [],
   "source": []
  }
 ],
 "metadata": {
  "hide_input": false,
  "kernelspec": {
   "display_name": "trainingAI",
   "language": "python",
   "name": "trainingai"
  },
  "language_info": {
   "codemirror_mode": {
    "name": "ipython",
    "version": 3
   },
   "file_extension": ".py",
   "mimetype": "text/x-python",
   "name": "python",
   "nbconvert_exporter": "python",
   "pygments_lexer": "ipython3",
   "version": "3.10.0"
  },
  "toc": {
   "base_numbering": 1,
   "nav_menu": {},
   "number_sections": true,
   "sideBar": true,
   "skip_h1_title": false,
   "title_cell": "Table of Contents",
   "title_sidebar": "Contents",
   "toc_cell": false,
   "toc_position": {
    "height": "calc(100% - 180px)",
    "left": "10px",
    "top": "150px",
    "width": "228.438px"
   },
   "toc_section_display": true,
   "toc_window_display": true
  },
  "varInspector": {
   "cols": {
    "lenName": 16,
    "lenType": 16,
    "lenVar": 40
   },
   "kernels_config": {
    "python": {
     "delete_cmd_postfix": "",
     "delete_cmd_prefix": "del ",
     "library": "var_list.py",
     "varRefreshCmd": "print(var_dic_list())"
    },
    "r": {
     "delete_cmd_postfix": ") ",
     "delete_cmd_prefix": "rm(",
     "library": "var_list.r",
     "varRefreshCmd": "cat(var_dic_list()) "
    }
   },
   "oldHeight": 427.74136400000003,
   "position": {
    "height": "811.719px",
    "left": "900.247px",
    "right": "20px",
    "top": "113px",
    "width": "682.983px"
   },
   "types_to_exclude": [
    "module",
    "function",
    "builtin_function_or_method",
    "instance",
    "_Feature"
   ],
   "varInspector_section_display": "block",
   "window_display": false
  }
 },
 "nbformat": 4,
 "nbformat_minor": 2
}
